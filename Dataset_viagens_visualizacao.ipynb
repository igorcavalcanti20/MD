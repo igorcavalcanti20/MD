{
 "cells": [
  {
   "cell_type": "code",
   "execution_count": 9,
   "id": "438f02e7",
   "metadata": {},
   "outputs": [],
   "source": [
    "import pandas as pd"
   ]
  },
  {
   "cell_type": "code",
   "execution_count": null,
   "id": "a2039a60",
   "metadata": {},
   "outputs": [],
   "source": [
    "## Codificação\n",
    "# ISO-8859-1"
   ]
  },
  {
   "cell_type": "code",
   "execution_count": null,
   "id": "7fe17bbd",
   "metadata": {},
   "outputs": [],
   "source": [
    "## Path Aline\n",
    "path = r\"\""
   ]
  },
  {
   "cell_type": "code",
   "execution_count": null,
   "id": "5fe26a3d",
   "metadata": {},
   "outputs": [],
   "source": [
    "## Path Igor\n",
    "path = r\"C:\\Users\\Igor\\Modelagem_dados\""
   ]
  },
  {
   "cell_type": "code",
   "execution_count": null,
   "id": "bb25cd42",
   "metadata": {},
   "outputs": [],
   "source": [
    "## Path Marcos\n",
    "path = r\"C:\\Users\\Marcos\\Desktop\\Projetos\\Modelagem_dados\""
   ]
  },
  {
   "cell_type": "code",
   "execution_count": 10,
   "id": "9774b93e",
   "metadata": {},
   "outputs": [],
   "source": [
    "## Path Yuri\n",
    "path = r\"C:\\Users\\igory\\Documents\\UFRPE_periodos\\6_periodo_2024\\Modelagem_dados\""
   ]
  },
  {
   "cell_type": "markdown",
   "id": "05b4ad51",
   "metadata": {},
   "source": [
    "# Importar Base de dados"
   ]
  },
  {
   "cell_type": "markdown",
   "id": "c2aa2f05",
   "metadata": {},
   "source": [
    "1. Tabelas de Pagamentos"
   ]
  },
  {
   "cell_type": "code",
   "execution_count": null,
   "id": "63ede326",
   "metadata": {},
   "outputs": [],
   "source": [
    "pagamento_2015 = pd.read_csv(path+r\"\\Pagamento\\2015_Pagamento.csv\", sep=\";\", encoding= \"ISO-8859-1\")\n",
    "pagamento_2016 = pd.read_csv(path+r\"\\Pagamento\\2016_Pagamento.csv\", sep=\";\", encoding= \"ISO-8859-1\")\n",
    "pagamento_2017 = pd.read_csv(path+r\"\\Pagamento\\2017_Pagamento.csv\", sep=\";\", encoding= \"ISO-8859-1\")\n",
    "pagamento_2018 = pd.read_csv(path+r\"\\Pagamento\\2018_Pagamento.csv\", sep=\";\", encoding= \"ISO-8859-1\")\n",
    "pagamento_2019 = pd.read_csv(path+r\"\\Pagamento\\2019_Pagamento.csv\", sep=\";\", encoding= \"ISO-8859-1\")\n",
    "pagamento_2020 = pd.read_csv(path+r\"\\Pagamento\\2020_Pagamento.csv\", sep=\";\", encoding= \"ISO-8859-1\")\n",
    "pagamento_2021 = pd.read_csv(path+r\"\\Pagamento\\2021_Pagamento.csv\", sep=\";\", encoding= \"ISO-8859-1\")\n",
    "pagamento_2022 = pd.read_csv(path+r\"\\Pagamento\\2022_Pagamento.csv\", sep=\";\", encoding= \"ISO-8859-1\")"
   ]
  },
  {
   "cell_type": "markdown",
   "id": "9d9c1a48",
   "metadata": {},
   "source": [
    "2. Tabelas de Passagens"
   ]
  },
  {
   "cell_type": "code",
   "execution_count": null,
   "id": "6da7d872",
   "metadata": {},
   "outputs": [],
   "source": [
    "passagem_2015 = pd.read_csv(path+r\"\\Passagem\\2015_Passagem.csv\", sep=\";\", encoding= \"ISO-8859-1\")\n",
    "passagem_2016 = pd.read_csv(path+r\"\\Passagem\\2016_Passagem.csv\", sep=\";\", encoding= \"ISO-8859-1\")\n",
    "passagem_2017 = pd.read_csv(path+r\"\\Passagem\\2017_Passagem.csv\", sep=\";\", encoding= \"ISO-8859-1\")\n",
    "passagem_2018 = pd.read_csv(path+r\"\\Passagem\\2018_Passagem.csv\", sep=\";\", encoding= \"ISO-8859-1\")\n",
    "passagem_2019 = pd.read_csv(path+r\"\\Passagem\\2019_Passagem.csv\", sep=\";\", encoding= \"ISO-8859-1\")\n",
    "passagem_2020 = pd.read_csv(path+r\"\\Passagem\\2020_Passagem.csv\", sep=\";\", encoding= \"ISO-8859-1\")\n",
    "passagem_2021 = pd.read_csv(path+r\"\\Passagem\\2021_Passagem.csv\", sep=\";\", encoding= \"ISO-8859-1\")\n",
    "passagem_2022 = pd.read_csv(path+r\"\\Passagem\\2022_Passagem.csv\", sep=\";\", encoding= \"ISO-8859-1\")"
   ]
  },
  {
   "cell_type": "markdown",
   "id": "f06254f1",
   "metadata": {},
   "source": [
    "3. Tabelas de Trechos"
   ]
  },
  {
   "cell_type": "code",
   "execution_count": null,
   "id": "c3bfb928",
   "metadata": {},
   "outputs": [],
   "source": [
    "trecho_2015 = pd.read_csv(path+r\"\\Trecho\\2015_Trecho.csv\", sep=\";\", encoding= \"ISO-8859-1\")\n",
    "trecho_2016 = pd.read_csv(path+r\"\\Trecho\\2016_Trecho.csv\", sep=\";\", encoding= \"ISO-8859-1\")\n",
    "trecho_2017 = pd.read_csv(path+r\"\\Trecho\\2017_Trecho.csv\", sep=\";\", encoding= \"ISO-8859-1\")\n",
    "trecho_2018 = pd.read_csv(path+r\"\\Trecho\\2018_Trecho.csv\", sep=\";\", encoding= \"ISO-8859-1\")\n",
    "trecho_2019 = pd.read_csv(path+r\"\\Trecho\\2019_Trecho.csv\", sep=\";\", encoding= \"ISO-8859-1\")\n",
    "trecho_2020 = pd.read_csv(path+r\"\\Trecho\\2020_Trecho.csv\", sep=\";\", encoding= \"ISO-8859-1\")\n",
    "trecho_2021 = pd.read_csv(path+r\"\\Trecho\\2021_Trecho.csv\", sep=\";\", encoding= \"ISO-8859-1\")\n",
    "trecho_2022 = pd.read_csv(path+r\"\\Trecho\\2022_Trecho.csv\", sep=\";\", encoding= \"ISO-8859-1\")"
   ]
  },
  {
   "cell_type": "markdown",
   "id": "16550184",
   "metadata": {},
   "source": [
    "4. Tabelas de Viagens"
   ]
  },
  {
   "cell_type": "code",
   "execution_count": 11,
   "id": "431d55c9",
   "metadata": {},
   "outputs": [],
   "source": [
    "viagem_2015 = pd.read_csv(path+r\"\\Viagem\\2015_Viagem.csv\", sep=\";\", encoding= \"ISO-8859-1\")\n",
    "viagem_2016 = pd.read_csv(path+r\"\\Viagem\\2016_Viagem.csv\", sep=\";\", encoding= \"ISO-8859-1\")\n",
    "viagem_2017 = pd.read_csv(path+r\"\\Viagem\\2017_Viagem.csv\", sep=\";\", encoding= \"ISO-8859-1\", dtype={'Função': str})\n",
    "viagem_2018 = pd.read_csv(path+r\"\\Viagem\\2018_Viagem.csv\", sep=\";\", encoding= \"ISO-8859-1\")\n",
    "viagem_2019 = pd.read_csv(path+r\"\\Viagem\\2019_Viagem.csv\", sep=\";\", encoding= \"ISO-8859-1\")\n",
    "viagem_2020 = pd.read_csv(path+r\"\\Viagem\\2020_Viagem.csv\", sep=\";\", encoding= \"ISO-8859-1\")\n",
    "viagem_2021 = pd.read_csv(path+r\"\\Viagem\\2021_Viagem.csv\", sep=\";\", encoding= \"ISO-8859-1\")\n",
    "viagem_2022 = pd.read_csv(path+r\"\\Viagem\\2022_Viagem.csv\", sep=\";\", encoding= \"ISO-8859-1\")"
   ]
  },
  {
   "cell_type": "markdown",
   "id": "43fbec77",
   "metadata": {},
   "source": [
    "# Tratamento dos dados de Viagem"
   ]
  },
  {
   "cell_type": "markdown",
   "id": "8c1df5d1",
   "metadata": {},
   "source": [
    "1. Remoção de colunas sem utilidade"
   ]
  },
  {
   "cell_type": "code",
   "execution_count": null,
   "id": "da3e8cc3",
   "metadata": {
    "scrolled": true
   },
   "outputs": [],
   "source": [
    "viagem_2015.drop(['Número da Proposta (PCDP)','Viagem Urgente','Justificativa Urgência Viagem','Código órgão solicitante', 'Nome órgão solicitante', 'Descrição Função','Motivo', 'Nome do órgão superior'], axis=1, inplace=True)\n",
    "viagem_2016.drop(['Número da Proposta (PCDP)','Viagem Urgente','Justificativa Urgência Viagem','Código órgão solicitante', 'Nome órgão solicitante', 'Descrição Função','Motivo', 'Nome do órgão superior'], axis=1, inplace=True)\n",
    "viagem_2017.drop(['Número da Proposta (PCDP)','Viagem Urgente','Justificativa Urgência Viagem','Código órgão solicitante', 'Nome órgão solicitante', 'Descrição Função','Motivo', 'Nome do órgão superior'], axis=1, inplace=True)\n",
    "viagem_2018.drop(['Número da Proposta (PCDP)','Viagem Urgente','Justificativa Urgência Viagem','Código órgão solicitante', 'Nome órgão solicitante', 'Descrição Função','Motivo', 'Nome do órgão superior'], axis=1, inplace=True)\n",
    "viagem_2019.drop(['Número da Proposta (PCDP)','Viagem Urgente','Justificativa Urgência Viagem','Código órgão solicitante', 'Nome órgão solicitante', 'Descrição Função','Motivo', 'Nome do órgão superior'], axis=1, inplace=True)\n",
    "viagem_2020.drop(['Número da Proposta (PCDP)','Viagem Urgente','Justificativa Urgência Viagem','Código órgão solicitante', 'Nome órgão solicitante', 'Descrição Função','Motivo', 'Nome do órgão superior'], axis=1, inplace=True)\n",
    "viagem_2021.drop(['Número da Proposta (PCDP)','Viagem Urgente','Justificativa Urgência Viagem','Código órgão solicitante', 'Nome órgão solicitante', 'Descrição Função','Motivo', 'Nome do órgão superior'], axis=1, inplace=True)\n",
    "viagem_2022.drop(['Número da Proposta (PCDP)','Viagem Urgente','Justificativa Urgência Viagem','Código órgão solicitante', 'Nome órgão solicitante', 'Descrição Função','Motivo', 'Nome do órgão superior'], axis=1, inplace=True)"
   ]
  },
  {
   "cell_type": "markdown",
   "id": "ed37167a",
   "metadata": {},
   "source": [
    "2. Divisão dos dados"
   ]
  },
  {
   "cell_type": "code",
   "execution_count": null,
   "id": "34e47795",
   "metadata": {},
   "outputs": [],
   "source": [
    "# Criar a tabela Viajante\n",
    "\n",
    "viajante_2015 = viagem_2015[['CPF viajante', 'Nome', 'Cargo', 'Função']].copy()\n",
    "viajante_2015.rename(columns={'CPF viajante':'cpf_viajante', 'Nome':'cargo_viajante', 'Cargo':'cargo_viajante', 'Função':'funcao_viajante'}, inplace=True)\n",
    "\n",
    "viajante_2016 = viagem_2016[['CPF viajante', 'Nome', 'Cargo', 'Função']].copy()\n",
    "viajante_2016.rename(columns={'CPF viajante':'cpf_viajante', 'Nome':'nome_viajante', 'Cargo':'cargo_viajante', 'Função':'funcao_viajante'}, inplace=True)\n",
    "\n",
    "viajante_2017 = viagem_2017[['CPF viajante', 'Nome', 'Cargo', 'Função']].copy()\n",
    "viajante_2017.rename(columns={'CPF viajante':'cpf_viajante', 'Nome':'nome_viajante', 'Cargo':'cargo_viajante', 'Função':'funcao_viajante'}, inplace=True)\n",
    "\n",
    "viajante_2018 = viagem_2018[['CPF viajante', 'Nome', 'Cargo', 'Função']].copy()\n",
    "viajante_2018.rename(columns={'CPF viajante':'cpf_viajante', 'Nome':'nome_viajante', 'Cargo':'cargo_viajante', 'Função':'funcao_viajante'}, inplace=True)\n",
    "\n",
    "viajante_2019 = viagem_2019[['CPF viajante', 'Nome', 'Cargo', 'Função']].copy()\n",
    "viajante_2019.rename(columns={'CPF viajante':'cpf_viajante', 'Nome':'nome_viajante', 'Cargo':'cargo_viajante', 'Função':'funcao_viajante'}, inplace=True)\n",
    "\n",
    "viajante_2020 = viagem_2020[['CPF viajante', 'Nome', 'Cargo', 'Função']].copy()\n",
    "viajante_2020.rename(columns={'CPF viajante':'cpf_viajante', 'Nome':'nome_viajante', 'Cargo':'cargo_viajante', 'Função':'funcao_viajante'}, inplace=True)\n",
    "\n",
    "viajante_2021 = viagem_2021[['CPF viajante', 'Nome', 'Cargo', 'Função']].copy()\n",
    "viajante_2021.rename(columns={'CPF viajante':'cpf_viajante', 'Nome':'nome_viajante', 'Cargo':'cargo_viajante', 'Função':'funcao_viajante'}, inplace=True)\n",
    "\n",
    "viajante_2022 = viagem_2022[['CPF viajante', 'Nome', 'Cargo', 'Função']].copy()\n",
    "viajante_2022.rename(columns={'CPF viajante':'cpf_viajante', 'Nome':'nome_viajante', 'Cargo':'cargo_viajante', 'Função':'funcao_viajante'}, inplace=True)\n",
    "\n",
    "# Remover acentuação\n",
    "viajante_2015['nome_viajante'] = viajante_2015['nome_viajante'].str.normalize('NFKD').str.encode('ascii', 'ignore').str.decode('utf-8')\n",
    "viajante_2016['nome_viajante'] = viajante_2016['nome_viajante'].str.normalize('NFKD').str.encode('ascii', 'ignore').str.decode('utf-8')\n",
    "viajante_2017['nome_viajante'] = viajante_2017['nome_viajante'].str.normalize('NFKD').str.encode('ascii', 'ignore').str.decode('utf-8')\n",
    "viajante_2018['nome_viajante'] = viajante_2018['nome_viajante'].str.normalize('NFKD').str.encode('ascii', 'ignore').str.decode('utf-8')\n",
    "viajante_2019['nome_viajante'] = viajante_2019['nome_viajante'].str.normalize('NFKD').str.encode('ascii', 'ignore').str.decode('utf-8')\n",
    "viajante_2020['nome_viajante'] = viajante_2020['nome_viajante'].str.normalize('NFKD').str.encode('ascii', 'ignore').str.decode('utf-8')\n",
    "viajante_2021['nome_viajante'] = viajante_2021['nome_viajante'].str.normalize('NFKD').str.encode('ascii', 'ignore').str.decode('utf-8')\n",
    "viajante_2022['nome_viajante'] = viajante_2022['nome_viajante'].str.normalize('NFKD').str.encode('ascii', 'ignore').str.decode('utf-8')\n",
    "\n",
    "\n",
    "viajante_2015['cargo_viajante'] = viajante_2015['cargo_viajante'].str.normalize('NFKD').str.encode('ascii', 'ignore').str.decode('utf-8')\n",
    "viajante_2016['cargo_viajante'] = viajante_2016['cargo_viajante'].str.normalize('NFKD').str.encode('ascii', 'ignore').str.decode('utf-8')\n",
    "viajante_2017['cargo_viajante'] = viajante_2017['cargo_viajante'].str.normalize('NFKD').str.encode('ascii', 'ignore').str.decode('utf-8')\n",
    "viajante_2018['cargo_viajante'] = viajante_2018['cargo_viajante'].str.normalize('NFKD').str.encode('ascii', 'ignore').str.decode('utf-8')\n",
    "viajante_2019['cargo_viajante'] = viajante_2019['cargo_viajante'].str.normalize('NFKD').str.encode('ascii', 'ignore').str.decode('utf-8')\n",
    "viajante_2020['cargo_viajante'] = viajante_2020['cargo_viajante'].str.normalize('NFKD').str.encode('ascii', 'ignore').str.decode('utf-8')\n",
    "viajante_2021['cargo_viajante'] = viajante_2021['cargo_viajante'].str.normalize('NFKD').str.encode('ascii', 'ignore').str.decode('utf-8')\n",
    "viajante_2022['cargo_viajante'] = viajante_2022['cargo_viajante'].str.normalize('NFKD').str.encode('ascii', 'ignore').str.decode('utf-8')\n",
    "\n",
    "viajante_2015['funcao_viajante'] = viajante_2015['funcao_viajante'].str.normalize('NFKD').str.encode('ascii', 'ignore').str.decode('utf-8')\n",
    "viajante_2016['funcao_viajante'] = viajante_2016['funcao_viajante'].str.normalize('NFKD').str.encode('ascii', 'ignore').str.decode('utf-8')\n",
    "viajante_2017['funcao_viajante'] = viajante_2017['funcao_viajante'].str.normalize('NFKD').str.encode('ascii', 'ignore').str.decode('utf-8')\n",
    "viajante_2018['funcao_viajante'] = viajante_2018['funcao_viajante'].str.normalize('NFKD').str.encode('ascii', 'ignore').str.decode('utf-8')\n",
    "viajante_2019['funcao_viajante'] = viajante_2019['funcao_viajante'].str.normalize('NFKD').str.encode('ascii', 'ignore').str.decode('utf-8')\n",
    "viajante_2020['funcao_viajante'] = viajante_2020['funcao_viajante'].str.normalize('NFKD').str.encode('ascii', 'ignore').str.decode('utf-8')\n",
    "viajante_2021['funcao_viajante'] = viajante_2021['funcao_viajante'].str.normalize('NFKD').str.encode('ascii', 'ignore').str.decode('utf-8')\n",
    "viajante_2022['funcao_viajante'] = viajante_2022['funcao_viajante'].str.normalize('NFKD').str.encode('ascii', 'ignore').str.decode('utf-8')"
   ]
  },
  {
   "cell_type": "markdown",
   "id": "9abfab84",
   "metadata": {},
   "source": [
    "3. Remover as colunas de Viajante da Tabela Viagens"
   ]
  },
  {
   "cell_type": "code",
   "execution_count": null,
   "id": "f0811715",
   "metadata": {},
   "outputs": [],
   "source": [
    "viagem_2015.drop(['CPF viajante', 'Nome', 'Cargo', 'Função'], axis=1, inplace=True)\n",
    "viagem_2016.drop(['CPF viajante', 'Nome', 'Cargo', 'Função'], axis=1, inplace=True)\n",
    "viagem_2017.drop(['CPF viajante', 'Nome', 'Cargo', 'Função'], axis=1, inplace=True)\n",
    "viagem_2018.drop(['CPF viajante', 'Nome', 'Cargo', 'Função'], axis=1, inplace=True)\n",
    "viagem_2019.drop(['CPF viajante', 'Nome', 'Cargo', 'Função'], axis=1, inplace=True)\n",
    "viagem_2020.drop(['CPF viajante', 'Nome', 'Cargo', 'Função'], axis=1, inplace=True)\n",
    "viagem_2021.drop(['CPF viajante', 'Nome', 'Cargo', 'Função'], axis=1, inplace=True)\n",
    "viagem_2022.drop(['CPF viajante', 'Nome', 'Cargo', 'Função'], axis=1, inplace=True)"
   ]
  },
  {
   "cell_type": "markdown",
   "id": "f707c403",
   "metadata": {},
   "source": [
    "4. Renomear as colunas de Viagens"
   ]
  },
  {
   "cell_type": "code",
   "execution_count": null,
   "id": "a5e8c8b8",
   "metadata": {},
   "outputs": [],
   "source": [
    "viagem_2015.rename(columns={'Identificador do processo de viagem':'id_processo_viagem', 'Situação':'situacao', 'Código do órgão superior':'codigo_orgao_superior', 'CPF viajante':'id_viajante',\n",
    "       'Período - Data de início':'periodo_data_inicio', 'Período - Data de fim':'periodo_data_fim', 'Destinos':'destino', 'Valor diárias':'valor_diarias', 'Valor passagens':'valor_passagem',\n",
    "       'Valor devolução':'valor_devolucao', 'Valor outros gastos':'valor_outros_gastos'}, inplace=True)\n",
    "\n",
    "viagem_2016.rename(columns={'Identificador do processo de viagem':'id_processo_viagem', 'Situação':'situacao', 'Código do órgão superior':'codigo_orgao_superior', 'CPF viajante':'id_viajante',\n",
    "       'Período - Data de início':'periodo_data_inicio', 'Período - Data de fim':'periodo_data_fim', 'Destinos':'destino', 'Valor diárias':'valor_diarias', 'Valor passagens':'valor_passagem',\n",
    "       'Valor devolução':'valor_devolucao', 'Valor outros gastos':'valor_outros_gastos'}, inplace=True)\n",
    "\n",
    "viagem_2017.rename(columns={'Identificador do processo de viagem':'id_processo_viagem', 'Situação':'situacao', 'Código do órgão superior':'codigo_orgao_superior', 'CPF viajante':'id_viajante',\n",
    "       'Período - Data de início':'periodo_data_inicio', 'Período - Data de fim':'periodo_data_fim', 'Destinos':'destino', 'Valor diárias':'valor_diarias', 'Valor passagens':'valor_passagem',\n",
    "       'Valor devolução':'valor_devolucao', 'Valor outros gastos':'valor_outros_gastos'}, inplace=True)\n",
    "\n",
    "viagem_2018.rename(columns={'Identificador do processo de viagem':'id_processo_viagem', 'Situação':'situacao', 'Código do órgão superior':'codigo_orgao_superior', 'CPF viajante':'id_viajante',\n",
    "       'Período - Data de início':'periodo_data_inicio', 'Período - Data de fim':'periodo_data_fim', 'Destinos':'destino', 'Valor diárias':'valor_diarias', 'Valor passagens':'valor_passagem',\n",
    "       'Valor devolução':'valor_devolucao', 'Valor outros gastos':'valor_outros_gastos'}, inplace=True)\n",
    "\n",
    "viagem_2019.rename(columns={'Identificador do processo de viagem':'id_processo_viagem', 'Situação':'situacao', 'Código do órgão superior':'codigo_orgao_superior', 'CPF viajante':'id_viajante',\n",
    "       'Período - Data de início':'periodo_data_inicio', 'Período - Data de fim':'periodo_data_fim', 'Destinos':'destino', 'Valor diárias':'valor_diarias', 'Valor passagens':'valor_passagem',\n",
    "       'Valor devolução':'valor_devolucao', 'Valor outros gastos':'valor_outros_gastos'}, inplace=True)\n",
    "\n",
    "viagem_2020.rename(columns={'Identificador do processo de viagem':'id_processo_viagem', 'Situação':'situacao', 'Código do órgão superior':'codigo_orgao_superior', 'CPF viajante':'id_viajante',\n",
    "       'Período - Data de início':'periodo_data_inicio', 'Período - Data de fim':'periodo_data_fim', 'Destinos':'destino', 'Valor diárias':'valor_diarias', 'Valor passagens':'valor_passagem',\n",
    "       'Valor devolução':'valor_devolucao', 'Valor outros gastos':'valor_outros_gastos'}, inplace=True)\n",
    "\n",
    "viagem_2021.rename(columns={'Identificador do processo de viagem':'id_processo_viagem', 'Situação':'situacao', 'Código do órgão superior':'codigo_orgao_superior', 'CPF viajante':'id_viajante',\n",
    "       'Período - Data de início':'periodo_data_inicio', 'Período - Data de fim':'periodo_data_fim', 'Destinos':'destino', 'Valor diárias':'valor_diarias', 'Valor passagens':'valor_passagem',\n",
    "       'Valor devolução':'valor_devolucao', 'Valor outros gastos':'valor_outros_gastos'}, inplace=True)\n",
    "\n",
    "viagem_2022.rename(columns={'Identificador do processo de viagem':'id_processo_viagem', 'Situação':'situacao', 'Código do órgão superior':'codigo_orgao_superior', 'CPF viajante':'id_viajante',\n",
    "       'Período - Data de início':'periodo_data_inicio', 'Período - Data de fim':'periodo_data_fim', 'Destinos':'destino', 'Valor diárias':'valor_diarias', 'Valor passagens':'valor_passagem',\n",
    "       'Valor devolução':'valor_devolucao', 'Valor outros gastos':'valor_outros_gastos'}, inplace=True)"
   ]
  },
  {
   "cell_type": "markdown",
   "metadata": {},
   "source": [
    "5. Remover acentuação das tabelas de viagens"
   ]
  },
  {
   "cell_type": "code",
   "execution_count": null,
   "id": "aeac955e",
   "metadata": {},
   "outputs": [],
   "source": []
  },
  {
   "cell_type": "markdown",
   "id": "c5897df2",
   "metadata": {},
   "source": [
    "6. Exportar as tabelas de viagens"
   ]
  },
  {
   "cell_type": "markdown",
   "id": "ffb33efb",
   "metadata": {},
   "source": []
  },
  {
   "cell_type": "markdown",
   "id": "0bc55887",
   "metadata": {},
   "source": [
    "7. Exportar as tabelas de viajantes"
   ]
  },
  {
   "cell_type": "code",
   "execution_count": null,
   "id": "65d98f8a",
   "metadata": {},
   "outputs": [],
   "source": []
  },
  {
   "cell_type": "markdown",
   "id": "e8d4f9f7",
   "metadata": {},
   "source": [
    "# Tratamento de dados (Pagamentos)"
   ]
  },
  {
   "cell_type": "code",
   "execution_count": null,
   "id": "1ea30cca",
   "metadata": {},
   "outputs": [],
   "source": [
    "pagamento_2015.drop(['Codigo do órgão pagador', 'Nome do órgao pagador','Código da unidade gestora pagadora','Nome da unidade gestora pagadora','Número da Proposta (PCDP)','Nome do órgão superior'], axis=1, inplace=True)\n",
    "pagamento_2016.drop(['Codigo do órgão pagador', 'Nome do órgao pagador','Código da unidade gestora pagadora','Nome da unidade gestora pagadora','Número da Proposta (PCDP)','Nome do órgão superior'], axis=1, inplace=True)\n",
    "pagamento_2017.drop(['Codigo do órgão pagador', 'Nome do órgao pagador','Código da unidade gestora pagadora','Nome da unidade gestora pagadora','Número da Proposta (PCDP)','Nome do órgão superior'], axis=1, inplace=True)\n",
    "pagamento_2018.drop(['Codigo do órgão pagador', 'Nome do órgao pagador','Código da unidade gestora pagadora','Nome da unidade gestora pagadora','Número da Proposta (PCDP)','Nome do órgão superior'], axis=1, inplace=True)\n",
    "pagamento_2019.drop(['Codigo do órgão pagador', 'Nome do órgao pagador','Código da unidade gestora pagadora','Nome da unidade gestora pagadora','Número da Proposta (PCDP)','Nome do órgão superior'], axis=1, inplace=True)\n",
    "pagamento_2020.drop(['Codigo do órgão pagador', 'Nome do órgao pagador','Código da unidade gestora pagadora','Nome da unidade gestora pagadora','Número da Proposta (PCDP)','Nome do órgão superior'], axis=1, inplace=True)\n",
    "pagamento_2021.drop(['Codigo do órgão pagador', 'Nome do órgao pagador','Código da unidade gestora pagadora','Nome da unidade gestora pagadora','Número da Proposta (PCDP)','Nome do órgão superior'], axis=1, inplace=True)\n",
    "pagamento_2022.drop(['Codigo do órgão pagador', 'Nome do órgao pagador','Código da unidade gestora pagadora','Nome da unidade gestora pagadora','Número da Proposta (PCDP)','Nome do órgão superior'], axis=1, inplace=True)"
   ]
  },
  {
   "cell_type": "code",
   "execution_count": null,
   "id": "873804c3",
   "metadata": {},
   "outputs": [],
   "source": [
    "pagamento_2015.rename(columns={'Identificador do processo de viagem':'id_processo_viagem','Código do órgão superior':'codigo_orgao_superior','Nome do órgão superior':'nome_orgao_superior','Valor': 'valor_despesa','Tipo de pagamento':'tipo_pagamento'},inplace=True)\n",
    "pagamento_2016.rename(columns={'Identificador do processo de viagem':'id_processo_viagem','Código do órgão superior':'codigo_orgao_superior','Nome do órgão superior':'nome_orgao_superior','Valor': 'valor_despesa','Tipo de pagamento':'tipo_pagamento'},inplace=True)\n",
    "pagamento_2017.rename(columns={'Identificador do processo de viagem':'id_processo_viagem','Código do órgão superior':'codigo_orgao_superior','Nome do órgão superior':'nome_orgao_superior','Valor': 'valor_despesa','Tipo de pagamento':'tipo_pagamento'},inplace=True)\n",
    "pagamento_2018.rename(columns={'Identificador do processo de viagem':'id_processo_viagem','Código do órgão superior':'codigo_orgao_superior','Nome do órgão superior':'nome_orgao_superior','Valor': 'valor_despesa','Tipo de pagamento':'tipo_pagamento'},inplace=True)\n",
    "pagamento_2019.rename(columns={'Identificador do processo de viagem':'id_processo_viagem','Código do órgão superior':'codigo_orgao_superior','Nome do órgão superior':'nome_orgao_superior','Valor': 'valor_despesa','Tipo de pagamento':'tipo_pagamento'},inplace=True)\n",
    "pagamento_2020.rename(columns={'Identificador do processo de viagem':'id_processo_viagem','Código do órgão superior':'codigo_orgao_superior','Nome do órgão superior':'nome_orgao_superior','Valor': 'valor_despesa','Tipo de pagamento':'tipo_pagamento'},inplace=True)\n",
    "pagamento_2021.rename(columns={'Identificador do processo de viagem':'id_processo_viagem','Código do órgão superior':'codigo_orgao_superior','Nome do órgão superior':'nome_orgao_superior','Valor': 'valor_despesa','Tipo de pagamento':'tipo_pagamento'},inplace=True)\n",
    "pagamento_2022.rename(columns={'Identificador do processo de viagem':'id_processo_viagem','Código do órgão superior':'codigo_orgao_superior','Nome do órgão superior':'nome_orgao_superior','Valor': 'valor_despesa','Tipo de pagamento':'tipo_pagamento'},inplace=True)\n"
   ]
  },
  {
   "cell_type": "code",
   "execution_count": null,
   "id": "af6f327b",
   "metadata": {},
   "outputs": [],
   "source": []
  },
  {
   "cell_type": "markdown",
   "id": "2e47dfef",
   "metadata": {},
   "source": [
    "# Tratamento Trechos"
   ]
  },
  {
   "cell_type": "code",
   "execution_count": null,
   "id": "64c25039",
   "metadata": {},
   "outputs": [],
   "source": [
    "trecho_2015.drop(['Número da Proposta (PCDP)', 'Missao?', 'Número Diárias'], axis=1, inplace=True)\n",
    "trecho_2016.drop(['Número da Proposta (PCDP)', 'Missao?', 'Número Diárias'], axis=1, inplace=True)\n",
    "trecho_2017.drop(['Número da Proposta (PCDP)', 'Missao?', 'Número Diárias'], axis=1, inplace=True)\n",
    "trecho_2018.drop(['Número da Proposta (PCDP)', 'Missao?', 'Número Diárias'], axis=1, inplace=True)\n",
    "trecho_2019.drop(['Número da Proposta (PCDP)', 'Missao?', 'Número Diárias'], axis=1, inplace=True)\n",
    "trecho_2020.drop(['Número da Proposta (PCDP)', 'Missao?', 'Número Diárias'], axis=1, inplace=True)\n",
    "trecho_2021.drop(['Número da Proposta (PCDP)', 'Missao?', 'Número Diárias'], axis=1, inplace=True)\n",
    "trecho_2022.drop(['Número da Proposta (PCDP)', 'Missao?', 'Número Diárias'], axis=1, inplace=True)"
   ]
  },
  {
   "cell_type": "code",
   "execution_count": null,
   "id": "575cf9fd",
   "metadata": {},
   "outputs": [],
   "source": [
    "trecho_2015.rename(columns={'Identificador do processo de viagem ':'id_processo_viagem', 'Sequência Trecho':'sequencia_trecho','Origem - Data':'origem_data', 'Origem - País':'origem_pais', 'Origem - UF':'origem_uf', 'Origem - Cidade':'origem_cidade','Destino - Data':'destino_data', 'Destino - País':'destino_pais', 'Destino - UF':'destino_uf', 'Destino - Cidade':'destino_cidade','Meio de transporte':'meio_transporte'},inplace=True)\n",
    "trecho_2016.rename(columns={'Identificador do processo de viagem ':'id_processo_viagem', 'Sequência Trecho':'sequencia_trecho','Origem - Data':'origem_data', 'Origem - País':'origem_pais', 'Origem - UF':'origem_uf', 'Origem - Cidade':'origem_cidade','Destino - Data':'destino_data', 'Destino - País':'destino_pais', 'Destino - UF':'destino_uf', 'Destino - Cidade':'destino_cidade','Meio de transporte':'meio_transporte'},inplace=True)\n",
    "trecho_2017.rename(columns={'Identificador do processo de viagem ':'id_processo_viagem', 'Sequência Trecho':'sequencia_trecho','Origem - Data':'origem_data', 'Origem - País':'origem_pais', 'Origem - UF':'origem_uf', 'Origem - Cidade':'origem_cidade','Destino - Data':'destino_data', 'Destino - País':'destino_pais', 'Destino - UF':'destino_uf', 'Destino - Cidade':'destino_cidade','Meio de transporte':'meio_transporte'},inplace=True)\n",
    "trecho_2018.rename(columns={'Identificador do processo de viagem ':'id_processo_viagem', 'Sequência Trecho':'sequencia_trecho','Origem - Data':'origem_data', 'Origem - País':'origem_pais', 'Origem - UF':'origem_uf', 'Origem - Cidade':'origem_cidade','Destino - Data':'destino_data', 'Destino - País':'destino_pais', 'Destino - UF':'destino_uf', 'Destino - Cidade':'destino_cidade','Meio de transporte':'meio_transporte'},inplace=True)\n",
    "trecho_2019.rename(columns={'Identificador do processo de viagem ':'id_processo_viagem', 'Sequência Trecho':'sequencia_trecho','Origem - Data':'origem_data', 'Origem - País':'origem_pais', 'Origem - UF':'origem_uf', 'Origem - Cidade':'origem_cidade','Destino - Data':'destino_data', 'Destino - País':'destino_pais', 'Destino - UF':'destino_uf', 'Destino - Cidade':'destino_cidade','Meio de transporte':'meio_transporte'},inplace=True)\n",
    "trecho_2020.rename(columns={'Identificador do processo de viagem ':'id_processo_viagem', 'Sequência Trecho':'sequencia_trecho','Origem - Data':'origem_data', 'Origem - País':'origem_pais', 'Origem - UF':'origem_uf', 'Origem - Cidade':'origem_cidade','Destino - Data':'destino_data', 'Destino - País':'destino_pais', 'Destino - UF':'destino_uf', 'Destino - Cidade':'destino_cidade','Meio de transporte':'meio_transporte'},inplace=True)\n",
    "trecho_2021.rename(columns={'Identificador do processo de viagem ':'id_processo_viagem', 'Sequência Trecho':'sequencia_trecho','Origem - Data':'origem_data', 'Origem - País':'origem_pais', 'Origem - UF':'origem_uf', 'Origem - Cidade':'origem_cidade','Destino - Data':'destino_data', 'Destino - País':'destino_pais', 'Destino - UF':'destino_uf', 'Destino - Cidade':'destino_cidade','Meio de transporte':'meio_transporte'},inplace=True)\n",
    "trecho_2022.rename(columns={'Identificador do processo de viagem ':'id_processo_viagem', 'Sequência Trecho':'sequencia_trecho','Origem - Data':'origem_data', 'Origem - País':'origem_pais', 'Origem - UF':'origem_uf', 'Origem - Cidade':'origem_cidade','Destino - Data':'destino_data', 'Destino - País':'destino_pais', 'Destino - UF':'destino_uf', 'Destino - Cidade':'destino_cidade','Meio de transporte':'meio_transporte'},inplace=True)"
   ]
  },
  {
   "cell_type": "code",
   "execution_count": null,
   "id": "0d8de83d",
   "metadata": {},
   "outputs": [],
   "source": [
    "trecho_2015.columns"
   ]
  },
  {
   "cell_type": "code",
   "execution_count": null,
   "id": "a2833fe4",
   "metadata": {},
   "outputs": [],
   "source": [
    "pagamento_2015.columns"
   ]
  },
  {
   "cell_type": "code",
   "execution_count": null,
   "id": "96f26dc9",
   "metadata": {},
   "outputs": [],
   "source": []
  },
  {
   "cell_type": "code",
   "execution_count": null,
   "id": "e6c5dd1b",
   "metadata": {},
   "outputs": [],
   "source": []
  },
  {
   "cell_type": "code",
   "execution_count": null,
   "id": "ad465481",
   "metadata": {},
   "outputs": [],
   "source": []
  }
 ],
 "metadata": {
  "kernelspec": {
   "display_name": "Python 3 (ipykernel)",
   "language": "python",
   "name": "python3"
  },
  "language_info": {
   "codemirror_mode": {
    "name": "ipython",
    "version": 3
   },
   "file_extension": ".py",
   "mimetype": "text/x-python",
   "name": "python",
   "nbconvert_exporter": "python",
   "pygments_lexer": "ipython3",
   "version": "3.11.7"
  }
 },
 "nbformat": 4,
 "nbformat_minor": 5
}
