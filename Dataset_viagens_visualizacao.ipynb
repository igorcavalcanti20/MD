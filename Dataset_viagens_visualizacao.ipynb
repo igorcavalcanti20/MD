{
 "cells": [
  {
   "cell_type": "code",
   "execution_count": 5,
   "id": "438f02e7",
   "metadata": {},
   "outputs": [],
   "source": [
    "import pandas as pd"
   ]
  },
  {
   "cell_type": "code",
   "execution_count": 3,
   "id": "a2039a60",
   "metadata": {},
   "outputs": [],
   "source": [
    "## Codificação\n",
    "# ISO-8859-1"
   ]
  },
  {
   "cell_type": "code",
   "execution_count": 6,
   "id": "7fe17bbd",
   "metadata": {},
   "outputs": [],
   "source": [
    "## Path Aline\n",
    "path = r\"/home/aline/Documentos/Modelagem_dados\""
   ]
  },
  {
   "cell_type": "code",
   "execution_count": 5,
   "id": "5fe26a3d",
   "metadata": {},
   "outputs": [],
   "source": [
    "## Path Igor\n",
    "path = r\"C:\\Users\\Igor\\Modelagem_dados\""
   ]
  },
  {
   "cell_type": "code",
   "execution_count": 6,
   "id": "bb25cd42",
   "metadata": {},
   "outputs": [],
   "source": [
    "## Path Marcos\n",
    "path = r\"C:\\Users\\Marcos\\Desktop\\Projetos\\Modelagem_dados\""
   ]
  },
  {
   "cell_type": "code",
   "execution_count": 7,
   "id": "9774b93e",
   "metadata": {},
   "outputs": [],
   "source": [
    "## Path Yuri\n",
    "path = r\"C:\\Users\\igory\\Documents\\UFRPE_periodos\\6_periodo_2024\\Modelagem_dados\""
   ]
  },
  {
   "cell_type": "markdown",
   "id": "05b4ad51",
   "metadata": {},
   "source": [
    "# Importar Base de dados"
   ]
  },
  {
   "cell_type": "markdown",
   "id": "c2aa2f05",
   "metadata": {},
   "source": [
    "1. Tabelas de Pagamentos"
   ]
  },
  {
   "cell_type": "code",
   "execution_count": 8,
   "id": "63ede326",
   "metadata": {},
   "outputs": [
    {
     "ename": "FileNotFoundError",
     "evalue": "[Errno 2] No such file or directory: 'C:\\\\Users\\\\igory\\\\Documents\\\\UFRPE_periodos\\\\6_periodo_2024\\\\Modelagem_dados\\\\Pagamento\\\\2015_Pagamento.csv'",
     "output_type": "error",
     "traceback": [
      "\u001b[0;31m---------------------------------------------------------------------------\u001b[0m",
      "\u001b[0;31mFileNotFoundError\u001b[0m                         Traceback (most recent call last)",
      "Cell \u001b[0;32mIn[8], line 1\u001b[0m\n\u001b[0;32m----> 1\u001b[0m pagamento_2015 \u001b[38;5;241m=\u001b[39m \u001b[43mpd\u001b[49m\u001b[38;5;241;43m.\u001b[39;49m\u001b[43mread_csv\u001b[49m\u001b[43m(\u001b[49m\u001b[43mpath\u001b[49m\u001b[38;5;241;43m+\u001b[39;49m\u001b[38;5;124;43mr\u001b[39;49m\u001b[38;5;124;43m\"\u001b[39;49m\u001b[38;5;124;43m\\\u001b[39;49m\u001b[38;5;124;43mPagamento\u001b[39;49m\u001b[38;5;124;43m\\\u001b[39;49m\u001b[38;5;124;43m2015_Pagamento.csv\u001b[39;49m\u001b[38;5;124;43m\"\u001b[39;49m\u001b[43m,\u001b[49m\u001b[43m \u001b[49m\u001b[43msep\u001b[49m\u001b[38;5;241;43m=\u001b[39;49m\u001b[38;5;124;43m\"\u001b[39;49m\u001b[38;5;124;43m;\u001b[39;49m\u001b[38;5;124;43m\"\u001b[39;49m\u001b[43m,\u001b[49m\u001b[43m \u001b[49m\u001b[43mencoding\u001b[49m\u001b[38;5;241;43m=\u001b[39;49m\u001b[43m \u001b[49m\u001b[38;5;124;43m\"\u001b[39;49m\u001b[38;5;124;43mISO-8859-1\u001b[39;49m\u001b[38;5;124;43m\"\u001b[39;49m\u001b[43m)\u001b[49m\n\u001b[1;32m      2\u001b[0m pagamento_2016 \u001b[38;5;241m=\u001b[39m pd\u001b[38;5;241m.\u001b[39mread_csv(path\u001b[38;5;241m+\u001b[39m\u001b[38;5;124mr\u001b[39m\u001b[38;5;124m\"\u001b[39m\u001b[38;5;124m\\\u001b[39m\u001b[38;5;124mPagamento\u001b[39m\u001b[38;5;124m\\\u001b[39m\u001b[38;5;124m2016_Pagamento.csv\u001b[39m\u001b[38;5;124m\"\u001b[39m, sep\u001b[38;5;241m=\u001b[39m\u001b[38;5;124m\"\u001b[39m\u001b[38;5;124m;\u001b[39m\u001b[38;5;124m\"\u001b[39m, encoding\u001b[38;5;241m=\u001b[39m \u001b[38;5;124m\"\u001b[39m\u001b[38;5;124mISO-8859-1\u001b[39m\u001b[38;5;124m\"\u001b[39m)\n\u001b[1;32m      3\u001b[0m pagamento_2017 \u001b[38;5;241m=\u001b[39m pd\u001b[38;5;241m.\u001b[39mread_csv(path\u001b[38;5;241m+\u001b[39m\u001b[38;5;124mr\u001b[39m\u001b[38;5;124m\"\u001b[39m\u001b[38;5;124m\\\u001b[39m\u001b[38;5;124mPagamento\u001b[39m\u001b[38;5;124m\\\u001b[39m\u001b[38;5;124m2017_Pagamento.csv\u001b[39m\u001b[38;5;124m\"\u001b[39m, sep\u001b[38;5;241m=\u001b[39m\u001b[38;5;124m\"\u001b[39m\u001b[38;5;124m;\u001b[39m\u001b[38;5;124m\"\u001b[39m, encoding\u001b[38;5;241m=\u001b[39m \u001b[38;5;124m\"\u001b[39m\u001b[38;5;124mISO-8859-1\u001b[39m\u001b[38;5;124m\"\u001b[39m)\n",
      "File \u001b[0;32m~/Documentos/MD/.venv/lib/python3.11/site-packages/pandas/io/parsers/readers.py:1026\u001b[0m, in \u001b[0;36mread_csv\u001b[0;34m(filepath_or_buffer, sep, delimiter, header, names, index_col, usecols, dtype, engine, converters, true_values, false_values, skipinitialspace, skiprows, skipfooter, nrows, na_values, keep_default_na, na_filter, verbose, skip_blank_lines, parse_dates, infer_datetime_format, keep_date_col, date_parser, date_format, dayfirst, cache_dates, iterator, chunksize, compression, thousands, decimal, lineterminator, quotechar, quoting, doublequote, escapechar, comment, encoding, encoding_errors, dialect, on_bad_lines, delim_whitespace, low_memory, memory_map, float_precision, storage_options, dtype_backend)\u001b[0m\n\u001b[1;32m   1013\u001b[0m kwds_defaults \u001b[38;5;241m=\u001b[39m _refine_defaults_read(\n\u001b[1;32m   1014\u001b[0m     dialect,\n\u001b[1;32m   1015\u001b[0m     delimiter,\n\u001b[0;32m   (...)\u001b[0m\n\u001b[1;32m   1022\u001b[0m     dtype_backend\u001b[38;5;241m=\u001b[39mdtype_backend,\n\u001b[1;32m   1023\u001b[0m )\n\u001b[1;32m   1024\u001b[0m kwds\u001b[38;5;241m.\u001b[39mupdate(kwds_defaults)\n\u001b[0;32m-> 1026\u001b[0m \u001b[38;5;28;01mreturn\u001b[39;00m \u001b[43m_read\u001b[49m\u001b[43m(\u001b[49m\u001b[43mfilepath_or_buffer\u001b[49m\u001b[43m,\u001b[49m\u001b[43m \u001b[49m\u001b[43mkwds\u001b[49m\u001b[43m)\u001b[49m\n",
      "File \u001b[0;32m~/Documentos/MD/.venv/lib/python3.11/site-packages/pandas/io/parsers/readers.py:620\u001b[0m, in \u001b[0;36m_read\u001b[0;34m(filepath_or_buffer, kwds)\u001b[0m\n\u001b[1;32m    617\u001b[0m _validate_names(kwds\u001b[38;5;241m.\u001b[39mget(\u001b[38;5;124m\"\u001b[39m\u001b[38;5;124mnames\u001b[39m\u001b[38;5;124m\"\u001b[39m, \u001b[38;5;28;01mNone\u001b[39;00m))\n\u001b[1;32m    619\u001b[0m \u001b[38;5;66;03m# Create the parser.\u001b[39;00m\n\u001b[0;32m--> 620\u001b[0m parser \u001b[38;5;241m=\u001b[39m \u001b[43mTextFileReader\u001b[49m\u001b[43m(\u001b[49m\u001b[43mfilepath_or_buffer\u001b[49m\u001b[43m,\u001b[49m\u001b[43m \u001b[49m\u001b[38;5;241;43m*\u001b[39;49m\u001b[38;5;241;43m*\u001b[39;49m\u001b[43mkwds\u001b[49m\u001b[43m)\u001b[49m\n\u001b[1;32m    622\u001b[0m \u001b[38;5;28;01mif\u001b[39;00m chunksize \u001b[38;5;129;01mor\u001b[39;00m iterator:\n\u001b[1;32m    623\u001b[0m     \u001b[38;5;28;01mreturn\u001b[39;00m parser\n",
      "File \u001b[0;32m~/Documentos/MD/.venv/lib/python3.11/site-packages/pandas/io/parsers/readers.py:1620\u001b[0m, in \u001b[0;36mTextFileReader.__init__\u001b[0;34m(self, f, engine, **kwds)\u001b[0m\n\u001b[1;32m   1617\u001b[0m     \u001b[38;5;28mself\u001b[39m\u001b[38;5;241m.\u001b[39moptions[\u001b[38;5;124m\"\u001b[39m\u001b[38;5;124mhas_index_names\u001b[39m\u001b[38;5;124m\"\u001b[39m] \u001b[38;5;241m=\u001b[39m kwds[\u001b[38;5;124m\"\u001b[39m\u001b[38;5;124mhas_index_names\u001b[39m\u001b[38;5;124m\"\u001b[39m]\n\u001b[1;32m   1619\u001b[0m \u001b[38;5;28mself\u001b[39m\u001b[38;5;241m.\u001b[39mhandles: IOHandles \u001b[38;5;241m|\u001b[39m \u001b[38;5;28;01mNone\u001b[39;00m \u001b[38;5;241m=\u001b[39m \u001b[38;5;28;01mNone\u001b[39;00m\n\u001b[0;32m-> 1620\u001b[0m \u001b[38;5;28mself\u001b[39m\u001b[38;5;241m.\u001b[39m_engine \u001b[38;5;241m=\u001b[39m \u001b[38;5;28;43mself\u001b[39;49m\u001b[38;5;241;43m.\u001b[39;49m\u001b[43m_make_engine\u001b[49m\u001b[43m(\u001b[49m\u001b[43mf\u001b[49m\u001b[43m,\u001b[49m\u001b[43m \u001b[49m\u001b[38;5;28;43mself\u001b[39;49m\u001b[38;5;241;43m.\u001b[39;49m\u001b[43mengine\u001b[49m\u001b[43m)\u001b[49m\n",
      "File \u001b[0;32m~/Documentos/MD/.venv/lib/python3.11/site-packages/pandas/io/parsers/readers.py:1880\u001b[0m, in \u001b[0;36mTextFileReader._make_engine\u001b[0;34m(self, f, engine)\u001b[0m\n\u001b[1;32m   1878\u001b[0m     \u001b[38;5;28;01mif\u001b[39;00m \u001b[38;5;124m\"\u001b[39m\u001b[38;5;124mb\u001b[39m\u001b[38;5;124m\"\u001b[39m \u001b[38;5;129;01mnot\u001b[39;00m \u001b[38;5;129;01min\u001b[39;00m mode:\n\u001b[1;32m   1879\u001b[0m         mode \u001b[38;5;241m+\u001b[39m\u001b[38;5;241m=\u001b[39m \u001b[38;5;124m\"\u001b[39m\u001b[38;5;124mb\u001b[39m\u001b[38;5;124m\"\u001b[39m\n\u001b[0;32m-> 1880\u001b[0m \u001b[38;5;28mself\u001b[39m\u001b[38;5;241m.\u001b[39mhandles \u001b[38;5;241m=\u001b[39m \u001b[43mget_handle\u001b[49m\u001b[43m(\u001b[49m\n\u001b[1;32m   1881\u001b[0m \u001b[43m    \u001b[49m\u001b[43mf\u001b[49m\u001b[43m,\u001b[49m\n\u001b[1;32m   1882\u001b[0m \u001b[43m    \u001b[49m\u001b[43mmode\u001b[49m\u001b[43m,\u001b[49m\n\u001b[1;32m   1883\u001b[0m \u001b[43m    \u001b[49m\u001b[43mencoding\u001b[49m\u001b[38;5;241;43m=\u001b[39;49m\u001b[38;5;28;43mself\u001b[39;49m\u001b[38;5;241;43m.\u001b[39;49m\u001b[43moptions\u001b[49m\u001b[38;5;241;43m.\u001b[39;49m\u001b[43mget\u001b[49m\u001b[43m(\u001b[49m\u001b[38;5;124;43m\"\u001b[39;49m\u001b[38;5;124;43mencoding\u001b[39;49m\u001b[38;5;124;43m\"\u001b[39;49m\u001b[43m,\u001b[49m\u001b[43m \u001b[49m\u001b[38;5;28;43;01mNone\u001b[39;49;00m\u001b[43m)\u001b[49m\u001b[43m,\u001b[49m\n\u001b[1;32m   1884\u001b[0m \u001b[43m    \u001b[49m\u001b[43mcompression\u001b[49m\u001b[38;5;241;43m=\u001b[39;49m\u001b[38;5;28;43mself\u001b[39;49m\u001b[38;5;241;43m.\u001b[39;49m\u001b[43moptions\u001b[49m\u001b[38;5;241;43m.\u001b[39;49m\u001b[43mget\u001b[49m\u001b[43m(\u001b[49m\u001b[38;5;124;43m\"\u001b[39;49m\u001b[38;5;124;43mcompression\u001b[39;49m\u001b[38;5;124;43m\"\u001b[39;49m\u001b[43m,\u001b[49m\u001b[43m \u001b[49m\u001b[38;5;28;43;01mNone\u001b[39;49;00m\u001b[43m)\u001b[49m\u001b[43m,\u001b[49m\n\u001b[1;32m   1885\u001b[0m \u001b[43m    \u001b[49m\u001b[43mmemory_map\u001b[49m\u001b[38;5;241;43m=\u001b[39;49m\u001b[38;5;28;43mself\u001b[39;49m\u001b[38;5;241;43m.\u001b[39;49m\u001b[43moptions\u001b[49m\u001b[38;5;241;43m.\u001b[39;49m\u001b[43mget\u001b[49m\u001b[43m(\u001b[49m\u001b[38;5;124;43m\"\u001b[39;49m\u001b[38;5;124;43mmemory_map\u001b[39;49m\u001b[38;5;124;43m\"\u001b[39;49m\u001b[43m,\u001b[49m\u001b[43m \u001b[49m\u001b[38;5;28;43;01mFalse\u001b[39;49;00m\u001b[43m)\u001b[49m\u001b[43m,\u001b[49m\n\u001b[1;32m   1886\u001b[0m \u001b[43m    \u001b[49m\u001b[43mis_text\u001b[49m\u001b[38;5;241;43m=\u001b[39;49m\u001b[43mis_text\u001b[49m\u001b[43m,\u001b[49m\n\u001b[1;32m   1887\u001b[0m \u001b[43m    \u001b[49m\u001b[43merrors\u001b[49m\u001b[38;5;241;43m=\u001b[39;49m\u001b[38;5;28;43mself\u001b[39;49m\u001b[38;5;241;43m.\u001b[39;49m\u001b[43moptions\u001b[49m\u001b[38;5;241;43m.\u001b[39;49m\u001b[43mget\u001b[49m\u001b[43m(\u001b[49m\u001b[38;5;124;43m\"\u001b[39;49m\u001b[38;5;124;43mencoding_errors\u001b[39;49m\u001b[38;5;124;43m\"\u001b[39;49m\u001b[43m,\u001b[49m\u001b[43m \u001b[49m\u001b[38;5;124;43m\"\u001b[39;49m\u001b[38;5;124;43mstrict\u001b[39;49m\u001b[38;5;124;43m\"\u001b[39;49m\u001b[43m)\u001b[49m\u001b[43m,\u001b[49m\n\u001b[1;32m   1888\u001b[0m \u001b[43m    \u001b[49m\u001b[43mstorage_options\u001b[49m\u001b[38;5;241;43m=\u001b[39;49m\u001b[38;5;28;43mself\u001b[39;49m\u001b[38;5;241;43m.\u001b[39;49m\u001b[43moptions\u001b[49m\u001b[38;5;241;43m.\u001b[39;49m\u001b[43mget\u001b[49m\u001b[43m(\u001b[49m\u001b[38;5;124;43m\"\u001b[39;49m\u001b[38;5;124;43mstorage_options\u001b[39;49m\u001b[38;5;124;43m\"\u001b[39;49m\u001b[43m,\u001b[49m\u001b[43m \u001b[49m\u001b[38;5;28;43;01mNone\u001b[39;49;00m\u001b[43m)\u001b[49m\u001b[43m,\u001b[49m\n\u001b[1;32m   1889\u001b[0m \u001b[43m\u001b[49m\u001b[43m)\u001b[49m\n\u001b[1;32m   1890\u001b[0m \u001b[38;5;28;01massert\u001b[39;00m \u001b[38;5;28mself\u001b[39m\u001b[38;5;241m.\u001b[39mhandles \u001b[38;5;129;01mis\u001b[39;00m \u001b[38;5;129;01mnot\u001b[39;00m \u001b[38;5;28;01mNone\u001b[39;00m\n\u001b[1;32m   1891\u001b[0m f \u001b[38;5;241m=\u001b[39m \u001b[38;5;28mself\u001b[39m\u001b[38;5;241m.\u001b[39mhandles\u001b[38;5;241m.\u001b[39mhandle\n",
      "File \u001b[0;32m~/Documentos/MD/.venv/lib/python3.11/site-packages/pandas/io/common.py:873\u001b[0m, in \u001b[0;36mget_handle\u001b[0;34m(path_or_buf, mode, encoding, compression, memory_map, is_text, errors, storage_options)\u001b[0m\n\u001b[1;32m    868\u001b[0m \u001b[38;5;28;01melif\u001b[39;00m \u001b[38;5;28misinstance\u001b[39m(handle, \u001b[38;5;28mstr\u001b[39m):\n\u001b[1;32m    869\u001b[0m     \u001b[38;5;66;03m# Check whether the filename is to be opened in binary mode.\u001b[39;00m\n\u001b[1;32m    870\u001b[0m     \u001b[38;5;66;03m# Binary mode does not support 'encoding' and 'newline'.\u001b[39;00m\n\u001b[1;32m    871\u001b[0m     \u001b[38;5;28;01mif\u001b[39;00m ioargs\u001b[38;5;241m.\u001b[39mencoding \u001b[38;5;129;01mand\u001b[39;00m \u001b[38;5;124m\"\u001b[39m\u001b[38;5;124mb\u001b[39m\u001b[38;5;124m\"\u001b[39m \u001b[38;5;129;01mnot\u001b[39;00m \u001b[38;5;129;01min\u001b[39;00m ioargs\u001b[38;5;241m.\u001b[39mmode:\n\u001b[1;32m    872\u001b[0m         \u001b[38;5;66;03m# Encoding\u001b[39;00m\n\u001b[0;32m--> 873\u001b[0m         handle \u001b[38;5;241m=\u001b[39m \u001b[38;5;28;43mopen\u001b[39;49m\u001b[43m(\u001b[49m\n\u001b[1;32m    874\u001b[0m \u001b[43m            \u001b[49m\u001b[43mhandle\u001b[49m\u001b[43m,\u001b[49m\n\u001b[1;32m    875\u001b[0m \u001b[43m            \u001b[49m\u001b[43mioargs\u001b[49m\u001b[38;5;241;43m.\u001b[39;49m\u001b[43mmode\u001b[49m\u001b[43m,\u001b[49m\n\u001b[1;32m    876\u001b[0m \u001b[43m            \u001b[49m\u001b[43mencoding\u001b[49m\u001b[38;5;241;43m=\u001b[39;49m\u001b[43mioargs\u001b[49m\u001b[38;5;241;43m.\u001b[39;49m\u001b[43mencoding\u001b[49m\u001b[43m,\u001b[49m\n\u001b[1;32m    877\u001b[0m \u001b[43m            \u001b[49m\u001b[43merrors\u001b[49m\u001b[38;5;241;43m=\u001b[39;49m\u001b[43merrors\u001b[49m\u001b[43m,\u001b[49m\n\u001b[1;32m    878\u001b[0m \u001b[43m            \u001b[49m\u001b[43mnewline\u001b[49m\u001b[38;5;241;43m=\u001b[39;49m\u001b[38;5;124;43m\"\u001b[39;49m\u001b[38;5;124;43m\"\u001b[39;49m\u001b[43m,\u001b[49m\n\u001b[1;32m    879\u001b[0m \u001b[43m        \u001b[49m\u001b[43m)\u001b[49m\n\u001b[1;32m    880\u001b[0m     \u001b[38;5;28;01melse\u001b[39;00m:\n\u001b[1;32m    881\u001b[0m         \u001b[38;5;66;03m# Binary mode\u001b[39;00m\n\u001b[1;32m    882\u001b[0m         handle \u001b[38;5;241m=\u001b[39m \u001b[38;5;28mopen\u001b[39m(handle, ioargs\u001b[38;5;241m.\u001b[39mmode)\n",
      "\u001b[0;31mFileNotFoundError\u001b[0m: [Errno 2] No such file or directory: 'C:\\\\Users\\\\igory\\\\Documents\\\\UFRPE_periodos\\\\6_periodo_2024\\\\Modelagem_dados\\\\Pagamento\\\\2015_Pagamento.csv'"
     ]
    }
   ],
   "source": [
    "pagamento_2015 = pd.read_csv(path+r\"\\Pagamento\\2015_Pagamento.csv\", sep=\";\", encoding= \"ISO-8859-1\")\n",
    "pagamento_2016 = pd.read_csv(path+r\"\\Pagamento\\2016_Pagamento.csv\", sep=\";\", encoding= \"ISO-8859-1\")\n",
    "pagamento_2017 = pd.read_csv(path+r\"\\Pagamento\\2017_Pagamento.csv\", sep=\";\", encoding= \"ISO-8859-1\")\n",
    "pagamento_2018 = pd.read_csv(path+r\"\\Pagamento\\2018_Pagamento.csv\", sep=\";\", encoding= \"ISO-8859-1\")\n",
    "pagamento_2019 = pd.read_csv(path+r\"\\Pagamento\\2019_Pagamento.csv\", sep=\";\", encoding= \"ISO-8859-1\")\n",
    "pagamento_2020 = pd.read_csv(path+r\"\\Pagamento\\2020_Pagamento.csv\", sep=\";\", encoding= \"ISO-8859-1\")\n",
    "pagamento_2021 = pd.read_csv(path+r\"\\Pagamento\\2021_Pagamento.csv\", sep=\";\", encoding= \"ISO-8859-1\")\n",
    "pagamento_2022 = pd.read_csv(path+r\"\\Pagamento\\2022_Pagamento.csv\", sep=\";\", encoding= \"ISO-8859-1\")"
   ]
  },
  {
   "cell_type": "markdown",
   "id": "9d9c1a48",
   "metadata": {},
   "source": [
    "2. Tabelas de Passagens"
   ]
  },
  {
   "cell_type": "code",
   "execution_count": 7,
   "id": "6da7d872",
   "metadata": {},
   "outputs": [],
   "source": [
    "passagem_2015 = pd.read_csv(path+r\"/Passagem/2015_Passagem.csv\", sep=\";\", encoding= \"ISO-8859-1\")\n",
    "passagem_2016 = pd.read_csv(path+r\"/Passagem/2016_Passagem.csv\", sep=\";\", encoding= \"ISO-8859-1\")\n",
    "passagem_2017 = pd.read_csv(path+r\"/Passagem/2017_Passagem.csv\", sep=\";\", encoding= \"ISO-8859-1\")\n",
    "passagem_2018 = pd.read_csv(path+r\"/Passagem/2018_Passagem.csv\", sep=\";\", encoding= \"ISO-8859-1\")\n",
    "passagem_2019 = pd.read_csv(path+r\"/Passagem/2019_Passagem.csv\", sep=\";\", encoding= \"ISO-8859-1\")\n",
    "passagem_2020 = pd.read_csv(path+r\"/Passagem/2020_Passagem.csv\", sep=\";\", encoding= \"ISO-8859-1\")\n",
    "passagem_2021 = pd.read_csv(path+r\"/Passagem/2021_Passagem.csv\", sep=\";\", encoding= \"ISO-8859-1\")\n",
    "passagem_2022 = pd.read_csv(path+r\"/Passagem/2022_Passagem.csv\", sep=\";\", encoding= \"ISO-8859-1\")"
   ]
  },
  {
   "cell_type": "markdown",
   "id": "f06254f1",
   "metadata": {},
   "source": [
    "3. Tabelas de Trechos"
   ]
  },
  {
   "cell_type": "code",
   "execution_count": null,
   "id": "c3bfb928",
   "metadata": {},
   "outputs": [],
   "source": [
    "trecho_2015 = pd.read_csv(path+r\"\\Trecho\\2015_Trecho.csv\", sep=\";\", encoding= \"ISO-8859-1\")\n",
    "trecho_2016 = pd.read_csv(path+r\"\\Trecho\\2016_Trecho.csv\", sep=\";\", encoding= \"ISO-8859-1\")\n",
    "trecho_2017 = pd.read_csv(path+r\"\\Trecho\\2017_Trecho.csv\", sep=\";\", encoding= \"ISO-8859-1\")\n",
    "trecho_2018 = pd.read_csv(path+r\"\\Trecho\\2018_Trecho.csv\", sep=\";\", encoding= \"ISO-8859-1\")\n",
    "trecho_2019 = pd.read_csv(path+r\"\\Trecho\\2019_Trecho.csv\", sep=\";\", encoding= \"ISO-8859-1\")\n",
    "trecho_2020 = pd.read_csv(path+r\"\\Trecho\\2020_Trecho.csv\", sep=\";\", encoding= \"ISO-8859-1\")\n",
    "trecho_2021 = pd.read_csv(path+r\"\\Trecho\\2021_Trecho.csv\", sep=\";\", encoding= \"ISO-8859-1\")\n",
    "trecho_2022 = pd.read_csv(path+r\"\\Trecho\\2022_Trecho.csv\", sep=\";\", encoding= \"ISO-8859-1\")"
   ]
  },
  {
   "cell_type": "markdown",
   "id": "16550184",
   "metadata": {},
   "source": [
    "4. Tabelas de Viagens"
   ]
  },
  {
   "cell_type": "code",
   "execution_count": null,
   "id": "431d55c9",
   "metadata": {},
   "outputs": [],
   "source": [
    "viagem_2015 = pd.read_csv(path+r\"\\Viagem\\2015_Viagem.csv\", sep=\";\", encoding= \"ISO-8859-1\")\n",
    "viagem_2016 = pd.read_csv(path+r\"\\Viagem\\2016_Viagem.csv\", sep=\";\", encoding= \"ISO-8859-1\")\n",
    "viagem_2017 = pd.read_csv(path+r\"\\Viagem\\2017_Viagem.csv\", sep=\";\", encoding= \"ISO-8859-1\", dtype={'Função': str})\n",
    "viagem_2018 = pd.read_csv(path+r\"\\Viagem\\2018_Viagem.csv\", sep=\";\", encoding= \"ISO-8859-1\")\n",
    "viagem_2019 = pd.read_csv(path+r\"\\Viagem\\2019_Viagem.csv\", sep=\";\", encoding= \"ISO-8859-1\")\n",
    "viagem_2020 = pd.read_csv(path+r\"\\Viagem\\2020_Viagem.csv\", sep=\";\", encoding= \"ISO-8859-1\")\n",
    "viagem_2021 = pd.read_csv(path+r\"\\Viagem\\2021_Viagem.csv\", sep=\";\", encoding= \"ISO-8859-1\")\n",
    "viagem_2022 = pd.read_csv(path+r\"\\Viagem\\2022_Viagem.csv\", sep=\";\", encoding= \"ISO-8859-1\")"
   ]
  },
  {
   "cell_type": "markdown",
   "id": "43fbec77",
   "metadata": {},
   "source": [
    "# Tratamento dos dados de Viagem"
   ]
  },
  {
   "cell_type": "markdown",
   "id": "8c1df5d1",
   "metadata": {},
   "source": [
    "1. Remoção de colunas sem utilidade"
   ]
  },
  {
   "cell_type": "code",
   "execution_count": null,
   "id": "da3e8cc3",
   "metadata": {
    "scrolled": true
   },
   "outputs": [],
   "source": [
    "viagem_2015.drop(['Número da Proposta (PCDP)','Viagem Urgente','Justificativa Urgência Viagem','Código órgão solicitante', 'Nome órgão solicitante', 'Descrição Função','Motivo'], axis=1, inplace=True)\n",
    "viagem_2016.drop(['Número da Proposta (PCDP)','Viagem Urgente','Justificativa Urgência Viagem','Código órgão solicitante', 'Nome órgão solicitante', 'Descrição Função','Motivo'], axis=1, inplace=True)\n",
    "viagem_2017.drop(['Número da Proposta (PCDP)','Viagem Urgente','Justificativa Urgência Viagem','Código órgão solicitante', 'Nome órgão solicitante', 'Descrição Função','Motivo'], axis=1, inplace=True)\n",
    "viagem_2018.drop(['Número da Proposta (PCDP)','Viagem Urgente','Justificativa Urgência Viagem','Código órgão solicitante', 'Nome órgão solicitante', 'Descrição Função','Motivo'], axis=1, inplace=True)\n",
    "viagem_2019.drop(['Número da Proposta (PCDP)','Viagem Urgente','Justificativa Urgência Viagem','Código órgão solicitante', 'Nome órgão solicitante', 'Descrição Função','Motivo'], axis=1, inplace=True)\n",
    "viagem_2020.drop(['Número da Proposta (PCDP)','Viagem Urgente','Justificativa Urgência Viagem','Código órgão solicitante', 'Nome órgão solicitante', 'Descrição Função','Motivo'], axis=1, inplace=True)\n",
    "viagem_2021.drop(['Número da Proposta (PCDP)','Viagem Urgente','Justificativa Urgência Viagem','Código órgão solicitante', 'Nome órgão solicitante', 'Descrição Função','Motivo'], axis=1, inplace=True)\n",
    "viagem_2022.drop(['Número da Proposta (PCDP)','Viagem Urgente','Justificativa Urgência Viagem','Código órgão solicitante', 'Nome órgão solicitante', 'Descrição Função','Motivo'], axis=1, inplace=True)"
   ]
  },
  {
   "cell_type": "markdown",
   "id": "ed37167a",
   "metadata": {},
   "source": [
    "2. Divisão dos dados"
   ]
  },
  {
   "cell_type": "code",
   "execution_count": null,
   "id": "34e47795",
   "metadata": {},
   "outputs": [],
   "source": [
    "# Criar a tabela Viajante\n",
    "\n",
    "viajante_2015 = viagem_2015[['CPF viajante', 'Nome', 'Cargo', 'Função']]\n",
    "viajante_2015.rename(columns={'CPF viajante':'cpf_viajante', 'Nome':'nome_viajante', 'Cargo':'cargo_viajante', 'Função':'funcao_viajante'})"
   ]
  },
  {
   "cell_type": "markdown",
   "id": "e8d4f9f7",
   "metadata": {},
   "source": [
    "# Tratamento de dados (Pagamentos)"
   ]
  },
  {
   "cell_type": "code",
   "execution_count": null,
   "id": "1ea30cca",
   "metadata": {},
   "outputs": [],
   "source": [
    "pagamento_2015.drop(['Codigo do órgão pagador', 'Nome do órgao pagador','Código da unidade gestora pagadora','Nome da unidade gestora pagadora','Número da Proposta (PCDP)','Nome do órgão superior'], axis=1, inplace=True)\n",
    "pagamento_2016.drop(['Codigo do órgão pagador', 'Nome do órgao pagador','Código da unidade gestora pagadora','Nome da unidade gestora pagadora','Número da Proposta (PCDP)','Nome do órgão superior'], axis=1, inplace=True)\n",
    "pagamento_2017.drop(['Codigo do órgão pagador', 'Nome do órgao pagador','Código da unidade gestora pagadora','Nome da unidade gestora pagadora','Número da Proposta (PCDP)','Nome do órgão superior'], axis=1, inplace=True)\n",
    "pagamento_2018.drop(['Codigo do órgão pagador', 'Nome do órgao pagador','Código da unidade gestora pagadora','Nome da unidade gestora pagadora','Número da Proposta (PCDP)','Nome do órgão superior'], axis=1, inplace=True)\n",
    "pagamento_2019.drop(['Codigo do órgão pagador', 'Nome do órgao pagador','Código da unidade gestora pagadora','Nome da unidade gestora pagadora','Número da Proposta (PCDP)','Nome do órgão superior'], axis=1, inplace=True)\n",
    "pagamento_2020.drop(['Codigo do órgão pagador', 'Nome do órgao pagador','Código da unidade gestora pagadora','Nome da unidade gestora pagadora','Número da Proposta (PCDP)','Nome do órgão superior'], axis=1, inplace=True)\n",
    "pagamento_2021.drop(['Codigo do órgão pagador', 'Nome do órgao pagador','Código da unidade gestora pagadora','Nome da unidade gestora pagadora','Número da Proposta (PCDP)','Nome do órgão superior'], axis=1, inplace=True)\n",
    "pagamento_2022.drop(['Codigo do órgão pagador', 'Nome do órgao pagador','Código da unidade gestora pagadora','Nome da unidade gestora pagadora','Número da Proposta (PCDP)','Nome do órgão superior'], axis=1, inplace=True)"
   ]
  },
  {
   "cell_type": "code",
   "execution_count": null,
   "id": "873804c3",
   "metadata": {},
   "outputs": [],
   "source": [
    "pagamento_2015.rename(columns={'Identificador do processo de viagem':'id_processo_viagem','Código do órgão superior':'codigo_orgao_superior','Nome do órgão superior':'nome_orgao_superior','Valor': 'valor_despesa','Tipo de pagamento':'tipo_pagamento'},inplace=True)\n",
    "pagamento_2016.rename(columns={'Identificador do processo de viagem':'id_processo_viagem','Código do órgão superior':'codigo_orgao_superior','Nome do órgão superior':'nome_orgao_superior','Valor': 'valor_despesa','Tipo de pagamento':'tipo_pagamento'},inplace=True)\n",
    "pagamento_2017.rename(columns={'Identificador do processo de viagem':'id_processo_viagem','Código do órgão superior':'codigo_orgao_superior','Nome do órgão superior':'nome_orgao_superior','Valor': 'valor_despesa','Tipo de pagamento':'tipo_pagamento'},inplace=True)\n",
    "pagamento_2018.rename(columns={'Identificador do processo de viagem':'id_processo_viagem','Código do órgão superior':'codigo_orgao_superior','Nome do órgão superior':'nome_orgao_superior','Valor': 'valor_despesa','Tipo de pagamento':'tipo_pagamento'},inplace=True)\n",
    "pagamento_2019.rename(columns={'Identificador do processo de viagem':'id_processo_viagem','Código do órgão superior':'codigo_orgao_superior','Nome do órgão superior':'nome_orgao_superior','Valor': 'valor_despesa','Tipo de pagamento':'tipo_pagamento'},inplace=True)\n",
    "pagamento_2020.rename(columns={'Identificador do processo de viagem':'id_processo_viagem','Código do órgão superior':'codigo_orgao_superior','Nome do órgão superior':'nome_orgao_superior','Valor': 'valor_despesa','Tipo de pagamento':'tipo_pagamento'},inplace=True)\n",
    "pagamento_2021.rename(columns={'Identificador do processo de viagem':'id_processo_viagem','Código do órgão superior':'codigo_orgao_superior','Nome do órgão superior':'nome_orgao_superior','Valor': 'valor_despesa','Tipo de pagamento':'tipo_pagamento'},inplace=True)\n",
    "pagamento_2022.rename(columns={'Identificador do processo de viagem':'id_processo_viagem','Código do órgão superior':'codigo_orgao_superior','Nome do órgão superior':'nome_orgao_superior','Valor': 'valor_despesa','Tipo de pagamento':'tipo_pagamento'},inplace=True)\n"
   ]
  },
  {
   "cell_type": "markdown",
   "id": "2e47dfef",
   "metadata": {},
   "source": [
    "# Tratamento Trechos"
   ]
  },
  {
   "cell_type": "code",
   "execution_count": null,
   "id": "64c25039",
   "metadata": {},
   "outputs": [],
   "source": [
    "trecho_2015.drop(['Número da Proposta (PCDP)', 'Missao?', 'Número Diárias'], axis=1, inplace=True)\n",
    "trecho_2016.drop(['Número da Proposta (PCDP)', 'Missao?', 'Número Diárias'], axis=1, inplace=True)\n",
    "trecho_2017.drop(['Número da Proposta (PCDP)', 'Missao?', 'Número Diárias'], axis=1, inplace=True)\n",
    "trecho_2018.drop(['Número da Proposta (PCDP)', 'Missao?', 'Número Diárias'], axis=1, inplace=True)\n",
    "trecho_2019.drop(['Número da Proposta (PCDP)', 'Missao?', 'Número Diárias'], axis=1, inplace=True)\n",
    "trecho_2020.drop(['Número da Proposta (PCDP)', 'Missao?', 'Número Diárias'], axis=1, inplace=True)\n",
    "trecho_2021.drop(['Número da Proposta (PCDP)', 'Missao?', 'Número Diárias'], axis=1, inplace=True)\n",
    "trecho_2022.drop(['Número da Proposta (PCDP)', 'Missao?', 'Número Diárias'], axis=1, inplace=True)"
   ]
  },
  {
   "cell_type": "code",
   "execution_count": null,
   "id": "575cf9fd",
   "metadata": {},
   "outputs": [],
   "source": [
    "trecho_2015.rename(columns={'Identificador do processo de viagem ':'id_processo_viagem', 'Sequência Trecho':'sequencia_trecho','Origem - Data':'origem_data', 'Origem - País':'origem_pais', 'Origem - UF':'origem_uf', 'Origem - Cidade':'origem_cidade','Destino - Data':'destino_data', 'Destino - País':'destino_pais', 'Destino - UF':'destino_uf', 'Destino - Cidade':'destino_cidade','Meio de transporte':'meio_transporte'},inplace=True)\n",
    "trecho_2016.rename(columns={'Identificador do processo de viagem ':'id_processo_viagem', 'Sequência Trecho':'sequencia_trecho','Origem - Data':'origem_data', 'Origem - País':'origem_pais', 'Origem - UF':'origem_uf', 'Origem - Cidade':'origem_cidade','Destino - Data':'destino_data', 'Destino - País':'destino_pais', 'Destino - UF':'destino_uf', 'Destino - Cidade':'destino_cidade','Meio de transporte':'meio_transporte'},inplace=True)\n",
    "trecho_2017.rename(columns={'Identificador do processo de viagem ':'id_processo_viagem', 'Sequência Trecho':'sequencia_trecho','Origem - Data':'origem_data', 'Origem - País':'origem_pais', 'Origem - UF':'origem_uf', 'Origem - Cidade':'origem_cidade','Destino - Data':'destino_data', 'Destino - País':'destino_pais', 'Destino - UF':'destino_uf', 'Destino - Cidade':'destino_cidade','Meio de transporte':'meio_transporte'},inplace=True)\n",
    "trecho_2018.rename(columns={'Identificador do processo de viagem ':'id_processo_viagem', 'Sequência Trecho':'sequencia_trecho','Origem - Data':'origem_data', 'Origem - País':'origem_pais', 'Origem - UF':'origem_uf', 'Origem - Cidade':'origem_cidade','Destino - Data':'destino_data', 'Destino - País':'destino_pais', 'Destino - UF':'destino_uf', 'Destino - Cidade':'destino_cidade','Meio de transporte':'meio_transporte'},inplace=True)\n",
    "trecho_2019.rename(columns={'Identificador do processo de viagem ':'id_processo_viagem', 'Sequência Trecho':'sequencia_trecho','Origem - Data':'origem_data', 'Origem - País':'origem_pais', 'Origem - UF':'origem_uf', 'Origem - Cidade':'origem_cidade','Destino - Data':'destino_data', 'Destino - País':'destino_pais', 'Destino - UF':'destino_uf', 'Destino - Cidade':'destino_cidade','Meio de transporte':'meio_transporte'},inplace=True)\n",
    "trecho_2020.rename(columns={'Identificador do processo de viagem ':'id_processo_viagem', 'Sequência Trecho':'sequencia_trecho','Origem - Data':'origem_data', 'Origem - País':'origem_pais', 'Origem - UF':'origem_uf', 'Origem - Cidade':'origem_cidade','Destino - Data':'destino_data', 'Destino - País':'destino_pais', 'Destino - UF':'destino_uf', 'Destino - Cidade':'destino_cidade','Meio de transporte':'meio_transporte'},inplace=True)\n",
    "trecho_2021.rename(columns={'Identificador do processo de viagem ':'id_processo_viagem', 'Sequência Trecho':'sequencia_trecho','Origem - Data':'origem_data', 'Origem - País':'origem_pais', 'Origem - UF':'origem_uf', 'Origem - Cidade':'origem_cidade','Destino - Data':'destino_data', 'Destino - País':'destino_pais', 'Destino - UF':'destino_uf', 'Destino - Cidade':'destino_cidade','Meio de transporte':'meio_transporte'},inplace=True)\n",
    "trecho_2022.rename(columns={'Identificador do processo de viagem ':'id_processo_viagem', 'Sequência Trecho':'sequencia_trecho','Origem - Data':'origem_data', 'Origem - País':'origem_pais', 'Origem - UF':'origem_uf', 'Origem - Cidade':'origem_cidade','Destino - Data':'destino_data', 'Destino - País':'destino_pais', 'Destino - UF':'destino_uf', 'Destino - Cidade':'destino_cidade','Meio de transporte':'meio_transporte'},inplace=True)"
   ]
  },
  {
   "cell_type": "code",
   "execution_count": null,
   "id": "0d8de83d",
   "metadata": {},
   "outputs": [
    {
     "data": {
      "text/plain": [
       "Index(['id_processo_viagem', 'sequencia_trecho', 'origem_data', 'origem_pais',\n",
       "       'origem_uf', 'origem_cidade', 'destino_data', 'destino_pais',\n",
       "       'destino_uf', 'destino_cidade', 'meio_transporte'],\n",
       "      dtype='object')"
      ]
     },
     "execution_count": 13,
     "metadata": {},
     "output_type": "execute_result"
    }
   ],
   "source": [
    "trecho_2015.columns"
   ]
  },
  {
   "cell_type": "code",
   "execution_count": null,
   "id": "a2833fe4",
   "metadata": {},
   "outputs": [
    {
     "data": {
      "text/plain": [
       "Index(['id_processo_viagem', 'codigo_orgao_superior', 'tipo_pagamento',\n",
       "       'valor_despesa'],\n",
       "      dtype='object')"
      ]
     },
     "execution_count": 31,
     "metadata": {},
     "output_type": "execute_result"
    }
   ],
   "source": [
    "pagamento_2015.columns"
   ]
  },
  {
   "cell_type": "markdown",
   "id": "d85acdc6",
   "metadata": {},
   "source": [
    "# Tratamento Passagem\n",
    "\n"
   ]
  },
  {
   "cell_type": "markdown",
   "id": "b2a59499",
   "metadata": {},
   "source": [
    "Remoção de colunas desnecessárias\n"
   ]
  },
  {
   "cell_type": "code",
   "execution_count": 8,
   "id": "424b13b9",
   "metadata": {},
   "outputs": [],
   "source": [
    "passagem_2015.drop(['Identificador do processo de viagem', 'Número da Proposta (PCDP)'], axis=1, inplace=True)\n",
    "passagem_2016.drop(['Identificador do processo de viagem', 'Número da Proposta (PCDP)'], axis=1, inplace=True)\n",
    "passagem_2017.drop(['Identificador do processo de viagem', 'Número da Proposta (PCDP)'], axis=1, inplace=True) \n",
    "passagem_2018.drop(['Identificador do processo de viagem', 'Número da Proposta (PCDP)'], axis=1, inplace=True) \n",
    "passagem_2019.drop(['Identificador do processo de viagem', 'Número da Proposta (PCDP)'], axis=1, inplace=True) \n",
    "passagem_2020.drop(['Identificador do processo de viagem', 'Número da Proposta (PCDP)'], axis=1, inplace=True) \n",
    "passagem_2021.drop(['Identificador do processo de viagem', 'Número da Proposta (PCDP)'], axis=1, inplace=True) \n",
    "passagem_2022.drop(['Identificador do processo de viagem', 'Número da Proposta (PCDP)'], axis=1, inplace=True) "
   ]
  },
  {
   "cell_type": "code",
   "execution_count": 9,
   "id": "3c161e82",
   "metadata": {},
   "outputs": [],
   "source": [
    "passagem_2015.rename(columns={'Meio de transporte': 'meio_transporte', 'País - Origem ida':'pais_origem_ida',  'UF - Origem ida':'uf_origem_ida', 'Cidade - Origem ida':'cidade_origem_ida', 'País - Destino ida':'pais_destino_ida','UF - Destino ida':'uf_destino_ida','Cidade - Destino ida':'cidade_destino_ida', 'País - Origem volta':'pais_origem_volta','UF - Origem volta':'uf_origem_volta', 'Cidade - Origem volta':'cidade_origem_volta','Pais - Destino volta':'pais_destino_volta','UF - Destino volta':'uf_destino_volta','Cidade - Destino volta':'cidade_destino_volta','Valor da passagem':'valor_passagem','Taxa de serviço':'taxa_servico','Data da emissão/compra':'data_emissao_compra','Hora da emissão/compra':'hora_emissao_compra'},inplace=True)\n",
    "passagem_2016.rename(columns={'Meio de transporte': 'meio_transporte', 'País - Origem ida':'pais_origem_ida',  'UF - Origem ida':'uf_origem_ida', 'Cidade - Origem ida':'cidade_origem_ida', 'País - Destino ida':'pais_destino_ida','UF - Destino ida':'uf_destino_ida','Cidade - Destino ida':'cidade_destino_ida', 'País - Origem volta':'pais_origem_volta','UF - Origem volta':'uf_origem_volta', 'Cidade - Origem volta':'cidade_origem_volta','Pais - Destino volta':'pais_destino_volta','UF - Destino volta':'uf_destino_volta','Cidade - Destino volta':'cidade_destino_volta','Valor da passagem':'valor_passagem','Taxa de serviço':'taxa_servico','Data da emissão/compra':'data_emissao_compra','Hora da emissão/compra':'hora_emissao_compra'},inplace=True)\n",
    "passagem_2017.rename(columns={'Meio de transporte': 'meio_transporte', 'País - Origem ida':'pais_origem_ida',  'UF - Origem ida':'uf_origem_ida', 'Cidade - Origem ida':'cidade_origem_ida', 'País - Destino ida':'pais_destino_ida','UF - Destino ida':'uf_destino_ida','Cidade - Destino ida':'cidade_destino_ida', 'País - Origem volta':'pais_origem_volta','UF - Origem volta':'uf_origem_volta', 'Cidade - Origem volta':'cidade_origem_volta','Pais - Destino volta':'pais_destino_volta','UF - Destino volta':'uf_destino_volta','Cidade - Destino volta':'cidade_destino_volta','Valor da passagem':'valor_passagem','Taxa de serviço':'taxa_servico','Data da emissão/compra':'data_emissao_compra','Hora da emissão/compra':'hora_emissao_compra'},inplace=True)\n",
    "passagem_2018.rename(columns={'Meio de transporte': 'meio_transporte', 'País - Origem ida':'pais_origem_ida',  'UF - Origem ida':'uf_origem_ida', 'Cidade - Origem ida':'cidade_origem_ida', 'País - Destino ida':'pais_destino_ida','UF - Destino ida':'uf_destino_ida','Cidade - Destino ida':'cidade_destino_ida', 'País - Origem volta':'pais_origem_volta','UF - Origem volta':'uf_origem_volta', 'Cidade - Origem volta':'cidade_origem_volta','Pais - Destino volta':'pais_destino_volta','UF - Destino volta':'uf_destino_volta','Cidade - Destino volta':'cidade_destino_volta','Valor da passagem':'valor_passagem','Taxa de serviço':'taxa_servico','Data da emissão/compra':'data_emissao_compra','Hora da emissão/compra':'hora_emissao_compra'},inplace=True)\n",
    "passagem_2019.rename(columns={'Meio de transporte': 'meio_transporte', 'País - Origem ida':'pais_origem_ida',  'UF - Origem ida':'uf_origem_ida', 'Cidade - Origem ida':'cidade_origem_ida', 'País - Destino ida':'pais_destino_ida','UF - Destino ida':'uf_destino_ida','Cidade - Destino ida':'cidade_destino_ida', 'País - Origem volta':'pais_origem_volta','UF - Origem volta':'uf_origem_volta', 'Cidade - Origem volta':'cidade_origem_volta','Pais - Destino volta':'pais_destino_volta','UF - Destino volta':'uf_destino_volta','Cidade - Destino volta':'cidade_destino_volta','Valor da passagem':'valor_passagem','Taxa de serviço':'taxa_servico','Data da emissão/compra':'data_emissao_compra','Hora da emissão/compra':'hora_emissao_compra'},inplace=True)\n",
    "passagem_2020.rename(columns={'Meio de transporte': 'meio_transporte', 'País - Origem ida':'pais_origem_ida',  'UF - Origem ida':'uf_origem_ida', 'Cidade - Origem ida':'cidade_origem_ida', 'País - Destino ida':'pais_destino_ida','UF - Destino ida':'uf_destino_ida','Cidade - Destino ida':'cidade_destino_ida', 'País - Origem volta':'pais_origem_volta','UF - Origem volta':'uf_origem_volta', 'Cidade - Origem volta':'cidade_origem_volta','Pais - Destino volta':'pais_destino_volta','UF - Destino volta':'uf_destino_volta','Cidade - Destino volta':'cidade_destino_volta','Valor da passagem':'valor_passagem','Taxa de serviço':'taxa_servico','Data da emissão/compra':'data_emissao_compra','Hora da emissão/compra':'hora_emissao_compra'},inplace=True)\n",
    "passagem_2021.rename(columns={'Meio de transporte': 'meio_transporte', 'País - Origem ida':'pais_origem_ida',  'UF - Origem ida':'uf_origem_ida', 'Cidade - Origem ida':'cidade_origem_ida', 'País - Destino ida':'pais_destino_ida','UF - Destino ida':'uf_destino_ida','Cidade - Destino ida':'cidade_destino_ida', 'País - Origem volta':'pais_origem_volta','UF - Origem volta':'uf_origem_volta', 'Cidade - Origem volta':'cidade_origem_volta','Pais - Destino volta':'pais_destino_volta','UF - Destino volta':'uf_destino_volta','Cidade - Destino volta':'cidade_destino_volta','Valor da passagem':'valor_passagem','Taxa de serviço':'taxa_servico','Data da emissão/compra':'data_emissao_compra','Hora da emissão/compra':'hora_emissao_compra'},inplace=True)\n",
    "passagem_2022.rename(columns={'Meio de transporte': 'meio_transporte', 'País - Origem ida':'pais_origem_ida',  'UF - Origem ida':'uf_origem_ida', 'Cidade - Origem ida':'cidade_origem_ida', 'País - Destino ida':'pais_destino_ida','UF - Destino ida':'uf_destino_ida','Cidade - Destino ida':'cidade_destino_ida', 'País - Origem volta':'pais_origem_volta','UF - Origem volta':'uf_origem_volta', 'Cidade - Origem volta':'cidade_origem_volta','Pais - Destino volta':'pais_destino_volta','UF - Destino volta':'uf_destino_volta','Cidade - Destino volta':'cidade_destino_volta','Valor da passagem':'valor_passagem','Taxa de serviço':'taxa_servico','Data da emissão/compra':'data_emissao_compra','Hora da emissão/compra':'hora_emissao_compra'},inplace=True)"
   ]
  },
  {
   "cell_type": "code",
   "execution_count": null,
   "id": "5d4bf3e3",
   "metadata": {},
   "outputs": [],
   "source": []
  }
 ],
 "metadata": {
  "kernelspec": {
   "display_name": "Python 3 (ipykernel)",
   "language": "python",
   "name": "python3"
  },
  "language_info": {
   "codemirror_mode": {
    "name": "ipython",
    "version": 3
   },
   "file_extension": ".py",
   "mimetype": "text/x-python",
   "name": "python",
   "nbconvert_exporter": "python",
   "pygments_lexer": "ipython3",
   "version": "3.11.8"
  }
 },
 "nbformat": 4,
 "nbformat_minor": 5
}
