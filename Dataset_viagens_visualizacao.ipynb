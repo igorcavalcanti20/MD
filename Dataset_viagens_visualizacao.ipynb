{
 "cells": [
  {
   "cell_type": "code",
   "execution_count": 7,
   "id": "438f02e7",
   "metadata": {},
   "outputs": [],
   "source": [
    "import pandas as pd"
   ]
  },
  {
   "cell_type": "code",
   "execution_count": null,
   "id": "a2039a60",
   "metadata": {},
   "outputs": [],
   "source": [
    "## Codificação\n",
    "# ISO-8859-1"
   ]
  },
  {
   "cell_type": "code",
   "execution_count": null,
   "id": "7fe17bbd",
   "metadata": {},
   "outputs": [],
   "source": [
    "## Path Aline\n",
    "path = r\"\""
   ]
  },
  {
   "cell_type": "code",
   "execution_count": null,
   "id": "5fe26a3d",
   "metadata": {},
   "outputs": [],
   "source": [
    "## Path Igor\n",
    "path = r\"C:\\Users\\Igor\\Modelagem_dados\""
   ]
  },
  {
   "cell_type": "code",
   "execution_count": null,
   "id": "bb25cd42",
   "metadata": {},
   "outputs": [],
   "source": [
    "## Path Marcos\n",
    "path = r\"\""
   ]
  },
  {
   "cell_type": "code",
   "execution_count": 8,
   "id": "9774b93e",
   "metadata": {},
   "outputs": [],
   "source": [
    "## Path Yuri\n",
    "path = r\"C:\\Users\\igory\\Documents\\UFRPE_periodos\\6_periodo_2024\\Modelagem_dados\""
   ]
  },
  {
   "cell_type": "code",
   "execution_count": 9,
   "id": "431d55c9",
   "metadata": {},
   "outputs": [],
   "source": [
    "# Importar datasets\n",
    "\n",
    "## Pagamentos\n",
    "\n",
    "pagamentos_2015 = pd.read_csv(path+r\"\\Pagamento\\2015_Pagamento.csv\", sep=\";\", encoding= \"ISO-8859-1\")\n",
    "pagamentos_2016 = pd.read_csv(path+r\"\\Pagamento\\2016_Pagamento.csv\", sep=\";\", encoding= \"ISO-8859-1\")\n",
    "pagamentos_2017 = pd.read_csv(path+r\"\\Pagamento\\2017_Pagamento.csv\", sep=\";\", encoding= \"ISO-8859-1\")\n",
    "pagamentos_2018 = pd.read_csv(path+r\"\\Pagamento\\2018_Pagamento.csv\", sep=\";\", encoding= \"ISO-8859-1\")\n",
    "pagamentos_2019 = pd.read_csv(path+r\"\\Pagamento\\2019_Pagamento.csv\", sep=\";\", encoding= \"ISO-8859-1\")\n",
    "pagamentos_2020 = pd.read_csv(path+r\"\\Pagamento\\2020_Pagamento.csv\", sep=\";\", encoding= \"ISO-8859-1\")\n",
    "pagamentos_2021 = pd.read_csv(path+r\"\\Pagamento\\2021_Pagamento.csv\", sep=\";\", encoding= \"ISO-8859-1\")\n",
    "pagamentos_2022 = pd.read_csv(path+r\"\\Pagamento\\2022_Pagamento.csv\", sep=\";\", encoding= \"ISO-8859-1\")\n",
    "\n",
    "## Passagem\n",
    "\n",
    "passagem_2015 = pd.read_csv(path+r\"\\Passagem\\2015_Passagem.csv\", sep=\";\", encoding= \"ISO-8859-1\")\n",
    "passagem_2016 = pd.read_csv(path+r\"\\Passagem\\2016_Passagem.csv\", sep=\";\", encoding= \"ISO-8859-1\")\n",
    "passagem_2017 = pd.read_csv(path+r\"\\Passagem\\2017_Passagem.csv\", sep=\";\", encoding= \"ISO-8859-1\")\n",
    "passagem_2018 = pd.read_csv(path+r\"\\Passagem\\2018_Passagem.csv\", sep=\";\", encoding= \"ISO-8859-1\")\n",
    "passagem_2019 = pd.read_csv(path+r\"\\Passagem\\2019_Passagem.csv\", sep=\";\", encoding= \"ISO-8859-1\")\n",
    "passagem_2020 = pd.read_csv(path+r\"\\Passagem\\2020_Passagem.csv\", sep=\";\", encoding= \"ISO-8859-1\")\n",
    "passagem_2021 = pd.read_csv(path+r\"\\Passagem\\2021_Passagem.csv\", sep=\";\", encoding= \"ISO-8859-1\")\n",
    "passagem_2022 = pd.read_csv(path+r\"\\Passagem\\2022_Passagem.csv\", sep=\";\", encoding= \"ISO-8859-1\")\n",
    "\n",
    "## Trecho\n",
    "\n",
    "\n",
    "trecho_2015 = pd.read_csv(path+r\"\\Trecho\\2015_Trecho.csv\", sep=\";\", encoding= \"ISO-8859-1\")\n",
    "trecho_2016 = pd.read_csv(path+r\"\\Trecho\\2016_Trecho.csv\", sep=\";\", encoding= \"ISO-8859-1\")\n",
    "trecho_2017 = pd.read_csv(path+r\"\\Trecho\\2017_Trecho.csv\", sep=\";\", encoding= \"ISO-8859-1\")\n",
    "trecho_2018 = pd.read_csv(path+r\"\\Trecho\\2018_Trecho.csv\", sep=\";\", encoding= \"ISO-8859-1\")\n",
    "trecho_2019 = pd.read_csv(path+r\"\\Trecho\\2019_Trecho.csv\", sep=\";\", encoding= \"ISO-8859-1\")\n",
    "trecho_2020 = pd.read_csv(path+r\"\\Trecho\\2020_Trecho.csv\", sep=\";\", encoding= \"ISO-8859-1\")\n",
    "trecho_2021 = pd.read_csv(path+r\"\\Trecho\\2021_Trecho.csv\", sep=\";\", encoding= \"ISO-8859-1\")\n",
    "trecho_2022 = pd.read_csv(path+r\"\\Trecho\\2022_Trecho.csv\", sep=\";\", encoding= \"ISO-8859-1\")\n",
    "\n",
    "## Viagem\n",
    "\n",
    "viagem_2015 = pd.read_csv(path+r\"\\Viagem\\2015_Viagem.csv\", sep=\";\", encoding= \"ISO-8859-1\")\n",
    "viagem_2016 = pd.read_csv(path+r\"\\Viagem\\2016_Viagem.csv\", sep=\";\", encoding= \"ISO-8859-1\")\n",
    "viagem_2017 = pd.read_csv(path+r\"\\Viagem\\2017_Viagem.csv\", sep=\";\", encoding= \"ISO-8859-1\", dtype={'Função': str})\n",
    "viagem_2018 = pd.read_csv(path+r\"\\Viagem\\2018_Viagem.csv\", sep=\";\", encoding= \"ISO-8859-1\")\n",
    "viagem_2019 = pd.read_csv(path+r\"\\Viagem\\2019_Viagem.csv\", sep=\";\", encoding= \"ISO-8859-1\")\n",
    "viagem_2020 = pd.read_csv(path+r\"\\Viagem\\2020_Viagem.csv\", sep=\";\", encoding= \"ISO-8859-1\")\n",
    "viagem_2021 = pd.read_csv(path+r\"\\Viagem\\2021_Viagem.csv\", sep=\";\", encoding= \"ISO-8859-1\")\n",
    "viagem_2022 = pd.read_csv(path+r\"\\Viagem\\2022_Viagem.csv\", sep=\";\", encoding= \"ISO-8859-1\")"
   ]
  },
  {
   "cell_type": "markdown",
   "id": "43fbec77",
   "metadata": {},
   "source": [
    "# Tratamento dos dados de Viagem"
   ]
  },
  {
   "cell_type": "markdown",
   "id": "8c1df5d1",
   "metadata": {},
   "source": [
    "1. Remoção de colunas sem utilidade"
   ]
  },
  {
   "cell_type": "code",
   "execution_count": null,
   "id": "da3e8cc3",
   "metadata": {
    "scrolled": true
   },
   "outputs": [],
   "source": [
    "viagem_2015.drop(['Viagem Urgente','Justificativa Urgência Viagem','Código órgão solicitante', 'Nome órgão solicitante', 'Descrição Função','Motivo'])\n",
    "viagem_2016.drop(['Viagem Urgente','Justificativa Urgência Viagem','Código órgão solicitante', 'Nome órgão solicitante', 'Descrição Função','Motivo'])\n",
    "viagem_2017.drop(['Viagem Urgente','Justificativa Urgência Viagem','Código órgão solicitante', 'Nome órgão solicitante', 'Descrição Função','Motivo'])\n",
    "viagem_2018.drop(['Viagem Urgente','Justificativa Urgência Viagem','Código órgão solicitante', 'Nome órgão solicitante', 'Descrição Função','Motivo'])\n",
    "viagem_2019.drop(['Viagem Urgente','Justificativa Urgência Viagem','Código órgão solicitante', 'Nome órgão solicitante', 'Descrição Função','Motivo'])\n",
    "viagem_2020.drop(['Viagem Urgente','Justificativa Urgência Viagem','Código órgão solicitante', 'Nome órgão solicitante', 'Descrição Função','Motivo'])\n",
    "viagem_2021.drop(['Viagem Urgente','Justificativa Urgência Viagem','Código órgão solicitante', 'Nome órgão solicitante', 'Descrição Função','Motivo'])\n",
    "viagem_2022.drop(['Viagem Urgente','Justificativa Urgência Viagem','Código órgão solicitante', 'Nome órgão solicitante', 'Descrição Função','Motivo'])"
   ]
  },
  {
   "cell_type": "markdown",
   "id": "ed37167a",
   "metadata": {},
   "source": [
    "2. Divisão dos dados"
   ]
  }
 ],
 "metadata": {
  "kernelspec": {
   "display_name": "Python 3 (ipykernel)",
   "language": "python",
   "name": "python3"
  },
  "language_info": {
   "codemirror_mode": {
    "name": "ipython",
    "version": 3
   },
   "file_extension": ".py",
   "mimetype": "text/x-python",
   "name": "python",
   "nbconvert_exporter": "python",
   "pygments_lexer": "ipython3",
   "version": "3.11.7"
  }
 },
 "nbformat": 4,
 "nbformat_minor": 5
}
