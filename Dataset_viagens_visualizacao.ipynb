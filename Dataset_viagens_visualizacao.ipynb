{
 "cells": [
  {
   "cell_type": "code",
   "execution_count": 2,
   "id": "438f02e7",
   "metadata": {},
   "outputs": [
    {
     "ename": "ModuleNotFoundError",
     "evalue": "No module named 'pandas'",
     "output_type": "error",
     "traceback": [
      "\u001b[1;31m---------------------------------------------------------------------------\u001b[0m",
      "\u001b[1;31mModuleNotFoundError\u001b[0m                       Traceback (most recent call last)",
      "Cell \u001b[1;32mIn[2], line 1\u001b[0m\n\u001b[1;32m----> 1\u001b[0m \u001b[38;5;28;01mimport\u001b[39;00m \u001b[38;5;21;01mpandas\u001b[39;00m \u001b[38;5;28;01mas\u001b[39;00m \u001b[38;5;21;01mpd\u001b[39;00m\n",
      "\u001b[1;31mModuleNotFoundError\u001b[0m: No module named 'pandas'"
     ]
    }
   ],
   "source": [
    "import pandas as pd"
   ]
  },
  {
   "cell_type": "code",
   "execution_count": 2,
   "id": "a2039a60",
   "metadata": {},
   "outputs": [
    {
     "name": "stdout",
     "output_type": "stream",
     "text": [
      "ISO-8859-1\n"
     ]
    }
   ],
   "source": [
    "## Codificação\n",
    "# ISO-8859-1"
   ]
  },
  {
   "cell_type": "code",
   "execution_count": null,
   "id": "7fe17bbd",
   "metadata": {},
   "outputs": [],
   "source": [
    "## Path Aline\n",
    "path = \"\""
   ]
  },
  {
   "cell_type": "code",
   "execution_count": null,
   "id": "5fe26a3d",
   "metadata": {},
   "outputs": [],
   "source": [
    "## Path Igor\n",
    "path = \"C:\\Users\\Igor\\Modelagem_dados\""
   ]
  },
  {
   "cell_type": "code",
   "execution_count": null,
   "id": "bb25cd42",
   "metadata": {},
   "outputs": [],
   "source": [
    "## Path Marcos\n",
    "path = \"\""
   ]
  },
  {
   "cell_type": "code",
   "execution_count": null,
   "id": "9774b93e",
   "metadata": {},
   "outputs": [],
   "source": [
    "## Path Yuri\n",
    "path = \"C:\\Users\\igory\\Documents\\UFRPE_periodos\\6_periodo_2024\\Modelagem_dados\""
   ]
  },
  {
   "cell_type": "code",
   "execution_count": 32,
   "id": "431d55c9",
   "metadata": {},
   "outputs": [],
   "source": [
    "# Importar datasets\n",
    "\n",
    "## Pagamentos\n",
    "\n",
    "pagamentos_2015 = pd.read_csv(f\"{path}\\Pagamento\\2015_Pagamento.csv\", sep=\";\", encoding= \"ISO-8859-1\")\n",
    "pagamentos_2016 = pd.read_csv(f\"{path}\\Pagamento\\2016_Pagamento.csv\", sep=\";\", encoding= \"ISO-8859-1\")\n",
    "pagamentos_2017 = pd.read_csv(f\"{path}\\Pagamento\\2017_Pagamento.csv\", sep=\";\", encoding= \"ISO-8859-1\")\n",
    "pagamentos_2018 = pd.read_csv(f\"{path}\\Pagamento\\2018_Pagamento.csv\", sep=\";\", encoding= \"ISO-8859-1\")\n",
    "pagamentos_2019 = pd.read_csv(f\"{path}\\Pagamento\\2019_Pagamento.csv\", sep=\";\", encoding= \"ISO-8859-1\")\n",
    "pagamentos_2020 = pd.read_csv(f\"{path}\\Pagamento\\2020_Pagamento.csv\", sep=\";\", encoding= \"ISO-8859-1\")\n",
    "pagamentos_2021 = pd.read_csv(f\"{path}\\Pagamento\\2021_Pagamento.csv\", sep=\";\", encoding= \"ISO-8859-1\")\n",
    "pagamentos_2022 = pd.read_csv(f\"{path}\\Pagamento\\2022_Pagamento.csv\", sep=\";\", encoding= \"ISO-8859-1\")\n",
    "\n",
    "## Passagem\n",
    "\n",
    "passagem_2015 = pd.read_csv(f\"{path}\\Passagem\\2015_Passagem.csv\", sep=\";\", encoding= \"ISO-8859-1\")\n",
    "passagem_2016 = pd.read_csv(f\"{path}\\Passagem\\2016_Passagem.csv\", sep=\";\", encoding= \"ISO-8859-1\")\n",
    "passagem_2017 = pd.read_csv(f\"{path}\\Passagem\\2017_Passagem.csv\", sep=\";\", encoding= \"ISO-8859-1\")\n",
    "passagem_2018 = pd.read_csv(f\"{path}\\Passagem\\2018_Passagem.csv\", sep=\";\", encoding= \"ISO-8859-1\")\n",
    "passagem_2019 = pd.read_csv(f\"{path}\\Passagem\\2019_Passagem.csv\", sep=\";\", encoding= \"ISO-8859-1\")\n",
    "passagem_2020 = pd.read_csv(f\"{path}\\Passagem\\2020_Passagem.csv\", sep=\";\", encoding= \"ISO-8859-1\")\n",
    "passagem_2021 = pd.read_csv(f\"{path}\\Passagem\\2021_Passagem.csv\", sep=\";\", encoding= \"ISO-8859-1\")\n",
    "passagem_2022 = pd.read_csv(f\"{path}\\Passagem\\2022_Passagem.csv\", sep=\";\", encoding= \"ISO-8859-1\")\n",
    "\n",
    "## Trecho\n",
    "\n",
    "\n",
    "trecho_2015 = pd.read_csv(f\"{path}\\Trecho\\2015_Trecho.csv\", sep=\";\", encoding= \"ISO-8859-1\")\n",
    "trecho_2016 = pd.read_csv(f\"{path}\\Trecho\\2016_Trecho.csv\", sep=\";\", encoding= \"ISO-8859-1\")\n",
    "trecho_2017 = pd.read_csv(f\"{path}\\Trecho\\2017_Trecho.csv\", sep=\";\", encoding= \"ISO-8859-1\")\n",
    "trecho_2018 = pd.read_csv(f\"{path}\\Trecho\\2018_Trecho.csv\", sep=\";\", encoding= \"ISO-8859-1\")\n",
    "trecho_2019 = pd.read_csv(f\"{path}\\Trecho\\2019_Trecho.csv\", sep=\";\", encoding= \"ISO-8859-1\")\n",
    "trecho_2020 = pd.read_csv(f\"{path}\\Trecho\\2020_Trecho.csv\", sep=\";\", encoding= \"ISO-8859-1\")\n",
    "trecho_2021 = pd.read_csv(f\"{path}\\Trecho\\2021_Trecho.csv\", sep=\";\", encoding= \"ISO-8859-1\")\n",
    "trecho_2022 = pd.read_csv(f\"{path}\\Trecho\\2022_Trecho.csv\", sep=\";\", encoding= \"ISO-8859-1\")\n",
    "\n",
    "## Viagem\n",
    "\n",
    "viagem_2015 = pd.read_csv(f\"{path}\\Viagem\\2015_Viagem.csv\", sep=\";\", encoding= \"ISO-8859-1\")\n",
    "viagem_2016 = pd.read_csv(f\"{path}\\Viagem\\2016_Viagem.csv\", sep=\";\", encoding= \"ISO-8859-1\")\n",
    "viagem_2017 = pd.read_csv(f\"{path}\\Viagem\\2017_Viagem.csv\", sep=\";\", encoding= \"ISO-8859-1\", dtype={'Função': str})\n",
    "viagem_2018 = pd.read_csv(f\"{path}\\Viagem\\2018_Viagem.csv\", sep=\";\", encoding= \"ISO-8859-1\")\n",
    "viagem_2019 = pd.read_csv(f\"{path}\\Viagem\\2019_Viagem.csv\", sep=\";\", encoding= \"ISO-8859-1\")\n",
    "viagem_2020 = pd.read_csv(f\"{path}\\Viagem\\2020_Viagem.csv\", sep=\";\", encoding= \"ISO-8859-1\")\n",
    "viagem_2021 = pd.read_csv(f\"{path}\\Viagem\\2021_Viagem.csv\", sep=\";\", encoding= \"ISO-8859-1\")\n",
    "viagem_2022 = pd.read_csv(f\"{path}\\Viagem\\2022_Viagem.csv\", sep=\";\", encoding= \"ISO-8859-1\")"
   ]
  },
  {
   "cell_type": "code",
   "execution_count": 30,
   "id": "da3e8cc3",
   "metadata": {
    "scrolled": true
   },
   "outputs": [
    {
     "name": "stdout",
     "output_type": "stream",
     "text": [
      "2011:  Index(['Identificador do processo de viagem', 'Número da Proposta (PCDP)',\n",
      "       'Situação', 'Viagem Urgente', 'Justificativa Urgência Viagem',\n",
      "       'Código do órgão superior', 'Nome do órgão superior',\n",
      "       'Código órgão solicitante', 'Nome órgão solicitante', 'CPF viajante',\n",
      "       'Nome', 'Cargo', 'Função', 'Descrição Função',\n",
      "       'Período - Data de início', 'Período - Data de fim', 'Destinos',\n",
      "       'Motivo', 'Valor diárias', 'Valor passagens', 'Valor devolução',\n",
      "       'Valor outros gastos'],\n",
      "      dtype='object')\n",
      "2012:  Index(['Identificador do processo de viagem', 'Número da Proposta (PCDP)',\n",
      "       'Situação', 'Viagem Urgente', 'Justificativa Urgência Viagem',\n",
      "       'Código do órgão superior', 'Nome do órgão superior',\n",
      "       'Código órgão solicitante', 'Nome órgão solicitante', 'CPF viajante',\n",
      "       'Nome', 'Cargo', 'Função', 'Descrição Função',\n",
      "       'Período - Data de início', 'Período - Data de fim', 'Destinos',\n",
      "       'Motivo', 'Valor diárias', 'Valor passagens', 'Valor devolução',\n",
      "       'Valor outros gastos'],\n",
      "      dtype='object')\n",
      "2013:  Index(['Identificador do processo de viagem', 'Número da Proposta (PCDP)',\n",
      "       'Situação', 'Viagem Urgente', 'Justificativa Urgência Viagem',\n",
      "       'Código do órgão superior', 'Nome do órgão superior',\n",
      "       'Código órgão solicitante', 'Nome órgão solicitante', 'CPF viajante',\n",
      "       'Nome', 'Cargo', 'Função', 'Descrição Função',\n",
      "       'Período - Data de início', 'Período - Data de fim', 'Destinos',\n",
      "       'Motivo', 'Valor diárias', 'Valor passagens', 'Valor devolução',\n",
      "       'Valor outros gastos'],\n",
      "      dtype='object')\n",
      "2014:  Index(['Identificador do processo de viagem', 'Número da Proposta (PCDP)',\n",
      "       'Situação', 'Viagem Urgente', 'Justificativa Urgência Viagem',\n",
      "       'Código do órgão superior', 'Nome do órgão superior',\n",
      "       'Código órgão solicitante', 'Nome órgão solicitante', 'CPF viajante',\n",
      "       'Nome', 'Cargo', 'Função', 'Descrição Função',\n",
      "       'Período - Data de início', 'Período - Data de fim', 'Destinos',\n",
      "       'Motivo', 'Valor diárias', 'Valor passagens', 'Valor devolução',\n",
      "       'Valor outros gastos'],\n",
      "      dtype='object')\n",
      "2015:  Index(['Identificador do processo de viagem', 'Número da Proposta (PCDP)',\n",
      "       'Situação', 'Viagem Urgente', 'Justificativa Urgência Viagem',\n",
      "       'Código do órgão superior', 'Nome do órgão superior',\n",
      "       'Código órgão solicitante', 'Nome órgão solicitante', 'CPF viajante',\n",
      "       'Nome', 'Cargo', 'Função', 'Descrição Função',\n",
      "       'Período - Data de início', 'Período - Data de fim', 'Destinos',\n",
      "       'Motivo', 'Valor diárias', 'Valor passagens', 'Valor devolução',\n",
      "       'Valor outros gastos'],\n",
      "      dtype='object')\n",
      "2016:  Index(['Identificador do processo de viagem', 'Número da Proposta (PCDP)',\n",
      "       'Situação', 'Viagem Urgente', 'Justificativa Urgência Viagem',\n",
      "       'Código do órgão superior', 'Nome do órgão superior',\n",
      "       'Código órgão solicitante', 'Nome órgão solicitante', 'CPF viajante',\n",
      "       'Nome', 'Cargo', 'Função', 'Descrição Função',\n",
      "       'Período - Data de início', 'Período - Data de fim', 'Destinos',\n",
      "       'Motivo', 'Valor diárias', 'Valor passagens', 'Valor devolução',\n",
      "       'Valor outros gastos'],\n",
      "      dtype='object')\n",
      "2017:  Index(['Identificador do processo de viagem', 'Número da Proposta (PCDP)',\n",
      "       'Situação', 'Viagem Urgente', 'Justificativa Urgência Viagem',\n",
      "       'Código do órgão superior', 'Nome do órgão superior',\n",
      "       'Código órgão solicitante', 'Nome órgão solicitante', 'CPF viajante',\n",
      "       'Nome', 'Cargo', 'Função', 'Descrição Função',\n",
      "       'Período - Data de início', 'Período - Data de fim', 'Destinos',\n",
      "       'Motivo', 'Valor diárias', 'Valor passagens', 'Valor devolução',\n",
      "       'Valor outros gastos'],\n",
      "      dtype='object')\n",
      "2018:  Index(['Identificador do processo de viagem', 'Número da Proposta (PCDP)',\n",
      "       'Situação', 'Viagem Urgente', 'Justificativa Urgência Viagem',\n",
      "       'Código do órgão superior', 'Nome do órgão superior',\n",
      "       'Código órgão solicitante', 'Nome órgão solicitante', 'CPF viajante',\n",
      "       'Nome', 'Cargo', 'Função', 'Descrição Função',\n",
      "       'Período - Data de início', 'Período - Data de fim', 'Destinos',\n",
      "       'Motivo', 'Valor diárias', 'Valor passagens', 'Valor devolução',\n",
      "       'Valor outros gastos'],\n",
      "      dtype='object')\n",
      "2019:  Index(['Identificador do processo de viagem', 'Número da Proposta (PCDP)',\n",
      "       'Situação', 'Viagem Urgente', 'Justificativa Urgência Viagem',\n",
      "       'Código do órgão superior', 'Nome do órgão superior',\n",
      "       'Código órgão solicitante', 'Nome órgão solicitante', 'CPF viajante',\n",
      "       'Nome', 'Cargo', 'Função', 'Descrição Função',\n",
      "       'Período - Data de início', 'Período - Data de fim', 'Destinos',\n",
      "       'Motivo', 'Valor diárias', 'Valor passagens', 'Valor devolução',\n",
      "       'Valor outros gastos'],\n",
      "      dtype='object')\n",
      "2020:  Index(['Identificador do processo de viagem', 'Número da Proposta (PCDP)',\n",
      "       'Situação', 'Viagem Urgente', 'Justificativa Urgência Viagem',\n",
      "       'Código do órgão superior', 'Nome do órgão superior',\n",
      "       'Código órgão solicitante', 'Nome órgão solicitante', 'CPF viajante',\n",
      "       'Nome', 'Cargo', 'Função', 'Descrição Função',\n",
      "       'Período - Data de início', 'Período - Data de fim', 'Destinos',\n",
      "       'Motivo', 'Valor diárias', 'Valor passagens', 'Valor devolução',\n",
      "       'Valor outros gastos'],\n",
      "      dtype='object')\n",
      "2021:  Index(['Identificador do processo de viagem', 'Número da Proposta (PCDP)',\n",
      "       'Situação', 'Viagem Urgente', 'Justificativa Urgência Viagem',\n",
      "       'Código do órgão superior', 'Nome do órgão superior',\n",
      "       'Código órgão solicitante', 'Nome órgão solicitante', 'CPF viajante',\n",
      "       'Nome', 'Cargo', 'Função', 'Descrição Função',\n",
      "       'Período - Data de início', 'Período - Data de fim', 'Destinos',\n",
      "       'Motivo', 'Valor diárias', 'Valor passagens', 'Valor devolução',\n",
      "       'Valor outros gastos'],\n",
      "      dtype='object')\n",
      "2022:  Index(['Identificador do processo de viagem', 'Número da Proposta (PCDP)',\n",
      "       'Situação', 'Viagem Urgente', 'Justificativa Urgência Viagem',\n",
      "       'Código do órgão superior', 'Nome do órgão superior',\n",
      "       'Código órgão solicitante', 'Nome órgão solicitante', 'CPF viajante',\n",
      "       'Nome', 'Cargo', 'Função', 'Descrição Função',\n",
      "       'Período - Data de início', 'Período - Data de fim', 'Destinos',\n",
      "       'Motivo', 'Valor diárias', 'Valor passagens', 'Valor devolução',\n",
      "       'Valor outros gastos'],\n",
      "      dtype='object')\n",
      "2023:  Index(['Identificador do processo de viagem', 'Número da Proposta (PCDP)',\n",
      "       'Situação', 'Viagem Urgente', 'Justificativa Urgência Viagem',\n",
      "       'Código do órgão superior', 'Nome do órgão superior',\n",
      "       'Código órgão solicitante', 'Nome órgão solicitante', 'CPF viajante',\n",
      "       'Nome', 'Cargo', 'Função', 'Descrição Função',\n",
      "       'Período - Data de início', 'Período - Data de fim', 'Destinos',\n",
      "       'Motivo', 'Valor diárias', 'Valor passagens', 'Valor devolução',\n",
      "       'Valor outros gastos'],\n",
      "      dtype='object')\n"
     ]
    }
   ],
   "source": [
    "pagamentos_2015.drop"
   ]
  },
  {
   "cell_type": "code",
   "execution_count": null,
   "id": "43fbec77",
   "metadata": {},
   "outputs": [],
   "source": []
  },
  {
   "cell_type": "code",
   "execution_count": null,
   "id": "ed37167a",
   "metadata": {},
   "outputs": [],
   "source": []
  }
 ],
 "metadata": {
  "kernelspec": {
   "display_name": "Python 3 (ipykernel)",
   "language": "python",
   "name": "python3"
  },
  "language_info": {
   "codemirror_mode": {
    "name": "ipython",
    "version": 3
   },
   "file_extension": ".py",
   "mimetype": "text/x-python",
   "name": "python",
   "nbconvert_exporter": "python",
   "pygments_lexer": "ipython3",
   "version": "3.12.3"
  }
 },
 "nbformat": 4,
 "nbformat_minor": 5
}
