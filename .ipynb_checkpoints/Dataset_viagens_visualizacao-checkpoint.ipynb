{
 "cells": [
  {
   "cell_type": "code",
   "execution_count": 1,
   "id": "438f02e7",
   "metadata": {},
   "outputs": [],
   "source": [
    "import pandas as pd"
   ]
  },
  {
   "cell_type": "code",
   "execution_count": null,
   "id": "a2039a60",
   "metadata": {},
   "outputs": [],
   "source": [
    "## Codificação\n",
    "# ISO-8859-1"
   ]
  },
  {
   "cell_type": "code",
   "execution_count": null,
   "id": "7fe17bbd",
   "metadata": {},
   "outputs": [],
   "source": [
    "## Path Aline\n",
    "path = r\"/home/aline/Documentos/Modelagem_dados\""
   ]
  },
  {
   "cell_type": "code",
   "execution_count": null,
   "id": "5fe26a3d",
   "metadata": {},
   "outputs": [],
   "source": [
    "## Path Igor\n",
    "path = r\"C:\\Users\\Igor\\Modelagem_dados\""
   ]
  },
  {
   "cell_type": "code",
   "execution_count": null,
   "id": "bb25cd42",
   "metadata": {},
   "outputs": [],
   "source": [
    "## Path Marcos\n",
    "path = r\"C:\\Users\\Marcos\\Desktop\\Projetos\\Modelagem_dados\""
   ]
  },
  {
   "cell_type": "code",
   "execution_count": 2,
   "id": "9774b93e",
   "metadata": {},
   "outputs": [],
   "source": [
    "## Path Yuri\n",
    "path = r\"C:\\Users\\igory\\Documents\\UFRPE_periodos\\6_periodo_2024\\Modelagem_dados\""
   ]
  },
  {
   "cell_type": "markdown",
   "id": "05b4ad51",
   "metadata": {},
   "source": [
    "# Importar Base de dados"
   ]
  },
  {
   "cell_type": "markdown",
   "id": "c2aa2f05",
   "metadata": {},
   "source": [
    "1. Tabelas de Pagamentos"
   ]
  },
  {
   "cell_type": "code",
   "execution_count": null,
   "id": "63ede326",
   "metadata": {},
   "outputs": [],
   "source": [
    "pagamento_2015 = pd.read_csv(path+r\"\\Pagamento\\2015_Pagamento.csv\", sep=\";\", encoding= \"ISO-8859-1\")\n",
    "pagamento_2016 = pd.read_csv(path+r\"\\Pagamento\\2016_Pagamento.csv\", sep=\";\", encoding= \"ISO-8859-1\")\n",
    "pagamento_2017 = pd.read_csv(path+r\"\\Pagamento\\2017_Pagamento.csv\", sep=\";\", encoding= \"ISO-8859-1\")\n",
    "pagamento_2018 = pd.read_csv(path+r\"\\Pagamento\\2018_Pagamento.csv\", sep=\";\", encoding= \"ISO-8859-1\")\n",
    "pagamento_2019 = pd.read_csv(path+r\"\\Pagamento\\2019_Pagamento.csv\", sep=\";\", encoding= \"ISO-8859-1\")\n",
    "pagamento_2020 = pd.read_csv(path+r\"\\Pagamento\\2020_Pagamento.csv\", sep=\";\", encoding= \"ISO-8859-1\")\n",
    "pagamento_2021 = pd.read_csv(path+r\"\\Pagamento\\2021_Pagamento.csv\", sep=\";\", encoding= \"ISO-8859-1\")\n",
    "pagamento_2022 = pd.read_csv(path+r\"\\Pagamento\\2022_Pagamento.csv\", sep=\";\", encoding= \"ISO-8859-1\")"
   ]
  },
  {
   "cell_type": "markdown",
   "id": "9d9c1a48",
   "metadata": {},
   "source": [
    "2. Tabelas de Passagens"
   ]
  },
  {
   "cell_type": "code",
   "execution_count": null,
   "id": "6da7d872",
   "metadata": {},
   "outputs": [],
   "source": [
    "passagem_2015 = pd.read_csv(path+r\"\\Passagem\\2015_Passagem.csv\", sep=\";\", encoding= \"ISO-8859-1\")\n",
    "passagem_2016 = pd.read_csv(path+r\"\\Passagem\\2016_Passagem.csv\", sep=\";\", encoding= \"ISO-8859-1\")\n",
    "passagem_2017 = pd.read_csv(path+r\"\\Passagem\\2017_Passagem.csv\", sep=\";\", encoding= \"ISO-8859-1\")\n",
    "passagem_2018 = pd.read_csv(path+r\"\\Passagem\\2018_Passagem.csv\", sep=\";\", encoding= \"ISO-8859-1\")\n",
    "passagem_2019 = pd.read_csv(path+r\"\\Passagem\\2019_Passagem.csv\", sep=\";\", encoding= \"ISO-8859-1\")\n",
    "passagem_2020 = pd.read_csv(path+r\"\\Passagem\\2020_Passagem.csv\", sep=\";\", encoding= \"ISO-8859-1\")\n",
    "passagem_2021 = pd.read_csv(path+r\"\\Passagem\\2021_Passagem.csv\", sep=\";\", encoding= \"ISO-8859-1\")\n",
    "passagem_2022 = pd.read_csv(path+r\"\\Passagem\\2022_Passagem.csv\", sep=\";\", encoding= \"ISO-8859-1\")"
   ]
  },
  {
   "cell_type": "markdown",
   "id": "f06254f1",
   "metadata": {},
   "source": [
    "3. Tabelas de Trechos"
   ]
  },
  {
   "cell_type": "code",
   "execution_count": null,
   "id": "c3bfb928",
   "metadata": {},
   "outputs": [],
   "source": [
    "trecho_2015 = pd.read_csv(path+r\"\\Trecho\\2015_Trecho.csv\", sep=\";\", encoding= \"ISO-8859-1\")\n",
    "trecho_2016 = pd.read_csv(path+r\"\\Trecho\\2016_Trecho.csv\", sep=\";\", encoding= \"ISO-8859-1\")\n",
    "trecho_2017 = pd.read_csv(path+r\"\\Trecho\\2017_Trecho.csv\", sep=\";\", encoding= \"ISO-8859-1\")\n",
    "trecho_2018 = pd.read_csv(path+r\"\\Trecho\\2018_Trecho.csv\", sep=\";\", encoding= \"ISO-8859-1\")\n",
    "trecho_2019 = pd.read_csv(path+r\"\\Trecho\\2019_Trecho.csv\", sep=\";\", encoding= \"ISO-8859-1\")\n",
    "trecho_2020 = pd.read_csv(path+r\"\\Trecho\\2020_Trecho.csv\", sep=\";\", encoding= \"ISO-8859-1\")\n",
    "trecho_2021 = pd.read_csv(path+r\"\\Trecho\\2021_Trecho.csv\", sep=\";\", encoding= \"ISO-8859-1\")\n",
    "trecho_2022 = pd.read_csv(path+r\"\\Trecho\\2022_Trecho.csv\", sep=\";\", encoding= \"ISO-8859-1\")"
   ]
  },
  {
   "cell_type": "markdown",
   "id": "16550184",
   "metadata": {},
   "source": [
    "4. Tabelas de Viagens"
   ]
  },
  {
   "cell_type": "code",
   "execution_count": 3,
   "id": "431d55c9",
   "metadata": {},
   "outputs": [],
   "source": [
    "viagem_2015 = pd.read_csv(path+r\"\\Viagem\\2015_Viagem.csv\", sep=\";\", encoding= \"ISO-8859-1\")\n",
    "viagem_2016 = pd.read_csv(path+r\"\\Viagem\\2016_Viagem.csv\", sep=\";\", encoding= \"ISO-8859-1\")\n",
    "viagem_2017 = pd.read_csv(path+r\"\\Viagem\\2017_Viagem.csv\", sep=\";\", encoding= \"ISO-8859-1\", dtype={'Função': str})\n",
    "viagem_2018 = pd.read_csv(path+r\"\\Viagem\\2018_Viagem.csv\", sep=\";\", encoding= \"ISO-8859-1\")\n",
    "viagem_2019 = pd.read_csv(path+r\"\\Viagem\\2019_Viagem.csv\", sep=\";\", encoding= \"ISO-8859-1\")\n",
    "viagem_2020 = pd.read_csv(path+r\"\\Viagem\\2020_Viagem.csv\", sep=\";\", encoding= \"ISO-8859-1\")\n",
    "viagem_2021 = pd.read_csv(path+r\"\\Viagem\\2021_Viagem.csv\", sep=\";\", encoding= \"ISO-8859-1\")\n",
    "viagem_2022 = pd.read_csv(path+r\"\\Viagem\\2022_Viagem.csv\", sep=\";\", encoding= \"ISO-8859-1\")"
   ]
  },
  {
   "cell_type": "markdown",
   "id": "43fbec77",
   "metadata": {},
   "source": [
    "# Tratamento dos dados de Viagem"
   ]
  },
  {
   "cell_type": "markdown",
   "id": "8c1df5d1",
   "metadata": {},
   "source": [
    "1. Remoção de colunas sem utilidade"
   ]
  },
  {
   "cell_type": "code",
   "execution_count": 4,
   "id": "da3e8cc3",
   "metadata": {
    "scrolled": true
   },
   "outputs": [],
   "source": [
    "viagem_2015.drop(['Número da Proposta (PCDP)','Viagem Urgente','Justificativa Urgência Viagem','Código órgão solicitante', 'Nome órgão solicitante', 'Descrição Função','Motivo', 'Nome do órgão superior', 'Destinos'], axis=1, inplace=True)\n",
    "viagem_2016.drop(['Número da Proposta (PCDP)','Viagem Urgente','Justificativa Urgência Viagem','Código órgão solicitante', 'Nome órgão solicitante', 'Descrição Função','Motivo', 'Nome do órgão superior', 'Destinos'], axis=1, inplace=True)\n",
    "viagem_2017.drop(['Número da Proposta (PCDP)','Viagem Urgente','Justificativa Urgência Viagem','Código órgão solicitante', 'Nome órgão solicitante', 'Descrição Função','Motivo', 'Nome do órgão superior', 'Destinos'], axis=1, inplace=True)\n",
    "viagem_2018.drop(['Número da Proposta (PCDP)','Viagem Urgente','Justificativa Urgência Viagem','Código órgão solicitante', 'Nome órgão solicitante', 'Descrição Função','Motivo', 'Nome do órgão superior', 'Destinos'], axis=1, inplace=True)\n",
    "viagem_2019.drop(['Número da Proposta (PCDP)','Viagem Urgente','Justificativa Urgência Viagem','Código órgão solicitante', 'Nome órgão solicitante', 'Descrição Função','Motivo', 'Nome do órgão superior', 'Destinos'], axis=1, inplace=True)\n",
    "viagem_2020.drop(['Número da Proposta (PCDP)','Viagem Urgente','Justificativa Urgência Viagem','Código órgão solicitante', 'Nome órgão solicitante', 'Descrição Função','Motivo', 'Nome do órgão superior', 'Destinos'], axis=1, inplace=True)\n",
    "viagem_2021.drop(['Número da Proposta (PCDP)','Viagem Urgente','Justificativa Urgência Viagem','Código órgão solicitante', 'Nome órgão solicitante', 'Descrição Função','Motivo', 'Nome do órgão superior', 'Destinos'], axis=1, inplace=True)\n",
    "viagem_2022.drop(['Número da Proposta (PCDP)','Viagem Urgente','Justificativa Urgência Viagem','Código órgão solicitante', 'Nome órgão solicitante', 'Descrição Função','Motivo', 'Nome do órgão superior', 'Destinos'], axis=1, inplace=True)"
   ]
  },
  {
   "cell_type": "markdown",
   "id": "ed37167a",
   "metadata": {},
   "source": [
    "2. Divisão dos dados"
   ]
  },
  {
   "cell_type": "code",
   "execution_count": 5,
   "id": "34e47795",
   "metadata": {},
   "outputs": [],
   "source": [
    "# Criar a tabela Viajante\n",
    "\n",
    "viajante_2015 = viagem_2015[['CPF viajante', 'Nome', 'Cargo', 'Função']].copy()\n",
    "viajante_2015.rename(columns={'CPF viajante':'cpf_viajante', 'Nome':'nome_viajante', 'Cargo':'cargo_viajante', 'Função':'funcao_viajante'}, inplace=True)\n",
    "\n",
    "viajante_2016 = viagem_2016[['CPF viajante', 'Nome', 'Cargo', 'Função']].copy()\n",
    "viajante_2016.rename(columns={'CPF viajante':'cpf_viajante', 'Nome':'nome_viajante', 'Cargo':'cargo_viajante', 'Função':'funcao_viajante'}, inplace=True)\n",
    "\n",
    "viajante_2017 = viagem_2017[['CPF viajante', 'Nome', 'Cargo', 'Função']].copy()\n",
    "viajante_2017.rename(columns={'CPF viajante':'cpf_viajante', 'Nome':'nome_viajante', 'Cargo':'cargo_viajante', 'Função':'funcao_viajante'}, inplace=True)\n",
    "\n",
    "viajante_2018 = viagem_2018[['CPF viajante', 'Nome', 'Cargo', 'Função']].copy()\n",
    "viajante_2018.rename(columns={'CPF viajante':'cpf_viajante', 'Nome':'nome_viajante', 'Cargo':'cargo_viajante', 'Função':'funcao_viajante'}, inplace=True)\n",
    "\n",
    "viajante_2019 = viagem_2019[['CPF viajante', 'Nome', 'Cargo', 'Função']].copy()\n",
    "viajante_2019.rename(columns={'CPF viajante':'cpf_viajante', 'Nome':'nome_viajante', 'Cargo':'cargo_viajante', 'Função':'funcao_viajante'}, inplace=True)\n",
    "\n",
    "viajante_2020 = viagem_2020[['CPF viajante', 'Nome', 'Cargo', 'Função']].copy()\n",
    "viajante_2020.rename(columns={'CPF viajante':'cpf_viajante', 'Nome':'nome_viajante', 'Cargo':'cargo_viajante', 'Função':'funcao_viajante'}, inplace=True)\n",
    "\n",
    "viajante_2021 = viagem_2021[['CPF viajante', 'Nome', 'Cargo', 'Função']].copy()\n",
    "viajante_2021.rename(columns={'CPF viajante':'cpf_viajante', 'Nome':'nome_viajante', 'Cargo':'cargo_viajante', 'Função':'funcao_viajante'}, inplace=True)\n",
    "\n",
    "viajante_2022 = viagem_2022[['CPF viajante', 'Nome', 'Cargo', 'Função']].copy()\n",
    "viajante_2022.rename(columns={'CPF viajante':'cpf_viajante', 'Nome':'nome_viajante', 'Cargo':'cargo_viajante', 'Função':'funcao_viajante'}, inplace=True)\n",
    "\n",
    "# Unir Tabelas\n",
    "viajante = pd.concat([viajante_2015, viajante_2016, viajante_2017, viajante_2018, viajante_2019, viajante_2020, viajante_2021, viajante_2022], ignore_index=True)\n",
    "\n",
    "# Remover dados duplicados\n",
    "viajante = viajante.drop_duplicates(subset=['cpf_viajante', 'nome_viajante'])\n",
    "\n",
    "\n",
    "# Remover acentuação\n",
    "viajante['nome_viajante'] = viajante['nome_viajante'].str.normalize('NFKD').str.encode('ascii', 'ignore').str.decode('utf-8')\n",
    "viajante['cargo_viajante'] = viajante['cargo_viajante'].str.normalize('NFKD').str.encode('ascii', 'ignore').str.decode('utf-8')\n",
    "viajante['funcao_viajante'] = viajante['funcao_viajante'].str.normalize('NFKD').str.encode('ascii', 'ignore').str.decode('utf-8')\n",
    "viajante['nome_viajante'] = viajante['nome_viajante'].str.replace('?', '')\n",
    "viajante['nome_viajante'] = viajante['nome_viajante'].str.replace('.', '')\n",
    "viajante['nome_viajante'] = viajante['nome_viajante'].str.replace(',', '')\n",
    "\n",
    "viajante['nome_viajante'] = viajante['nome_viajante'].str.upper()\n",
    "\n",
    "viajante['cargo_viajante'].fillna('Sem Informacoes')\n",
    "viajante['funcao_viajante'] = viajante['funcao_viajante'].str.replace('-11', 'Informacoes protegidas por sigilo')\n",
    "viajante['funcao_viajante'] = viajante['funcao_viajante'].str.replace('-3', 'Sem Informacoes')\n",
    "viajante['funcao_viajante'] = viajante['funcao_viajante'].str.replace('-1', 'Sem Informacoes')\n",
    "\n",
    "# Ordenar\n",
    "viajante = viajante.sort_values(by=['nome_viajante'])\n",
    "\n",
    "\n",
    "\n",
    "# Adicionar a coluna id_viajante\n",
    "\n",
    "viajante['id_viajante'] = range(1, len(viajante)+1)"
   ]
  },
  {
   "cell_type": "markdown",
   "id": "9abfab84",
   "metadata": {},
   "source": [
    "3. Remover as colunas de Viajante da Tabela Viagens"
   ]
  },
  {
   "cell_type": "code",
   "execution_count": 6,
   "id": "f0811715",
   "metadata": {},
   "outputs": [],
   "source": [
    "viagem_2015.drop(['Cargo', 'Função'], axis=1, inplace=True)\n",
    "viagem_2016.drop(['Cargo', 'Função'], axis=1, inplace=True)\n",
    "viagem_2017.drop(['Cargo', 'Função'], axis=1, inplace=True)\n",
    "viagem_2018.drop(['Cargo', 'Função'], axis=1, inplace=True)\n",
    "viagem_2019.drop(['Cargo', 'Função'], axis=1, inplace=True)\n",
    "viagem_2020.drop(['Cargo', 'Função'], axis=1, inplace=True)\n",
    "viagem_2021.drop(['Cargo', 'Função'], axis=1, inplace=True)\n",
    "viagem_2022.drop(['Cargo', 'Função'], axis=1, inplace=True)"
   ]
  },
  {
   "cell_type": "markdown",
   "id": "f707c403",
   "metadata": {},
   "source": [
    "4. Renomear as colunas de Viagens"
   ]
  },
  {
   "cell_type": "code",
   "execution_count": 7,
   "id": "a5e8c8b8",
   "metadata": {},
   "outputs": [],
   "source": [
    "viagem_2015.rename(columns={'Identificador do processo de viagem':'id_processo_viagem', 'Situação':'situacao', 'Código do órgão superior':'codigo_orgao_superior_viagem',\n",
    "       'Período - Data de início':'periodo_data_inicio', 'Período - Data de fim':'periodo_data_fim', 'Valor diárias':'valor_diarias', 'Valor passagens':'valor_passagem',\n",
    "       'Valor devolução':'valor_devolucao', 'Valor outros gastos':'valor_outros_gastos', 'CPF viajante':'cpf_viajante', 'Nome':'nome_viajante'}, inplace=True)\n",
    "\n",
    "viagem_2016.rename(columns={'Identificador do processo de viagem':'id_processo_viagem', 'Situação':'situacao', 'Código do órgão superior':'codigo_orgao_superior_viagem',\n",
    "       'Período - Data de início':'periodo_data_inicio', 'Período - Data de fim':'periodo_data_fim', 'Valor diárias':'valor_diarias', 'Valor passagens':'valor_passagem',\n",
    "       'Valor devolução':'valor_devolucao', 'Valor outros gastos':'valor_outros_gastos','CPF viajante':'cpf_viajante', 'Nome':'nome_viajante'}, inplace=True)\n",
    "\n",
    "viagem_2017.rename(columns={'Identificador do processo de viagem':'id_processo_viagem', 'Situação':'situacao', 'Código do órgão superior':'codigo_orgao_superior_viagem',\n",
    "       'Período - Data de início':'periodo_data_inicio', 'Período - Data de fim':'periodo_data_fim', 'Valor diárias':'valor_diarias', 'Valor passagens':'valor_passagem',\n",
    "       'Valor devolução':'valor_devolucao', 'Valor outros gastos':'valor_outros_gastos','CPF viajante':'cpf_viajante', 'Nome':'nome_viajante'}, inplace=True)\n",
    "\n",
    "viagem_2018.rename(columns={'Identificador do processo de viagem':'id_processo_viagem', 'Situação':'situacao', 'Código do órgão superior':'codigo_orgao_superior_viagem',\n",
    "       'Período - Data de início':'periodo_data_inicio', 'Período - Data de fim':'periodo_data_fim', 'Valor diárias':'valor_diarias', 'Valor passagens':'valor_passagem',\n",
    "       'Valor devolução':'valor_devolucao', 'Valor outros gastos':'valor_outros_gastos', 'CPF viajante':'cpf_viajante', 'Nome':'nome_viajante'}, inplace=True)\n",
    "\n",
    "viagem_2019.rename(columns={'Identificador do processo de viagem':'id_processo_viagem', 'Situação':'situacao', 'Código do órgão superior':'codigo_orgao_superior_viagem',\n",
    "       'Período - Data de início':'periodo_data_inicio', 'Período - Data de fim':'periodo_data_fim', 'Valor diárias':'valor_diarias', 'Valor passagens':'valor_passagem',\n",
    "       'Valor devolução':'valor_devolucao', 'Valor outros gastos':'valor_outros_gastos', 'CPF viajante':'cpf_viajante', 'Nome':'nome_viajante'}, inplace=True)\n",
    "\n",
    "viagem_2020.rename(columns={'Identificador do processo de viagem':'id_processo_viagem', 'Situação':'situacao', 'Código do órgão superior':'codigo_orgao_superior_viagem',\n",
    "       'Período - Data de início':'periodo_data_inicio', 'Período - Data de fim':'periodo_data_fim', 'Valor diárias':'valor_diarias', 'Valor passagens':'valor_passagem',\n",
    "       'Valor devolução':'valor_devolucao', 'Valor outros gastos':'valor_outros_gastos', 'CPF viajante':'cpf_viajante', 'Nome':'nome_viajante'}, inplace=True)\n",
    "\n",
    "viagem_2021.rename(columns={'Identificador do processo de viagem':'id_processo_viagem', 'Situação':'situacao', 'Código do órgão superior':'codigo_orgao_superior_viagem',\n",
    "       'Período - Data de início':'periodo_data_inicio', 'Período - Data de fim':'periodo_data_fim', 'Valor diárias':'valor_diarias', 'Valor passagens':'valor_passagem',\n",
    "       'Valor devolução':'valor_devolucao', 'Valor outros gastos':'valor_outros_gastos', 'CPF viajante':'cpf_viajante', 'Nome':'nome_viajante'}, inplace=True)\n",
    "\n",
    "viagem_2022.rename(columns={'Identificador do processo de viagem':'id_processo_viagem', 'Situação':'situacao', 'Código do órgão superior':'codigo_orgao_superior_viagem', \n",
    "       'Período - Data de início':'periodo_data_inicio', 'Período - Data de fim':'periodo_data_fim', 'Valor diárias':'valor_diarias', 'Valor passagens':'valor_passagem',\n",
    "       'Valor devolução':'valor_devolucao', 'Valor outros gastos':'valor_outros_gastos', 'CPF viajante':'cpf_viajante', 'Nome':'nome_viajante'}, inplace=True)\n",
    "\n",
    "\n",
    "# Alterar formato data\n",
    "viagem_2015['periodo_data_inicio'] = pd.to_datetime(viagem_2015['periodo_data_inicio'], format='%d/%m/%Y')\n",
    "viagem_2015['periodo_data_inicio'] = viagem_2015['periodo_data_inicio'].dt.strftime('%Y-%m-%d')\n",
    "viagem_2015['periodo_data_fim'] = pd.to_datetime(viagem_2015['periodo_data_fim'], format='%d/%m/%Y')\n",
    "viagem_2015['periodo_data_fim'] = viagem_2015['periodo_data_fim'].dt.strftime('%Y-%m-%d')\n",
    "\n",
    "viagem_2016['periodo_data_inicio'] = pd.to_datetime(viagem_2016['periodo_data_inicio'], format='%d/%m/%Y')\n",
    "viagem_2016['periodo_data_inicio'] = viagem_2016['periodo_data_inicio'].dt.strftime('%Y-%m-%d')\n",
    "viagem_2016['periodo_data_fim'] = pd.to_datetime(viagem_2016['periodo_data_fim'], format='%d/%m/%Y')\n",
    "viagem_2016['periodo_data_fim'] = viagem_2016['periodo_data_fim'].dt.strftime('%Y-%m-%d')\n",
    "\n",
    "viagem_2017['periodo_data_inicio'] = pd.to_datetime(viagem_2017['periodo_data_inicio'], format='%d/%m/%Y')\n",
    "viagem_2017['periodo_data_inicio'] = viagem_2017['periodo_data_inicio'].dt.strftime('%Y-%m-%d')\n",
    "viagem_2017['periodo_data_fim'] = pd.to_datetime(viagem_2017['periodo_data_fim'], format='%d/%m/%Y')\n",
    "viagem_2017['periodo_data_fim'] = viagem_2017['periodo_data_fim'].dt.strftime('%Y-%m-%d')\n",
    "\n",
    "viagem_2018['periodo_data_inicio'] = pd.to_datetime(viagem_2018['periodo_data_inicio'], format='%d/%m/%Y')\n",
    "viagem_2018['periodo_data_inicio'] = viagem_2018['periodo_data_inicio'].dt.strftime('%Y-%m-%d')\n",
    "viagem_2018['periodo_data_fim'] = pd.to_datetime(viagem_2018['periodo_data_fim'], format='%d/%m/%Y')\n",
    "viagem_2018['periodo_data_fim'] = viagem_2018['periodo_data_fim'].dt.strftime('%Y-%m-%d')\n",
    "\n",
    "viagem_2019['periodo_data_inicio'] = pd.to_datetime(viagem_2019['periodo_data_inicio'], format='%d/%m/%Y')\n",
    "viagem_2019['periodo_data_inicio'] = viagem_2019['periodo_data_inicio'].dt.strftime('%Y-%m-%d')\n",
    "viagem_2019['periodo_data_fim'] = pd.to_datetime(viagem_2019['periodo_data_fim'], format='%d/%m/%Y')\n",
    "viagem_2019['periodo_data_fim'] = viagem_2019['periodo_data_fim'].dt.strftime('%Y-%m-%d')\n",
    "\n",
    "viagem_2020['periodo_data_inicio'] = pd.to_datetime(viagem_2020['periodo_data_inicio'], format='%d/%m/%Y')\n",
    "viagem_2020['periodo_data_inicio'] = viagem_2020['periodo_data_inicio'].dt.strftime('%Y-%m-%d')\n",
    "viagem_2020['periodo_data_fim'] = pd.to_datetime(viagem_2020['periodo_data_fim'], format='%d/%m/%Y')\n",
    "viagem_2020['periodo_data_fim'] = viagem_2020['periodo_data_fim'].dt.strftime('%Y-%m-%d')\n",
    "\n",
    "viagem_2021['periodo_data_inicio'] = pd.to_datetime(viagem_2021['periodo_data_inicio'], format='%d/%m/%Y')\n",
    "viagem_2021['periodo_data_inicio'] = viagem_2021['periodo_data_inicio'].dt.strftime('%Y-%m-%d')\n",
    "viagem_2021['periodo_data_fim'] = pd.to_datetime(viagem_2021['periodo_data_fim'], format='%d/%m/%Y')\n",
    "viagem_2021['periodo_data_fim'] = viagem_2021['periodo_data_fim'].dt.strftime('%Y-%m-%d')\n",
    "\n",
    "viagem_2022['periodo_data_inicio'] = pd.to_datetime(viagem_2022['periodo_data_inicio'], format='%d/%m/%Y')\n",
    "viagem_2022['periodo_data_inicio'] = viagem_2022['periodo_data_inicio'].dt.strftime('%Y-%m-%d')\n",
    "viagem_2022['periodo_data_fim'] = pd.to_datetime(viagem_2022['periodo_data_fim'], format='%d/%m/%Y')\n",
    "viagem_2022['periodo_data_fim'] = viagem_2022['periodo_data_fim'].dt.strftime('%Y-%m-%d')\n",
    "\n",
    "colunas_decimal = ['valor_diarias', 'valor_passagem', 'valor_devolucao', 'valor_outros_gastos']\n",
    "\n",
    "for coluna in colunas_decimal:\n",
    "    viagem_2015[coluna] = viagem_2015[coluna].str.replace(',', '.').astype(float)\n",
    "    viagem_2016[coluna] = viagem_2016[coluna].str.replace(',', '.').astype(float)\n",
    "    viagem_2017[coluna] = viagem_2017[coluna].str.replace(',', '.').astype(float)\n",
    "    viagem_2018[coluna] = viagem_2018[coluna].str.replace(',', '.').astype(float)\n",
    "    viagem_2019[coluna] = viagem_2019[coluna].str.replace(',', '.').astype(float)\n",
    "    viagem_2020[coluna] = viagem_2020[coluna].str.replace(',', '.').astype(float)\n",
    "    viagem_2021[coluna] = viagem_2021[coluna].str.replace(',', '.').astype(float)\n",
    "    viagem_2022[coluna] = viagem_2022[coluna].str.replace(',', '.').astype(float)    \n"
   ]
  },
  {
   "cell_type": "markdown",
   "id": "3bdac7de",
   "metadata": {},
   "source": [
    "5. Remover acentuação das tabelas de viagens"
   ]
  },
  {
   "cell_type": "code",
   "execution_count": 8,
   "id": "aeac955e",
   "metadata": {},
   "outputs": [],
   "source": [
    "viagem_2015['situacao'] = viagem_2015['situacao'].str.normalize('NFKD').str.encode('ascii', 'ignore').str.decode('utf-8')\n",
    "viagem_2016['situacao'] = viagem_2016['situacao'].str.normalize('NFKD').str.encode('ascii', 'ignore').str.decode('utf-8')\n",
    "viagem_2017['situacao'] = viagem_2017['situacao'].str.normalize('NFKD').str.encode('ascii', 'ignore').str.decode('utf-8')\n",
    "viagem_2018['situacao'] = viagem_2018['situacao'].str.normalize('NFKD').str.encode('ascii', 'ignore').str.decode('utf-8')\n",
    "viagem_2019['situacao'] = viagem_2019['situacao'].str.normalize('NFKD').str.encode('ascii', 'ignore').str.decode('utf-8')\n",
    "viagem_2020['situacao'] = viagem_2020['situacao'].str.normalize('NFKD').str.encode('ascii', 'ignore').str.decode('utf-8')\n",
    "viagem_2021['situacao'] = viagem_2021['situacao'].str.normalize('NFKD').str.encode('ascii', 'ignore').str.decode('utf-8')\n",
    "viagem_2022['situacao'] = viagem_2022['situacao'].str.normalize('NFKD').str.encode('ascii', 'ignore').str.decode('utf-8')\n",
    "\n",
    "viagem_2015['nome_viajante'] = viagem_2015['nome_viajante'].str.normalize('NFKD').str.encode('ascii', 'ignore').str.decode('utf-8')\n",
    "viagem_2016['nome_viajante'] = viagem_2016['nome_viajante'].str.normalize('NFKD').str.encode('ascii', 'ignore').str.decode('utf-8')\n",
    "viagem_2017['nome_viajante'] = viagem_2017['nome_viajante'].str.normalize('NFKD').str.encode('ascii', 'ignore').str.decode('utf-8')\n",
    "viagem_2018['nome_viajante'] = viagem_2018['nome_viajante'].str.normalize('NFKD').str.encode('ascii', 'ignore').str.decode('utf-8')\n",
    "viagem_2019['nome_viajante'] = viagem_2019['nome_viajante'].str.normalize('NFKD').str.encode('ascii', 'ignore').str.decode('utf-8')\n",
    "viagem_2020['nome_viajante'] = viagem_2020['nome_viajante'].str.normalize('NFKD').str.encode('ascii', 'ignore').str.decode('utf-8')\n",
    "viagem_2021['nome_viajante'] = viagem_2021['nome_viajante'].str.normalize('NFKD').str.encode('ascii', 'ignore').str.decode('utf-8')\n",
    "viagem_2022['nome_viajante'] = viagem_2022['nome_viajante'].str.normalize('NFKD').str.encode('ascii', 'ignore').str.decode('utf-8')\n",
    "\n",
    "viagem_2015['nome_viajante'] = viagem_2015['nome_viajante'].str.replace('?', '')\n",
    "viagem_2015['nome_viajante'] = viagem_2015['nome_viajante'].str.replace('.', '')\n",
    "viagem_2015['nome_viajante'] = viagem_2015['nome_viajante'].str.replace(',', '')\n",
    "\n",
    "\n",
    "viagem_2016['nome_viajante'] = viagem_2016['nome_viajante'].str.replace('?', '')\n",
    "viagem_2016['nome_viajante'] = viagem_2016['nome_viajante'].str.replace('.', '')\n",
    "viagem_2016['nome_viajante'] = viagem_2016['nome_viajante'].str.replace(',', '')\n",
    "\n",
    "viagem_2017['nome_viajante'] = viagem_2017['nome_viajante'].str.replace('?', '')\n",
    "viagem_2017['nome_viajante'] = viagem_2017['nome_viajante'].str.replace('.', '')\n",
    "viagem_2017['nome_viajante'] = viagem_2017['nome_viajante'].str.replace(',', '')\n",
    "\n",
    "viagem_2018['nome_viajante'] = viagem_2018['nome_viajante'].str.replace('?', '')\n",
    "viagem_2018['nome_viajante'] = viagem_2018['nome_viajante'].str.replace('.', '')\n",
    "viagem_2018['nome_viajante'] = viagem_2018['nome_viajante'].str.replace(',', '')\n",
    "\n",
    "viagem_2019['nome_viajante'] = viagem_2019['nome_viajante'].str.replace('?', '')\n",
    "viagem_2019['nome_viajante'] = viagem_2019['nome_viajante'].str.replace('.', '')\n",
    "viagem_2019['nome_viajante'] = viagem_2019['nome_viajante'].str.replace(',', '')\n",
    "\n",
    "viagem_2020['nome_viajante'] = viagem_2020['nome_viajante'].str.replace('?', '')\n",
    "viagem_2020['nome_viajante'] = viagem_2020['nome_viajante'].str.replace('.', '')\n",
    "viagem_2020['nome_viajante'] = viagem_2020['nome_viajante'].str.replace(',', '')\n",
    "\n",
    "viagem_2021['nome_viajante'] = viagem_2021['nome_viajante'].str.replace('?', '')\n",
    "viagem_2021['nome_viajante'] = viagem_2021['nome_viajante'].str.replace('.', '')\n",
    "viagem_2021['nome_viajante'] = viagem_2021['nome_viajante'].str.replace(',', '')\n",
    "\n",
    "viagem_2022['nome_viajante'] = viagem_2022['nome_viajante'].str.replace('?', '')\n",
    "viagem_2022['nome_viajante'] = viagem_2022['nome_viajante'].str.replace('.', '')\n",
    "viagem_2022['nome_viajante'] = viagem_2022['nome_viajante'].str.replace(',', '')\n",
    "\n",
    "viagem_2015['nome_viajante'] = viagem_2015['nome_viajante'].str.upper()\n",
    "viagem_2016['nome_viajante'] = viagem_2016['nome_viajante'].str.upper()\n",
    "viagem_2017['nome_viajante'] = viagem_2017['nome_viajante'].str.upper()\n",
    "viagem_2018['nome_viajante'] = viagem_2018['nome_viajante'].str.upper()\n",
    "viagem_2019['nome_viajante'] = viagem_2019['nome_viajante'].str.upper()\n",
    "viagem_2020['nome_viajante'] = viagem_2020['nome_viajante'].str.upper()\n",
    "viagem_2021['nome_viajante'] = viagem_2021['nome_viajante'].str.upper()\n",
    "viagem_2022['nome_viajante'] = viagem_2022['nome_viajante'].str.upper()\n"
   ]
  },
  {
   "cell_type": "code",
   "execution_count": 9,
   "id": "af9d5e5c",
   "metadata": {},
   "outputs": [],
   "source": [
    "\n",
    "viagem_2015 = viagem_2015.merge(viajante[['cpf_viajante', 'nome_viajante', 'id_viajante']], on=['cpf_viajante', 'nome_viajante'], how='left')\n",
    "viagem_2016 = viagem_2016.merge(viajante[['cpf_viajante', 'nome_viajante', 'id_viajante']], on=['cpf_viajante', 'nome_viajante'], how='left')\n",
    "viagem_2017 = viagem_2017.merge(viajante[['cpf_viajante', 'nome_viajante', 'id_viajante']], on=['cpf_viajante', 'nome_viajante'], how='left')\n",
    "viagem_2018 = viagem_2018.merge(viajante[['cpf_viajante', 'nome_viajante', 'id_viajante']], on=['cpf_viajante', 'nome_viajante'], how='left')\n",
    "viagem_2019 = viagem_2019.merge(viajante[['cpf_viajante', 'nome_viajante', 'id_viajante']], on=['cpf_viajante', 'nome_viajante'], how='left')\n",
    "viagem_2020 = viagem_2020.merge(viajante[['cpf_viajante', 'nome_viajante', 'id_viajante']], on=['cpf_viajante', 'nome_viajante'], how='left')\n",
    "viagem_2021 = viagem_2021.merge(viajante[['cpf_viajante', 'nome_viajante', 'id_viajante']], on=['cpf_viajante', 'nome_viajante'], how='left')\n",
    "viagem_2022 = viagem_2022.merge(viajante[['cpf_viajante', 'nome_viajante', 'id_viajante']], on=['cpf_viajante', 'nome_viajante'], how='left')\n"
   ]
  },
  {
   "cell_type": "code",
   "execution_count": 10,
   "id": "6bff1af2",
   "metadata": {},
   "outputs": [],
   "source": [
    "viagem_2015.drop(['cpf_viajante', 'nome_viajante',], axis=1, inplace=True)\n",
    "viagem_2016.drop(['cpf_viajante', 'nome_viajante',], axis=1, inplace=True)\n",
    "viagem_2017.drop(['cpf_viajante', 'nome_viajante',], axis=1, inplace=True)\n",
    "viagem_2018.drop(['cpf_viajante', 'nome_viajante',], axis=1, inplace=True)\n",
    "viagem_2019.drop(['cpf_viajante', 'nome_viajante',], axis=1, inplace=True)\n",
    "viagem_2020.drop(['cpf_viajante', 'nome_viajante',], axis=1, inplace=True)\n",
    "viagem_2021.drop(['cpf_viajante', 'nome_viajante',], axis=1, inplace=True)\n",
    "viagem_2022.drop(['cpf_viajante', 'nome_viajante',], axis=1, inplace=True)"
   ]
  },
  {
   "cell_type": "code",
   "execution_count": null,
   "id": "02d8b6e6",
   "metadata": {},
   "outputs": [],
   "source": [
    "viagem_2015"
   ]
  },
  {
   "cell_type": "code",
   "execution_count": null,
   "id": "7880b3f6",
   "metadata": {},
   "outputs": [],
   "source": [
    "resultado = viagem_2015.loc[viagem_2015['id_viajante']== 603160]\n",
    "resultado"
   ]
  },
  {
   "cell_type": "code",
   "execution_count": null,
   "id": "5d8808b8",
   "metadata": {},
   "outputs": [],
   "source": [
    "resultado = viajante.loc[viajante['id_viajante']== 603160]\n",
    "resultado"
   ]
  },
  {
   "cell_type": "markdown",
   "id": "c5897df2",
   "metadata": {},
   "source": [
    "6. Exportar as tabelas de viagens"
   ]
  },
  {
   "cell_type": "code",
   "execution_count": null,
   "id": "4bf157af",
   "metadata": {},
   "outputs": [],
   "source": [
    "viagem_2015.to_csv(r'C:\\Users\\igory\\Documents\\UFRPE_periodos\\6_periodo_2024\\Modelagem_dados\\Dados_tratados\\viagem\\viagem_2015.csv', index=False)\n",
    "viagem_2016.to_csv(r'C:\\Users\\igory\\Documents\\UFRPE_periodos\\6_periodo_2024\\Modelagem_dados\\Dados_tratados\\viagem\\viagem_2016.csv', index=False)\n",
    "viagem_2017.to_csv(r'C:\\Users\\igory\\Documents\\UFRPE_periodos\\6_periodo_2024\\Modelagem_dados\\Dados_tratados\\viagem\\viagem_2017.csv', index=False)\n",
    "viagem_2018.to_csv(r'C:\\Users\\igory\\Documents\\UFRPE_periodos\\6_periodo_2024\\Modelagem_dados\\Dados_tratados\\viagem\\viagem_2018.csv', index=False)\n",
    "viagem_2019.to_csv(r'C:\\Users\\igory\\Documents\\UFRPE_periodos\\6_periodo_2024\\Modelagem_dados\\Dados_tratados\\viagem\\viagem_2019.csv', index=False)\n",
    "viagem_2020.to_csv(r'C:\\Users\\igory\\Documents\\UFRPE_periodos\\6_periodo_2024\\Modelagem_dados\\Dados_tratados\\viagem\\viagem_2020.csv', index=False)\n",
    "viagem_2021.to_csv(r'C:\\Users\\igory\\Documents\\UFRPE_periodos\\6_periodo_2024\\Modelagem_dados\\Dados_tratados\\viagem\\viagem_2021.csv', index=False)\n",
    "viagem_2022.to_csv(r'C:\\Users\\igory\\Documents\\UFRPE_periodos\\6_periodo_2024\\Modelagem_dados\\Dados_tratados\\viagem\\viagem_2022.csv', index=False)"
   ]
  },
  {
   "cell_type": "markdown",
   "id": "0bc55887",
   "metadata": {},
   "source": [
    "7. Exportar as tabelas de viajantes"
   ]
  },
  {
   "cell_type": "code",
   "execution_count": 11,
   "id": "65d98f8a",
   "metadata": {},
   "outputs": [],
   "source": [
    "viajante.to_csv(r'C:\\Users\\igory\\Documents\\UFRPE_periodos\\6_periodo_2024\\Modelagem_dados\\Dados_tratados\\viajante\\viajante.csv', index=False)"
   ]
  },
  {
   "cell_type": "markdown",
   "id": "ee9f7712",
   "metadata": {},
   "source": [
    "# Criar Tabela Órgão Superior"
   ]
  },
  {
   "cell_type": "code",
   "execution_count": null,
   "id": "c7b13c24",
   "metadata": {},
   "outputs": [],
   "source": [
    "orgao_superior_2015 = pagamento_2015[['Código do órgão superior', 'Nome do órgão superior']].copy()\n",
    "orgao_superior_2015.rename(columns={'Código do órgão superior':'id_orgao_superior', 'Nome do órgão superior':'nome_orgao_superior'}, inplace=True)\n",
    "\n",
    "orgao_superior_2016 = pagamento_2016[['Código do órgão superior', 'Nome do órgão superior']].copy()\n",
    "orgao_superior_2016.rename(columns={'Código do órgão superior':'id_orgao_superior', 'Nome do órgão superior':'nome_orgao_superior'}, inplace=True)\n",
    "\n",
    "orgao_superior_2017 = pagamento_2017[['Código do órgão superior', 'Nome do órgão superior']].copy()\n",
    "orgao_superior_2017.rename(columns={'Código do órgão superior':'id_orgao_superior', 'Nome do órgão superior':'nome_orgao_superior'}, inplace=True)\n",
    "\n",
    "orgao_superior_2018 = pagamento_2018[['Código do órgão superior', 'Nome do órgão superior']].copy()\n",
    "orgao_superior_2018.rename(columns={'Código do órgão superior':'id_orgao_superior', 'Nome do órgão superior':'nome_orgao_superior'}, inplace=True)\n",
    "\n",
    "orgao_superior_2019 = pagamento_2019[['Código do órgão superior', 'Nome do órgão superior']].copy()\n",
    "orgao_superior_2019.rename(columns={'Código do órgão superior':'id_orgao_superior', 'Nome do órgão superior':'nome_orgao_superior'}, inplace=True)\n",
    "\n",
    "orgao_superior_2020 = pagamento_2020[['Código do órgão superior', 'Nome do órgão superior']].copy()\n",
    "orgao_superior_2020.rename(columns={'Código do órgão superior':'id_orgao_superior', 'Nome do órgão superior':'nome_orgao_superior'}, inplace=True)\n",
    "\n",
    "orgao_superior_2021 = pagamento_2021[['Código do órgão superior', 'Nome do órgão superior']].copy()\n",
    "orgao_superior_2021.rename(columns={'Código do órgão superior':'id_orgao_superior', 'Nome do órgão superior':'nome_orgao_superior'}, inplace=True)\n",
    "\n",
    "orgao_superior_2022 = pagamento_2022[['Código do órgão superior', 'Nome do órgão superior']].copy()\n",
    "orgao_superior_2022.rename(columns={'Código do órgão superior':'id_orgao_superior', 'Nome do órgão superior':'nome_orgao_superior'}, inplace=True)\n"
   ]
  },
  {
   "cell_type": "code",
   "execution_count": null,
   "id": "28ab8e85",
   "metadata": {},
   "outputs": [],
   "source": [
    "orgao_superior_2015['nome_orgao_superior'] = orgao_superior_2015['nome_orgao_superior'].str.normalize('NFKD').str.encode('ascii', 'ignore').str.decode('utf-8')\n",
    "orgao_superior_2016['nome_orgao_superior'] = orgao_superior_2016['nome_orgao_superior'].str.normalize('NFKD').str.encode('ascii', 'ignore').str.decode('utf-8')\n",
    "orgao_superior_2017['nome_orgao_superior'] = orgao_superior_2017['nome_orgao_superior'].str.normalize('NFKD').str.encode('ascii', 'ignore').str.decode('utf-8')\n",
    "orgao_superior_2018['nome_orgao_superior'] = orgao_superior_2018['nome_orgao_superior'].str.normalize('NFKD').str.encode('ascii', 'ignore').str.decode('utf-8')\n",
    "orgao_superior_2019['nome_orgao_superior'] = orgao_superior_2019['nome_orgao_superior'].str.normalize('NFKD').str.encode('ascii', 'ignore').str.decode('utf-8')\n",
    "orgao_superior_2020['nome_orgao_superior'] = orgao_superior_2020['nome_orgao_superior'].str.normalize('NFKD').str.encode('ascii', 'ignore').str.decode('utf-8')\n",
    "orgao_superior_2021['nome_orgao_superior'] = orgao_superior_2021['nome_orgao_superior'].str.normalize('NFKD').str.encode('ascii', 'ignore').str.decode('utf-8')\n",
    "orgao_superior_2022['nome_orgao_superior'] = orgao_superior_2022['nome_orgao_superior'].str.normalize('NFKD').str.encode('ascii', 'ignore').str.decode('utf-8')\n",
    "\n",
    "orgao_superior = pd.concat([orgao_superior_2015, orgao_superior_2016, orgao_superior_2017, orgao_superior_2018, orgao_superior_2019, orgao_superior_2020, orgao_superior_2021, orgao_superior_2022], ignore_index=True)"
   ]
  },
  {
   "cell_type": "code",
   "execution_count": null,
   "id": "57e5dfb8",
   "metadata": {},
   "outputs": [],
   "source": [
    "orgao_superior = orgao_superior.drop_duplicates(subset=['id_orgao_superior'])"
   ]
  },
  {
   "cell_type": "code",
   "execution_count": null,
   "id": "b19aede6",
   "metadata": {},
   "outputs": [],
   "source": [
    "orgao_superior.to_csv(r'C:\\Users\\igory\\Documents\\UFRPE_periodos\\6_periodo_2024\\Modelagem_dados\\Dados_tratados\\orgao_superior\\orgao_superior.csv', index=False)\n"
   ]
  },
  {
   "cell_type": "markdown",
   "id": "e8d4f9f7",
   "metadata": {},
   "source": [
    "# Tratamento de dados (Pagamentos)"
   ]
  },
  {
   "cell_type": "code",
   "execution_count": null,
   "id": "1ea30cca",
   "metadata": {},
   "outputs": [],
   "source": [
    "#Exclusão das tabelas sem utilidade\n",
    "\n",
    "pagamento_2015.drop(['Codigo do órgão pagador', 'Nome do órgao pagador','Código da unidade gestora pagadora','Nome da unidade gestora pagadora','Número da Proposta (PCDP)','Nome do órgão superior'], axis=1, inplace=True)\n",
    "pagamento_2016.drop(['Codigo do órgão pagador', 'Nome do órgao pagador','Código da unidade gestora pagadora','Nome da unidade gestora pagadora','Número da Proposta (PCDP)','Nome do órgão superior'], axis=1, inplace=True)\n",
    "pagamento_2017.drop(['Codigo do órgão pagador', 'Nome do órgao pagador','Código da unidade gestora pagadora','Nome da unidade gestora pagadora','Número da Proposta (PCDP)','Nome do órgão superior'], axis=1, inplace=True)\n",
    "pagamento_2018.drop(['Codigo do órgão pagador', 'Nome do órgao pagador','Código da unidade gestora pagadora','Nome da unidade gestora pagadora','Número da Proposta (PCDP)','Nome do órgão superior'], axis=1, inplace=True)\n",
    "pagamento_2019.drop(['Codigo do órgão pagador', 'Nome do órgao pagador','Código da unidade gestora pagadora','Nome da unidade gestora pagadora','Número da Proposta (PCDP)','Nome do órgão superior'], axis=1, inplace=True)\n",
    "pagamento_2020.drop(['Codigo do órgão pagador', 'Nome do órgao pagador','Código da unidade gestora pagadora','Nome da unidade gestora pagadora','Número da Proposta (PCDP)','Nome do órgão superior'], axis=1, inplace=True)\n",
    "pagamento_2021.drop(['Codigo do órgão pagador', 'Nome do órgao pagador','Código da unidade gestora pagadora','Nome da unidade gestora pagadora','Número da Proposta (PCDP)','Nome do órgão superior'], axis=1, inplace=True)\n",
    "pagamento_2022.drop(['Codigo do órgão pagador', 'Nome do órgao pagador','Código da unidade gestora pagadora','Nome da unidade gestora pagadora','Número da Proposta (PCDP)','Nome do órgão superior'], axis=1, inplace=True)"
   ]
  },
  {
   "cell_type": "code",
   "execution_count": null,
   "id": "873804c3",
   "metadata": {},
   "outputs": [],
   "source": [
    "#Padronização dos nomes das tabelas\n",
    "\n",
    "pagamento_2015.rename(columns={'Identificador do processo de viagem': 'id_pagamento_viagem', 'Código do órgão superior': 'codigo_orgao_superior', 'Valor': 'valor_despesa', 'Tipo de pagamento': 'tipo_pagamento'}, inplace=True)\n",
    "pagamento_2016.rename(columns={'Identificador do processo de viagem': 'id_pagamento_viagem', 'Código do órgão superior': 'codigo_orgao_superior', 'Valor': 'valor_despesa', 'Tipo de pagamento': 'tipo_pagamento'}, inplace=True)\n",
    "pagamento_2017.rename(columns={'Identificador do processo de viagem': 'id_pagamento_viagem', 'Código do órgão superior': 'codigo_orgao_superior', 'Valor': 'valor_despesa', 'Tipo de pagamento': 'tipo_pagamento'}, inplace=True)\n",
    "pagamento_2018.rename(columns={'Identificador do processo de viagem': 'id_pagamento_viagem', 'Código do órgão superior': 'codigo_orgao_superior', 'Valor': 'valor_despesa', 'Tipo de pagamento': 'tipo_pagamento'}, inplace=True)\n",
    "pagamento_2019.rename(columns={'Identificador do processo de viagem': 'id_pagamento_viagem', 'Código do órgão superior': 'codigo_orgao_superior', 'Valor': 'valor_despesa', 'Tipo de pagamento': 'tipo_pagamento'}, inplace=True)\n",
    "pagamento_2020.rename(columns={'Identificador do processo de viagem': 'id_pagamento_viagem', 'Código do órgão superior': 'codigo_orgao_superior', 'Valor': 'valor_despesa', 'Tipo de pagamento': 'tipo_pagamento'}, inplace=True)\n",
    "pagamento_2021.rename(columns={'Identificador do processo de viagem': 'id_pagamento_viagem', 'Código do órgão superior': 'codigo_orgao_superior', 'Valor': 'valor_despesa', 'Tipo de pagamento': 'tipo_pagamento'}, inplace=True)\n",
    "pagamento_2022.rename(columns={'Identificador do processo de viagem': 'id_pagamento_viagem', 'Código do órgão superior': 'codigo_orgao_superior', 'Valor': 'valor_despesa', 'Tipo de pagamento': 'tipo_pagamento'}, inplace=True)\n",
    "\n"
   ]
  },
  {
   "cell_type": "code",
   "execution_count": null,
   "id": "af6f327b",
   "metadata": {},
   "outputs": [],
   "source": [
    "#Remoção de acento dos dados\n",
    "\n",
    "pagamento_2015['tipo_pagamento'] = pagamento_2015['tipo_pagamento'].str.normalize('NFKD').str.encode('ascii', 'ignore').str.decode('utf-8')\n",
    "pagamento_2016['tipo_pagamento'] = pagamento_2016['tipo_pagamento'].str.normalize('NFKD').str.encode('ascii', 'ignore').str.decode('utf-8')\n",
    "pagamento_2017['tipo_pagamento'] = pagamento_2017['tipo_pagamento'].str.normalize('NFKD').str.encode('ascii', 'ignore').str.decode('utf-8')\n",
    "pagamento_2018['tipo_pagamento'] = pagamento_2018['tipo_pagamento'].str.normalize('NFKD').str.encode('ascii', 'ignore').str.decode('utf-8')\n",
    "pagamento_2019['tipo_pagamento'] = pagamento_2019['tipo_pagamento'].str.normalize('NFKD').str.encode('ascii', 'ignore').str.decode('utf-8')\n",
    "pagamento_2020['tipo_pagamento'] = pagamento_2020['tipo_pagamento'].str.normalize('NFKD').str.encode('ascii', 'ignore').str.decode('utf-8')\n",
    "pagamento_2021['tipo_pagamento'] = pagamento_2021['tipo_pagamento'].str.normalize('NFKD').str.encode('ascii', 'ignore').str.decode('utf-8')\n",
    "pagamento_2022['tipo_pagamento'] = pagamento_2022['tipo_pagamento'].str.normalize('NFKD').str.encode('ascii', 'ignore').str.decode('utf-8')\n",
    "\n",
    "colunas_decimal = ['valor_despesa']\n",
    "\n",
    "for coluna in colunas_decimal:\n",
    "    pagamento_2015[coluna] = pagamento_2015[coluna].str.replace(',', '.').astype(float)\n",
    "    pagamento_2016[coluna] = pagamento_2016[coluna].str.replace(',', '.').astype(float)\n",
    "    pagamento_2017[coluna] = pagamento_2017[coluna].str.replace(',', '.').astype(float)\n",
    "    pagamento_2018[coluna] = pagamento_2018[coluna].str.replace(',', '.').astype(float)\n",
    "    pagamento_2019[coluna] = pagamento_2019[coluna].str.replace(',', '.').astype(float)\n",
    "    pagamento_2020[coluna] = pagamento_2020[coluna].str.replace(',', '.').astype(float)\n",
    "    pagamento_2021[coluna] = pagamento_2021[coluna].str.replace(',', '.').astype(float)\n",
    "    pagamento_2022[coluna] = pagamento_2022[coluna].str.replace(',', '.').astype(float) "
   ]
  },
  {
   "cell_type": "code",
   "execution_count": null,
   "id": "fdff9a65",
   "metadata": {},
   "outputs": [],
   "source": [
    "pagamento_2015.columns"
   ]
  },
  {
   "cell_type": "code",
   "execution_count": null,
   "id": "227d1dc9",
   "metadata": {},
   "outputs": [],
   "source": [
    "pagamento_2015.to_csv(r'C:\\Users\\igory\\Documents\\UFRPE_periodos\\6_periodo_2024\\Modelagem_dados\\Dados_tratados\\pagamento\\pagamento_2015.csv', index=False)\n",
    "pagamento_2016.to_csv(r'C:\\Users\\igory\\Documents\\UFRPE_periodos\\6_periodo_2024\\Modelagem_dados\\Dados_tratados\\pagamento\\pagamento_2016.csv', index=False)\n",
    "pagamento_2017.to_csv(r'C:\\Users\\igory\\Documents\\UFRPE_periodos\\6_periodo_2024\\Modelagem_dados\\Dados_tratados\\pagamento\\pagamento_2017.csv', index=False)\n",
    "pagamento_2018.to_csv(r'C:\\Users\\igory\\Documents\\UFRPE_periodos\\6_periodo_2024\\Modelagem_dados\\Dados_tratados\\pagamento\\pagamento_2018.csv', index=False)\n",
    "pagamento_2019.to_csv(r'C:\\Users\\igory\\Documents\\UFRPE_periodos\\6_periodo_2024\\Modelagem_dados\\Dados_tratados\\pagamento\\pagamento_2019.csv', index=False)\n",
    "pagamento_2020.to_csv(r'C:\\Users\\igory\\Documents\\UFRPE_periodos\\6_periodo_2024\\Modelagem_dados\\Dados_tratados\\pagamento\\pagamento_2020.csv', index=False)\n",
    "pagamento_2021.to_csv(r'C:\\Users\\igory\\Documents\\UFRPE_periodos\\6_periodo_2024\\Modelagem_dados\\Dados_tratados\\pagamento\\pagamento_2021.csv', index=False)\n",
    "pagamento_2022.to_csv(r'C:\\Users\\igory\\Documents\\UFRPE_periodos\\6_periodo_2024\\Modelagem_dados\\Dados_tratados\\pagamento\\pagamento_2022.csv', index=False)"
   ]
  },
  {
   "cell_type": "code",
   "execution_count": null,
   "id": "d92ceea4",
   "metadata": {},
   "outputs": [],
   "source": [
    "pagamento_2015.to_csv(r'C:\\Users\\Marcos\\Desktop\\Projetos\\Modelagem_dados\\Pagamento\\Pagamento_tratado\\pagamento_2015.csv', index=False)\n",
    "pagamento_2016.to_csv(r'C:\\Users\\Marcos\\Desktop\\Projetos\\Modelagem_dados\\Pagamento\\Pagamento_tratado\\pagamento_2016.csv', index=False)\n",
    "pagamento_2017.to_csv(r'C:\\Users\\Marcos\\Desktop\\Projetos\\Modelagem_dados\\Pagamento\\Pagamento_tratado\\pagamento_2017.csv', index=False)\n",
    "pagamento_2018.to_csv(r'C:\\Users\\Marcos\\Desktop\\Projetos\\Modelagem_dados\\Pagamento\\Pagamento_tratado\\pagamento_2018.csv', index=False)\n",
    "pagamento_2019.to_csv(r'C:\\Users\\Marcos\\Desktop\\Projetos\\Modelagem_dados\\Pagamento\\Pagamento_tratado\\pagamento_2019.csv', index=False)\n",
    "pagamento_2020.to_csv(r'C:\\Users\\Marcos\\Desktop\\Projetos\\Modelagem_dados\\Pagamento\\Pagamento_tratado\\pagamento_2020.csv', index=False)\n",
    "pagamento_2021.to_csv(r'C:\\Users\\Marcos\\Desktop\\Projetos\\Modelagem_dados\\Pagamento\\Pagamento_tratado\\pagamento_2021.csv', index=False)\n",
    "pagamento_2022.to_csv(r'C:\\Users\\Marcos\\Desktop\\Projetos\\Modelagem_dados\\Pagamento\\Pagamento_tratado\\pagamento_2022.csv', index=False)\n",
    "\n"
   ]
  },
  {
   "cell_type": "markdown",
   "id": "2e47dfef",
   "metadata": {},
   "source": [
    "# Tratamento Trechos"
   ]
  },
  {
   "cell_type": "code",
   "execution_count": null,
   "id": "64c25039",
   "metadata": {},
   "outputs": [],
   "source": [
    "trecho_2015.drop(['Número da Proposta (PCDP)', 'Número Diárias'], axis=1, inplace=True)\n",
    "trecho_2016.drop(['Número da Proposta (PCDP)', 'Número Diárias'], axis=1, inplace=True)\n",
    "trecho_2017.drop(['Número da Proposta (PCDP)', 'Número Diárias'], axis=1, inplace=True)\n",
    "trecho_2018.drop(['Número da Proposta (PCDP)', 'Número Diárias'], axis=1, inplace=True)\n",
    "trecho_2019.drop(['Número da Proposta (PCDP)', 'Número Diárias'], axis=1, inplace=True)\n",
    "trecho_2020.drop(['Número da Proposta (PCDP)', 'Número Diárias'], axis=1, inplace=True)\n",
    "trecho_2021.drop(['Número da Proposta (PCDP)', 'Número Diárias'], axis=1, inplace=True)\n",
    "trecho_2022.drop(['Número da Proposta (PCDP)', 'Número Diárias'], axis=1, inplace=True)"
   ]
  },
  {
   "cell_type": "code",
   "execution_count": null,
   "id": "575cf9fd",
   "metadata": {},
   "outputs": [],
   "source": [
    "trecho_2015.rename(columns={'Identificador do processo de viagem ':'id_trecho_viagem', 'Sequência Trecho':'sequencia_trecho','Origem - Data':'origem_data', 'Origem - País':'origem_pais', 'Origem - UF':'origem_uf', 'Origem - Cidade':'origem_cidade','Destino - Data':'destino_data', 'Destino - País':'destino_pais', 'Destino - UF':'destino_uf', 'Destino - Cidade':'destino_cidade','Meio de transporte':'meio_transporte', 'Missao?':'missao'},inplace=True)\n",
    "trecho_2016.rename(columns={'Identificador do processo de viagem ':'id_trecho_viagem', 'Sequência Trecho':'sequencia_trecho','Origem - Data':'origem_data', 'Origem - País':'origem_pais', 'Origem - UF':'origem_uf', 'Origem - Cidade':'origem_cidade','Destino - Data':'destino_data', 'Destino - País':'destino_pais', 'Destino - UF':'destino_uf', 'Destino - Cidade':'destino_cidade','Meio de transporte':'meio_transporte', 'Missao?':'missao'},inplace=True)\n",
    "trecho_2017.rename(columns={'Identificador do processo de viagem ':'id_trecho_viagem', 'Sequência Trecho':'sequencia_trecho','Origem - Data':'origem_data', 'Origem - País':'origem_pais', 'Origem - UF':'origem_uf', 'Origem - Cidade':'origem_cidade','Destino - Data':'destino_data', 'Destino - País':'destino_pais', 'Destino - UF':'destino_uf', 'Destino - Cidade':'destino_cidade','Meio de transporte':'meio_transporte', 'Missao?':'missao'},inplace=True)\n",
    "trecho_2018.rename(columns={'Identificador do processo de viagem ':'id_trecho_viagem', 'Sequência Trecho':'sequencia_trecho','Origem - Data':'origem_data', 'Origem - País':'origem_pais', 'Origem - UF':'origem_uf', 'Origem - Cidade':'origem_cidade','Destino - Data':'destino_data', 'Destino - País':'destino_pais', 'Destino - UF':'destino_uf', 'Destino - Cidade':'destino_cidade','Meio de transporte':'meio_transporte', 'Missao?':'missao'},inplace=True)\n",
    "trecho_2019.rename(columns={'Identificador do processo de viagem ':'id_trecho_viagem', 'Sequência Trecho':'sequencia_trecho','Origem - Data':'origem_data', 'Origem - País':'origem_pais', 'Origem - UF':'origem_uf', 'Origem - Cidade':'origem_cidade','Destino - Data':'destino_data', 'Destino - País':'destino_pais', 'Destino - UF':'destino_uf', 'Destino - Cidade':'destino_cidade','Meio de transporte':'meio_transporte', 'Missao?':'missao'},inplace=True)\n",
    "trecho_2020.rename(columns={'Identificador do processo de viagem ':'id_trecho_viagem', 'Sequência Trecho':'sequencia_trecho','Origem - Data':'origem_data', 'Origem - País':'origem_pais', 'Origem - UF':'origem_uf', 'Origem - Cidade':'origem_cidade','Destino - Data':'destino_data', 'Destino - País':'destino_pais', 'Destino - UF':'destino_uf', 'Destino - Cidade':'destino_cidade','Meio de transporte':'meio_transporte', 'Missao?':'missao'},inplace=True)\n",
    "trecho_2021.rename(columns={'Identificador do processo de viagem ':'id_trecho_viagem', 'Sequência Trecho':'sequencia_trecho','Origem - Data':'origem_data', 'Origem - País':'origem_pais', 'Origem - UF':'origem_uf', 'Origem - Cidade':'origem_cidade','Destino - Data':'destino_data', 'Destino - País':'destino_pais', 'Destino - UF':'destino_uf', 'Destino - Cidade':'destino_cidade','Meio de transporte':'meio_transporte', 'Missao?':'missao'},inplace=True)\n",
    "trecho_2022.rename(columns={'Identificador do processo de viagem ':'id_trecho_viagem', 'Sequência Trecho':'sequencia_trecho','Origem - Data':'origem_data', 'Origem - País':'origem_pais', 'Origem - UF':'origem_uf', 'Origem - Cidade':'origem_cidade','Destino - Data':'destino_data', 'Destino - País':'destino_pais', 'Destino - UF':'destino_uf', 'Destino - Cidade':'destino_cidade','Meio de transporte':'meio_transporte', 'Missao?':'missao'},inplace=True)\n"
   ]
  },
  {
   "cell_type": "code",
   "execution_count": null,
   "id": "96f26dc9",
   "metadata": {},
   "outputs": [],
   "source": [
    "trecho_2015['origem_pais'] = trecho_2015['origem_pais'].str.normalize('NFKD').str.encode('ascii', 'ignore').str.decode('utf-8')\n",
    "trecho_2016['origem_pais'] = trecho_2016['origem_pais'].str.normalize('NFKD').str.encode('ascii', 'ignore').str.decode('utf-8')\n",
    "trecho_2017['origem_pais'] = trecho_2017['origem_pais'].str.normalize('NFKD').str.encode('ascii', 'ignore').str.decode('utf-8')\n",
    "trecho_2018['origem_pais'] = trecho_2018['origem_pais'].str.normalize('NFKD').str.encode('ascii', 'ignore').str.decode('utf-8')\n",
    "trecho_2019['origem_pais'] = trecho_2019['origem_pais'].str.normalize('NFKD').str.encode('ascii', 'ignore').str.decode('utf-8')\n",
    "trecho_2020['origem_pais'] = trecho_2020['origem_pais'].str.normalize('NFKD').str.encode('ascii', 'ignore').str.decode('utf-8')\n",
    "trecho_2021['origem_pais'] = trecho_2021['origem_pais'].str.normalize('NFKD').str.encode('ascii', 'ignore').str.decode('utf-8')\n",
    "trecho_2022['origem_pais'] = trecho_2022['origem_pais'].str.normalize('NFKD').str.encode('ascii', 'ignore').str.decode('utf-8')\n",
    "\n",
    "trecho_2015['origem_uf'] = trecho_2015['origem_uf'].str.normalize('NFKD').str.encode('ascii', 'ignore').str.decode('utf-8')\n",
    "trecho_2016['origem_uf'] = trecho_2016['origem_uf'].str.normalize('NFKD').str.encode('ascii', 'ignore').str.decode('utf-8')\n",
    "trecho_2017['origem_uf'] = trecho_2017['origem_uf'].str.normalize('NFKD').str.encode('ascii', 'ignore').str.decode('utf-8')\n",
    "trecho_2018['origem_uf'] = trecho_2018['origem_uf'].str.normalize('NFKD').str.encode('ascii', 'ignore').str.decode('utf-8')\n",
    "trecho_2019['origem_uf'] = trecho_2019['origem_uf'].str.normalize('NFKD').str.encode('ascii', 'ignore').str.decode('utf-8')\n",
    "trecho_2020['origem_uf'] = trecho_2020['origem_uf'].str.normalize('NFKD').str.encode('ascii', 'ignore').str.decode('utf-8')\n",
    "trecho_2021['origem_uf'] = trecho_2021['origem_uf'].str.normalize('NFKD').str.encode('ascii', 'ignore').str.decode('utf-8')\n",
    "trecho_2022['origem_uf'] = trecho_2022['origem_uf'].str.normalize('NFKD').str.encode('ascii', 'ignore').str.decode('utf-8')\n",
    "\n",
    "trecho_2015['origem_cidade'] = trecho_2015['origem_cidade'].str.normalize('NFKD').str.encode('ascii', 'ignore').str.decode('utf-8')\n",
    "trecho_2016['origem_cidade'] = trecho_2016['origem_cidade'].str.normalize('NFKD').str.encode('ascii', 'ignore').str.decode('utf-8')\n",
    "trecho_2017['origem_cidade'] = trecho_2017['origem_cidade'].str.normalize('NFKD').str.encode('ascii', 'ignore').str.decode('utf-8')\n",
    "trecho_2018['origem_cidade'] = trecho_2018['origem_cidade'].str.normalize('NFKD').str.encode('ascii', 'ignore').str.decode('utf-8')\n",
    "trecho_2019['origem_cidade'] = trecho_2019['origem_cidade'].str.normalize('NFKD').str.encode('ascii', 'ignore').str.decode('utf-8')\n",
    "trecho_2020['origem_cidade'] = trecho_2020['origem_cidade'].str.normalize('NFKD').str.encode('ascii', 'ignore').str.decode('utf-8')\n",
    "trecho_2021['origem_cidade'] = trecho_2021['origem_cidade'].str.normalize('NFKD').str.encode('ascii', 'ignore').str.decode('utf-8')\n",
    "trecho_2022['origem_cidade'] = trecho_2022['origem_cidade'].str.normalize('NFKD').str.encode('ascii', 'ignore').str.decode('utf-8')\n",
    "\n",
    "trecho_2015['destino_pais'] = trecho_2015['destino_pais'].str.normalize('NFKD').str.encode('ascii', 'ignore').str.decode('utf-8')\n",
    "trecho_2016['destino_pais'] = trecho_2016['destino_pais'].str.normalize('NFKD').str.encode('ascii', 'ignore').str.decode('utf-8')\n",
    "trecho_2017['destino_pais'] = trecho_2017['destino_pais'].str.normalize('NFKD').str.encode('ascii', 'ignore').str.decode('utf-8')\n",
    "trecho_2018['destino_pais'] = trecho_2018['destino_pais'].str.normalize('NFKD').str.encode('ascii', 'ignore').str.decode('utf-8')\n",
    "trecho_2019['destino_pais'] = trecho_2019['destino_pais'].str.normalize('NFKD').str.encode('ascii', 'ignore').str.decode('utf-8')\n",
    "trecho_2020['destino_pais'] = trecho_2020['destino_pais'].str.normalize('NFKD').str.encode('ascii', 'ignore').str.decode('utf-8')\n",
    "trecho_2021['destino_pais'] = trecho_2021['destino_pais'].str.normalize('NFKD').str.encode('ascii', 'ignore').str.decode('utf-8')\n",
    "trecho_2022['destino_pais'] = trecho_2022['destino_pais'].str.normalize('NFKD').str.encode('ascii', 'ignore').str.decode('utf-8')\n",
    "\n",
    "trecho_2015['destino_uf'] = trecho_2015['destino_uf'].str.normalize('NFKD').str.encode('ascii', 'ignore').str.decode('utf-8')\n",
    "trecho_2016['destino_uf'] = trecho_2016['destino_uf'].str.normalize('NFKD').str.encode('ascii', 'ignore').str.decode('utf-8')\n",
    "trecho_2017['destino_uf'] = trecho_2017['destino_uf'].str.normalize('NFKD').str.encode('ascii', 'ignore').str.decode('utf-8')\n",
    "trecho_2018['destino_uf'] = trecho_2018['destino_uf'].str.normalize('NFKD').str.encode('ascii', 'ignore').str.decode('utf-8')\n",
    "trecho_2019['destino_uf'] = trecho_2019['destino_uf'].str.normalize('NFKD').str.encode('ascii', 'ignore').str.decode('utf-8')\n",
    "trecho_2020['destino_uf'] = trecho_2020['destino_uf'].str.normalize('NFKD').str.encode('ascii', 'ignore').str.decode('utf-8')\n",
    "trecho_2021['destino_uf'] = trecho_2021['destino_uf'].str.normalize('NFKD').str.encode('ascii', 'ignore').str.decode('utf-8')\n",
    "trecho_2022['destino_uf'] = trecho_2022['destino_uf'].str.normalize('NFKD').str.encode('ascii', 'ignore').str.decode('utf-8')\n",
    "\n",
    "trecho_2015['destino_cidade'] = trecho_2015['destino_cidade'].str.normalize('NFKD').str.encode('ascii', 'ignore').str.decode('utf-8')\n",
    "trecho_2016['destino_cidade'] = trecho_2016['destino_cidade'].str.normalize('NFKD').str.encode('ascii', 'ignore').str.decode('utf-8')\n",
    "trecho_2017['destino_cidade'] = trecho_2017['destino_cidade'].str.normalize('NFKD').str.encode('ascii', 'ignore').str.decode('utf-8')\n",
    "trecho_2018['destino_cidade'] = trecho_2018['destino_cidade'].str.normalize('NFKD').str.encode('ascii', 'ignore').str.decode('utf-8')\n",
    "trecho_2019['destino_cidade'] = trecho_2019['destino_cidade'].str.normalize('NFKD').str.encode('ascii', 'ignore').str.decode('utf-8')\n",
    "trecho_2020['destino_cidade'] = trecho_2020['destino_cidade'].str.normalize('NFKD').str.encode('ascii', 'ignore').str.decode('utf-8')\n",
    "trecho_2021['destino_cidade'] = trecho_2021['destino_cidade'].str.normalize('NFKD').str.encode('ascii', 'ignore').str.decode('utf-8')\n",
    "trecho_2022['destino_cidade'] = trecho_2022['destino_cidade'].str.normalize('NFKD').str.encode('ascii', 'ignore').str.decode('utf-8')\n",
    "\n",
    "trecho_2015['meio_transporte'] = trecho_2015['meio_transporte'].str.normalize('NFKD').str.encode('ascii', 'ignore').str.decode('utf-8')\n",
    "trecho_2016['meio_transporte'] = trecho_2016['meio_transporte'].str.normalize('NFKD').str.encode('ascii', 'ignore').str.decode('utf-8')\n",
    "trecho_2017['meio_transporte'] = trecho_2017['meio_transporte'].str.normalize('NFKD').str.encode('ascii', 'ignore').str.decode('utf-8')\n",
    "trecho_2018['meio_transporte'] = trecho_2018['meio_transporte'].str.normalize('NFKD').str.encode('ascii', 'ignore').str.decode('utf-8')\n",
    "trecho_2019['meio_transporte'] = trecho_2019['meio_transporte'].str.normalize('NFKD').str.encode('ascii', 'ignore').str.decode('utf-8')\n",
    "trecho_2020['meio_transporte'] = trecho_2020['meio_transporte'].str.normalize('NFKD').str.encode('ascii', 'ignore').str.decode('utf-8')\n",
    "trecho_2021['meio_transporte'] = trecho_2021['meio_transporte'].str.normalize('NFKD').str.encode('ascii', 'ignore').str.decode('utf-8')\n",
    "trecho_2022['meio_transporte'] = trecho_2022['meio_transporte'].str.normalize('NFKD').str.encode('ascii', 'ignore').str.decode('utf-8')\n",
    "\n",
    "trecho_2015['missao'] = trecho_2015['missao'].str.normalize('NFKD').str.encode('ascii', 'ignore').str.decode('utf-8')\n",
    "trecho_2016['missao'] = trecho_2016['missao'].str.normalize('NFKD').str.encode('ascii', 'ignore').str.decode('utf-8')\n",
    "trecho_2017['missao'] = trecho_2017['missao'].str.normalize('NFKD').str.encode('ascii', 'ignore').str.decode('utf-8')\n",
    "trecho_2018['missao'] = trecho_2018['missao'].str.normalize('NFKD').str.encode('ascii', 'ignore').str.decode('utf-8')\n",
    "trecho_2019['missao'] = trecho_2019['missao'].str.normalize('NFKD').str.encode('ascii', 'ignore').str.decode('utf-8')\n",
    "trecho_2020['missao'] = trecho_2020['missao'].str.normalize('NFKD').str.encode('ascii', 'ignore').str.decode('utf-8')\n",
    "trecho_2021['missao'] = trecho_2021['missao'].str.normalize('NFKD').str.encode('ascii', 'ignore').str.decode('utf-8')\n",
    "trecho_2022['missao'] = trecho_2022['missao'].str.normalize('NFKD').str.encode('ascii', 'ignore').str.decode('utf-8')\n",
    "\n",
    "# Alterar Formato data\n",
    "\n",
    "\n",
    "trecho_2015['destino_data'] = pd.to_datetime(trecho_2015['destino_data'], format='%d/%m/%Y')\n",
    "trecho_2015['destino_data'] = trecho_2015['destino_data'].dt.strftime('%Y-%m-%d')\n",
    "trecho_2015['origem_data'] = pd.to_datetime(trecho_2015['origem_data'], format='%d/%m/%Y')\n",
    "trecho_2015['origem_data'] = trecho_2015['origem_data'].dt.strftime('%Y-%m-%d')\n",
    "\n",
    "\n",
    "trecho_2016['destino_data'] = pd.to_datetime(trecho_2016['destino_data'], format='%d/%m/%Y')\n",
    "trecho_2016['destino_data'] = trecho_2016['destino_data'].dt.strftime('%Y-%m-%d')\n",
    "trecho_2016['origem_data'] = pd.to_datetime(trecho_2016['origem_data'], format='%d/%m/%Y')\n",
    "trecho_2016['origem_data'] = trecho_2016['origem_data'].dt.strftime('%Y-%m-%d')\n",
    "\n",
    "\n",
    "trecho_2017['destino_data'] = pd.to_datetime(trecho_2017['destino_data'], format='%d/%m/%Y')\n",
    "trecho_2017['destino_data'] = trecho_2017['destino_data'].dt.strftime('%Y-%m-%d')\n",
    "trecho_2017['origem_data'] = pd.to_datetime(trecho_2017['origem_data'], format='%d/%m/%Y')\n",
    "trecho_2017['origem_data'] = trecho_2017['origem_data'].dt.strftime('%Y-%m-%d')\n",
    "\n",
    "\n",
    "trecho_2018['destino_data'] = pd.to_datetime(trecho_2018['destino_data'], format='%d/%m/%Y')\n",
    "trecho_2018['destino_data'] = trecho_2018['destino_data'].dt.strftime('%Y-%m-%d')\n",
    "trecho_2018['origem_data'] = pd.to_datetime(trecho_2018['origem_data'], format='%d/%m/%Y')\n",
    "trecho_2018['origem_data'] = trecho_2018['origem_data'].dt.strftime('%Y-%m-%d')\n",
    "\n",
    "trecho_2019['destino_data'] = pd.to_datetime(trecho_2019['destino_data'], format='%d/%m/%Y')\n",
    "trecho_2019['destino_data'] = trecho_2019['destino_data'].dt.strftime('%Y-%m-%d')\n",
    "trecho_2019['origem_data'] = pd.to_datetime(trecho_2019['origem_data'], format='%d/%m/%Y')\n",
    "trecho_2019['origem_data'] = trecho_2019['origem_data'].dt.strftime('%Y-%m-%d')\n",
    "\n",
    "\n",
    "trecho_2020['destino_data'] = pd.to_datetime(trecho_2020['destino_data'], format='%d/%m/%Y')\n",
    "trecho_2020['destino_data'] = trecho_2020['destino_data'].dt.strftime('%Y-%m-%d')\n",
    "trecho_2020['origem_data'] = pd.to_datetime(trecho_2020['origem_data'], format='%d/%m/%Y')\n",
    "trecho_2020['origem_data'] = trecho_2020['origem_data'].dt.strftime('%Y-%m-%d')\n",
    "\n",
    "\n",
    "trecho_2021['destino_data'] = pd.to_datetime(trecho_2021['destino_data'], format='%d/%m/%Y')\n",
    "trecho_2021['destino_data'] = trecho_2021['destino_data'].dt.strftime('%Y-%m-%d')\n",
    "trecho_2021['origem_data'] = pd.to_datetime(trecho_2021['origem_data'], format='%d/%m/%Y')\n",
    "trecho_2021['origem_data'] = trecho_2021['origem_data'].dt.strftime('%Y-%m-%d')\n",
    "\n",
    "trecho_2022['destino_data'] = pd.to_datetime(trecho_2022['destino_data'], format='%d/%m/%Y')\n",
    "trecho_2022['destino_data'] = trecho_2022['destino_data'].dt.strftime('%Y-%m-%d')\n",
    "trecho_2022['origem_data'] = pd.to_datetime(trecho_2022['origem_data'], format='%d/%m/%Y')\n",
    "trecho_2022['origem_data'] = trecho_2022['origem_data'].dt.strftime('%Y-%m-%d')\n"
   ]
  },
  {
   "cell_type": "code",
   "execution_count": null,
   "id": "e6c5dd1b",
   "metadata": {},
   "outputs": [],
   "source": [
    "trecho_2015.to_csv(r'C:\\Users\\igory\\Documents\\UFRPE_periodos\\6_periodo_2024\\Modelagem_dados\\Dados_tratados\\trecho\\trecho_2015.csv', index=False)\n",
    "trecho_2016.to_csv(r'C:\\Users\\igory\\Documents\\UFRPE_periodos\\6_periodo_2024\\Modelagem_dados\\Dados_tratados\\trecho\\trecho_2016.csv', index=False)\n",
    "trecho_2017.to_csv(r'C:\\Users\\igory\\Documents\\UFRPE_periodos\\6_periodo_2024\\Modelagem_dados\\Dados_tratados\\trecho\\trecho_2017.csv', index=False)\n",
    "trecho_2018.to_csv(r'C:\\Users\\igory\\Documents\\UFRPE_periodos\\6_periodo_2024\\Modelagem_dados\\Dados_tratados\\trecho\\trecho_2018.csv', index=False)\n",
    "trecho_2019.to_csv(r'C:\\Users\\igory\\Documents\\UFRPE_periodos\\6_periodo_2024\\Modelagem_dados\\Dados_tratados\\trecho\\trecho_2019.csv', index=False)\n",
    "trecho_2020.to_csv(r'C:\\Users\\igory\\Documents\\UFRPE_periodos\\6_periodo_2024\\Modelagem_dados\\Dados_tratados\\trecho\\trecho_2020.csv', index=False)\n",
    "trecho_2021.to_csv(r'C:\\Users\\igory\\Documents\\UFRPE_periodos\\6_periodo_2024\\Modelagem_dados\\Dados_tratados\\trecho\\trecho_2021.csv', index=False)\n",
    "trecho_2022.to_csv(r'C:\\Users\\igory\\Documents\\UFRPE_periodos\\6_periodo_2024\\Modelagem_dados\\Dados_tratados\\trecho\\trecho_2022.csv', index=False)\n"
   ]
  },
  {
   "cell_type": "code",
   "execution_count": null,
   "id": "ad465481",
   "metadata": {},
   "outputs": [],
   "source": []
  },
  {
   "cell_type": "markdown",
   "id": "19d5f83b",
   "metadata": {},
   "source": [
    "# Tratamento Passagem"
   ]
  },
  {
   "cell_type": "markdown",
   "id": "f15431ab",
   "metadata": {},
   "source": [
    "Remoção de colunas desnecessárias"
   ]
  },
  {
   "cell_type": "code",
   "execution_count": null,
   "id": "16c2cb67",
   "metadata": {},
   "outputs": [],
   "source": [
    "passagem_2015.drop(['Meio de transporte', 'Número da Proposta (PCDP)'], axis=1, inplace=True)\n",
    "passagem_2016.drop(['Meio de transporte', 'Número da Proposta (PCDP)'], axis=1, inplace=True)\n",
    "passagem_2017.drop(['Meio de transporte', 'Número da Proposta (PCDP)'], axis=1, inplace=True) \n",
    "passagem_2018.drop(['Meio de transporte', 'Número da Proposta (PCDP)'], axis=1, inplace=True) \n",
    "passagem_2019.drop(['Meio de transporte', 'Número da Proposta (PCDP)'], axis=1, inplace=True) \n",
    "passagem_2020.drop(['Meio de transporte', 'Número da Proposta (PCDP)'], axis=1, inplace=True) \n",
    "passagem_2021.drop(['Meio de transporte', 'Número da Proposta (PCDP)'], axis=1, inplace=True) \n",
    "passagem_2022.drop(['Meio de transporte', 'Número da Proposta (PCDP)'], axis=1, inplace=True) \n"
   ]
  },
  {
   "cell_type": "code",
   "execution_count": null,
   "id": "87cebf1a",
   "metadata": {},
   "outputs": [],
   "source": [
    "passagem_2015.rename(columns={'Identificador do processo de viagem':'id_passagem_viagem', 'País - Origem ida':'pais_origem_ida',  'UF - Origem ida':'uf_origem_ida', 'Cidade - Origem ida':'cidade_origem_ida', 'País - Destino ida':'pais_destino_ida','UF - Destino ida':'uf_destino_ida','Cidade - Destino ida':'cidade_destino_ida', 'País - Origem volta':'pais_origem_volta','UF - Origem volta':'uf_origem_volta', 'Cidade - Origem volta':'cidade_origem_volta','Pais - Destino volta':'pais_destino_volta','UF - Destino volta':'uf_destino_volta','Cidade - Destino volta':'cidade_destino_volta','Valor da passagem':'valor_da_passagem','Taxa de serviço':'taxa_de_servico','Data da emissão/compra':'data_da_emissao_compra','Hora da emissão/compra':'hora_da_emissao_compra'},inplace=True)\n",
    "passagem_2016.rename(columns={'Identificador do processo de viagem':'id_passagem_viagem', 'País - Origem ida':'pais_origem_ida',  'UF - Origem ida':'uf_origem_ida', 'Cidade - Origem ida':'cidade_origem_ida', 'País - Destino ida':'pais_destino_ida','UF - Destino ida':'uf_destino_ida','Cidade - Destino ida':'cidade_destino_ida', 'País - Origem volta':'pais_origem_volta','UF - Origem volta':'uf_origem_volta', 'Cidade - Origem volta':'cidade_origem_volta','Pais - Destino volta':'pais_destino_volta','UF - Destino volta':'uf_destino_volta','Cidade - Destino volta':'cidade_destino_volta','Valor da passagem':'valor_da_passagem','Taxa de serviço':'taxa_de_servico','Data da emissão/compra':'data_da_emissao_compra','Hora da emissão/compra':'hora_da_emissao_compra'},inplace=True)\n",
    "passagem_2017.rename(columns={'Identificador do processo de viagem':'id_passagem_viagem', 'País - Origem ida':'pais_origem_ida',  'UF - Origem ida':'uf_origem_ida', 'Cidade - Origem ida':'cidade_origem_ida', 'País - Destino ida':'pais_destino_ida','UF - Destino ida':'uf_destino_ida','Cidade - Destino ida':'cidade_destino_ida', 'País - Origem volta':'pais_origem_volta','UF - Origem volta':'uf_origem_volta', 'Cidade - Origem volta':'cidade_origem_volta','Pais - Destino volta':'pais_destino_volta','UF - Destino volta':'uf_destino_volta','Cidade - Destino volta':'cidade_destino_volta','Valor da passagem':'valor_da_passagem','Taxa de serviço':'taxa_de_servico','Data da emissão/compra':'data_da_emissao_compra','Hora da emissão/compra':'hora_da_emissao_compra'},inplace=True)\n",
    "passagem_2018.rename(columns={'Identificador do processo de viagem':'id_passagem_viagem', 'País - Origem ida':'pais_origem_ida',  'UF - Origem ida':'uf_origem_ida', 'Cidade - Origem ida':'cidade_origem_ida', 'País - Destino ida':'pais_destino_ida','UF - Destino ida':'uf_destino_ida','Cidade - Destino ida':'cidade_destino_ida', 'País - Origem volta':'pais_origem_volta','UF - Origem volta':'uf_origem_volta', 'Cidade - Origem volta':'cidade_origem_volta','Pais - Destino volta':'pais_destino_volta','UF - Destino volta':'uf_destino_volta','Cidade - Destino volta':'cidade_destino_volta','Valor da passagem':'valor_da_passagem','Taxa de serviço':'taxa_de_servico','Data da emissão/compra':'data_da_emissao_compra','Hora da emissão/compra':'hora_da_emissao_compra'},inplace=True)\n",
    "passagem_2019.rename(columns={'Identificador do processo de viagem':'id_passagem_viagem', 'País - Origem ida':'pais_origem_ida',  'UF - Origem ida':'uf_origem_ida', 'Cidade - Origem ida':'cidade_origem_ida', 'País - Destino ida':'pais_destino_ida','UF - Destino ida':'uf_destino_ida','Cidade - Destino ida':'cidade_destino_ida', 'País - Origem volta':'pais_origem_volta','UF - Origem volta':'uf_origem_volta', 'Cidade - Origem volta':'cidade_origem_volta','Pais - Destino volta':'pais_destino_volta','UF - Destino volta':'uf_destino_volta','Cidade - Destino volta':'cidade_destino_volta','Valor da passagem':'valor_da_passagem','Taxa de serviço':'taxa_de_servico','Data da emissão/compra':'data_da_emissao_compra','Hora da emissão/compra':'hora_da_emissao_compra'},inplace=True)\n",
    "passagem_2020.rename(columns={'Identificador do processo de viagem':'id_passagem_viagem', 'País - Origem ida':'pais_origem_ida',  'UF - Origem ida':'uf_origem_ida', 'Cidade - Origem ida':'cidade_origem_ida', 'País - Destino ida':'pais_destino_ida','UF - Destino ida':'uf_destino_ida','Cidade - Destino ida':'cidade_destino_ida', 'País - Origem volta':'pais_origem_volta','UF - Origem volta':'uf_origem_volta', 'Cidade - Origem volta':'cidade_origem_volta','Pais - Destino volta':'pais_destino_volta','UF - Destino volta':'uf_destino_volta','Cidade - Destino volta':'cidade_destino_volta','Valor da passagem':'valor_da_passagem','Taxa de serviço':'taxa_de_servico','Data da emissão/compra':'data_da_emissao_compra','Hora da emissão/compra':'hora_da_emissao_compra'},inplace=True)\n",
    "passagem_2021.rename(columns={'Identificador do processo de viagem':'id_passagem_viagem', 'País - Origem ida':'pais_origem_ida',  'UF - Origem ida':'uf_origem_ida', 'Cidade - Origem ida':'cidade_origem_ida', 'País - Destino ida':'pais_destino_ida','UF - Destino ida':'uf_destino_ida','Cidade - Destino ida':'cidade_destino_ida', 'País - Origem volta':'pais_origem_volta','UF - Origem volta':'uf_origem_volta', 'Cidade - Origem volta':'cidade_origem_volta','Pais - Destino volta':'pais_destino_volta','UF - Destino volta':'uf_destino_volta','Cidade - Destino volta':'cidade_destino_volta','Valor da passagem':'valor_da_passagem','Taxa de serviço':'taxa_de_servico','Data da emissão/compra':'data_da_emissao_compra','Hora da emissão/compra':'hora_da_emissao_compra'},inplace=True)\n",
    "passagem_2022.rename(columns={'Identificador do processo de viagem':'id_passagem_viagem', 'País - Origem ida':'pais_origem_ida',  'UF - Origem ida':'uf_origem_ida', 'Cidade - Origem ida':'cidade_origem_ida', 'País - Destino ida':'pais_destino_ida','UF - Destino ida':'uf_destino_ida','Cidade - Destino ida':'cidade_destino_ida', 'País - Origem volta':'pais_origem_volta','UF - Origem volta':'uf_origem_volta', 'Cidade - Origem volta':'cidade_origem_volta','Pais - Destino volta':'pais_destino_volta','UF - Destino volta':'uf_destino_volta','Cidade - Destino volta':'cidade_destino_volta','Valor da passagem':'valor_da_passagem','Taxa de serviço':'taxa_de_servico','Data da emissão/compra':'data_da_emissao_compra','Hora da emissão/compra':'hora_da_emissao_compra'},inplace=True)"
   ]
  },
  {
   "cell_type": "code",
   "execution_count": null,
   "id": "05ac1df5",
   "metadata": {},
   "outputs": [],
   "source": [
    "passagem_2015['data_da_emissao_compra'] = pd.to_datetime(passagem_2015['data_da_emissao_compra'], format='%d/%m/%Y')\n",
    "passagem_2015['data_da_emissao_compra'] = passagem_2015['data_da_emissao_compra'].dt.strftime('%Y-%m-%d')\n",
    "\n",
    "passagem_2016['data_da_emissao_compra'] = pd.to_datetime(passagem_2016['data_da_emissao_compra'], format='%d/%m/%Y')\n",
    "passagem_2016['data_da_emissao_compra'] = passagem_2016['data_da_emissao_compra'].dt.strftime('%Y-%m-%d')\n",
    "\n",
    "passagem_2017['data_da_emissao_compra'] = pd.to_datetime(passagem_2017['data_da_emissao_compra'], format='%d/%m/%Y')\n",
    "passagem_2017['data_da_emissao_compra'] = passagem_2017['data_da_emissao_compra'].dt.strftime('%Y-%m-%d')\n",
    "\n",
    "passagem_2018['data_da_emissao_compra'] = pd.to_datetime(passagem_2018['data_da_emissao_compra'], format='%d/%m/%Y')\n",
    "passagem_2018['data_da_emissao_compra'] = passagem_2018['data_da_emissao_compra'].dt.strftime('%Y-%m-%d')\n",
    "\n",
    "passagem_2019['data_da_emissao_compra'] = pd.to_datetime(passagem_2019['data_da_emissao_compra'], format='%d/%m/%Y')\n",
    "passagem_2019['data_da_emissao_compra'] = passagem_2019['data_da_emissao_compra'].dt.strftime('%Y-%m-%d')\n",
    "\n",
    "passagem_2020['data_da_emissao_compra'] = pd.to_datetime(passagem_2020['data_da_emissao_compra'], format='%d/%m/%Y')\n",
    "passagem_2020['data_da_emissao_compra'] = passagem_2020['data_da_emissao_compra'].dt.strftime('%Y-%m-%d')\n",
    "\n",
    "passagem_2021['data_da_emissao_compra'] = pd.to_datetime(passagem_2021['data_da_emissao_compra'], format='%d/%m/%Y')\n",
    "passagem_2021['data_da_emissao_compra'] = passagem_2021['data_da_emissao_compra'].dt.strftime('%Y-%m-%d')\n",
    "\n",
    "passagem_2022['data_da_emissao_compra'] = pd.to_datetime(passagem_2022['data_da_emissao_compra'], format='%d/%m/%Y')\n",
    "passagem_2022['data_da_emissao_compra'] = passagem_2022['data_da_emissao_compra'].dt.strftime('%Y-%m-%d')\n",
    "\n",
    "\n",
    "colunas_decimal = ['valor_da_passagem','taxa_de_servico']\n",
    "\n",
    "for coluna in colunas_decimal:\n",
    "    passagem_2015[coluna] = passagem_2015[coluna].str.replace(',', '.').astype(float)\n",
    "    passagem_2016[coluna] = passagem_2016[coluna].str.replace(',', '.').astype(float)\n",
    "    passagem_2017[coluna] = passagem_2017[coluna].str.replace(',', '.').astype(float)\n",
    "    passagem_2018[coluna] = passagem_2018[coluna].str.replace(',', '.').astype(float)\n",
    "    passagem_2019[coluna] = passagem_2019[coluna].str.replace(',', '.').astype(float)\n",
    "    passagem_2020[coluna] = passagem_2020[coluna].str.replace(',', '.').astype(float)\n",
    "    passagem_2021[coluna] = passagem_2021[coluna].str.replace(',', '.').astype(float)\n",
    "    passagem_2022[coluna] = passagem_2022[coluna].str.replace(',', '.').astype(float) "
   ]
  },
  {
   "cell_type": "code",
   "execution_count": null,
   "id": "37d2d2e0",
   "metadata": {},
   "outputs": [],
   "source": [
    "passagem_2015.to_csv(r'C:\\Users\\igory\\Documents\\UFRPE_periodos\\6_periodo_2024\\Modelagem_dados\\Dados_tratados\\passagem\\passagem_2015.csv', index=False)\n",
    "passagem_2016.to_csv(r'C:\\Users\\igory\\Documents\\UFRPE_periodos\\6_periodo_2024\\Modelagem_dados\\Dados_tratados\\passagem\\passagem_2016.csv', index=False)\n",
    "passagem_2017.to_csv(r'C:\\Users\\igory\\Documents\\UFRPE_periodos\\6_periodo_2024\\Modelagem_dados\\Dados_tratados\\passagem\\passagem_2017.csv', index=False)\n",
    "passagem_2018.to_csv(r'C:\\Users\\igory\\Documents\\UFRPE_periodos\\6_periodo_2024\\Modelagem_dados\\Dados_tratados\\passagem\\passagem_2018.csv', index=False)\n",
    "passagem_2019.to_csv(r'C:\\Users\\igory\\Documents\\UFRPE_periodos\\6_periodo_2024\\Modelagem_dados\\Dados_tratados\\passagem\\passagem_2019.csv', index=False)\n",
    "passagem_2020.to_csv(r'C:\\Users\\igory\\Documents\\UFRPE_periodos\\6_periodo_2024\\Modelagem_dados\\Dados_tratados\\passagem\\passagem_2020.csv', index=False)\n",
    "passagem_2021.to_csv(r'C:\\Users\\igory\\Documents\\UFRPE_periodos\\6_periodo_2024\\Modelagem_dados\\Dados_tratados\\passagem\\passagem_2021.csv', index=False)\n",
    "passagem_2022.to_csv(r'C:\\Users\\igory\\Documents\\UFRPE_periodos\\6_periodo_2024\\Modelagem_dados\\Dados_tratados\\passagem\\passagem_2022.csv', index=False)"
   ]
  },
  {
   "cell_type": "code",
   "execution_count": null,
   "id": "c3893e67",
   "metadata": {},
   "outputs": [],
   "source": [
    "viajante_2015.columns\n"
   ]
  },
  {
   "cell_type": "code",
   "execution_count": null,
   "id": "7769ae67",
   "metadata": {},
   "outputs": [],
   "source": [
    "viagem_2015.columns\n"
   ]
  },
  {
   "cell_type": "code",
   "execution_count": null,
   "id": "8cabe694",
   "metadata": {},
   "outputs": [],
   "source": [
    "orgao_superior_2015.columns"
   ]
  },
  {
   "cell_type": "code",
   "execution_count": null,
   "id": "f0b1c03c",
   "metadata": {},
   "outputs": [],
   "source": [
    "trecho_2015.columns\n"
   ]
  },
  {
   "cell_type": "code",
   "execution_count": null,
   "id": "494b3e95",
   "metadata": {},
   "outputs": [],
   "source": [
    "passagem_2015.columns\n"
   ]
  },
  {
   "cell_type": "code",
   "execution_count": null,
   "id": "74b297cd",
   "metadata": {},
   "outputs": [],
   "source": [
    "pagamento_2015.columns"
   ]
  }
 ],
 "metadata": {
  "kernelspec": {
   "display_name": "Python 3 (ipykernel)",
   "language": "python",
   "name": "python3"
  },
  "language_info": {
   "codemirror_mode": {
    "name": "ipython",
    "version": 3
   },
   "file_extension": ".py",
   "mimetype": "text/x-python",
   "name": "python",
   "nbconvert_exporter": "python",
   "pygments_lexer": "ipython3",
   "version": "3.11.7"
  }
 },
 "nbformat": 4,
 "nbformat_minor": 5
}
