{
 "cells": [
  {
   "cell_type": "code",
   "execution_count": 2,
   "metadata": {},
   "outputs": [],
   "source": [
    "import pandas as pd"
   ]
  },
  {
   "cell_type": "code",
   "execution_count": 1,
   "metadata": {},
   "outputs": [],
   "source": [
    "## Path Igor\n",
    "path = r\"C:\\Users\\Igor\\Modelagem_dados\""
   ]
  },
  {
   "cell_type": "code",
   "execution_count": 32,
   "metadata": {},
   "outputs": [],
   "source": [
    "#Incluindo Pagamento\n",
    "pagamento_2018 = pd.read_csv(path+r\"\\Pagamento\\pagamento_2018.csv\", sep=\",\", encoding= \"ISO-8859-1\")\n",
    "pagamento_2019 = pd.read_csv(path+r\"\\Pagamento\\pagamento_2019.csv\", sep=\",\", encoding= \"ISO-8859-1\")\n",
    "pagamento_2020 = pd.read_csv(path+r\"\\Pagamento\\pagamento_2020.csv\", sep=\",\", encoding= \"ISO-8859-1\")\n",
    "pagamento_2021 = pd.read_csv(path+r\"\\Pagamento\\pagamento_2021.csv\", sep=\",\", encoding= \"ISO-8859-1\")\n",
    "pagamento_2022 = pd.read_csv(path+r\"\\Pagamento\\pagamento_2022.csv\", sep=\",\", encoding= \"ISO-8859-1\")"
   ]
  },
  {
   "cell_type": "code",
   "execution_count": 34,
   "metadata": {},
   "outputs": [],
   "source": [
    "#Incluindo Passagem\n",
    "passagem_2018 = pd.read_csv(path+r\"\\Passagem\\passagem_2018.csv\", sep=\",\", encoding= \"ISO-8859-1\")\n",
    "passagem_2019 = pd.read_csv(path+r\"\\Passagem\\passagem_2019.csv\", sep=\",\", encoding= \"ISO-8859-1\")\n",
    "passagem_2020 = pd.read_csv(path+r\"\\Passagem\\passagem_2020.csv\", sep=\",\", encoding= \"ISO-8859-1\")\n",
    "passagem_2021 = pd.read_csv(path+r\"\\Passagem\\passagem_2021.csv\", sep=\",\", encoding= \"ISO-8859-1\")\n",
    "passagem_2022 = pd.read_csv(path+r\"\\Passagem\\passagem_2022.csv\", sep=\",\", encoding= \"ISO-8859-1\")"
   ]
  },
  {
   "cell_type": "code",
   "execution_count": 35,
   "metadata": {},
   "outputs": [],
   "source": [
    "#Incluindo Trecho\n",
    "trecho_2018 = pd.read_csv(path+r\"\\Trecho\\trecho_2018.csv\", sep=\",\", encoding= \"ISO-8859-1\")\n",
    "trecho_2019 = pd.read_csv(path+r\"\\Trecho\\trecho_2019.csv\", sep=\",\", encoding= \"ISO-8859-1\")\n",
    "trecho_2020 = pd.read_csv(path+r\"\\Trecho\\trecho_2020.csv\", sep=\",\", encoding= \"ISO-8859-1\")\n",
    "trecho_2021 = pd.read_csv(path+r\"\\Trecho\\trecho_2021.csv\", sep=\",\", encoding= \"ISO-8859-1\")\n",
    "trecho_2022 = pd.read_csv(path+r\"\\Trecho\\trecho_2022.csv\", sep=\",\", encoding= \"ISO-8859-1\")"
   ]
  },
  {
   "cell_type": "code",
   "execution_count": 47,
   "metadata": {},
   "outputs": [],
   "source": [
    "#Incluindo Viagem\n",
    "viagem_2018 = pd.read_csv(path+r\"\\Viagem\\viagem_2018.csv\", sep=\",\", encoding= \"ISO-8859-1\")\n",
    "viagem_2019 = pd.read_csv(path+r\"\\Viagem\\viagem_2019.csv\", sep=\",\", encoding= \"ISO-8859-1\")\n",
    "viagem_2020 = pd.read_csv(path+r\"\\Viagem\\viagem_2020.csv\", sep=\",\", encoding= \"ISO-8859-1\")\n",
    "viagem_2021 = pd.read_csv(path+r\"\\Viagem\\viagem_2021.csv\", sep=\",\", encoding= \"ISO-8859-1\")\n",
    "viagem_2022 = pd.read_csv(path+r\"\\Viagem\\viagem_2022.csv\", sep=\",\", encoding= \"ISO-8859-1\")"
   ]
  },
  {
   "cell_type": "code",
   "execution_count": 37,
   "metadata": {},
   "outputs": [],
   "source": [
    "#Incluindo Orgão Superior\n",
    "orgao_sup = pd.read_csv(path+r\"\\Orgao_Superior\\orgao_superior.csv\", sep=\",\", encoding= \"ISO-8859-1\")"
   ]
  },
  {
   "cell_type": "code",
   "execution_count": 38,
   "metadata": {},
   "outputs": [],
   "source": [
    "#Incluindo Viajante\n",
    "viajante = pd.read_csv(path+r\"\\Viajante\\viajante.csv\", sep=\",\", encoding= \"ISO-8859-1\")"
   ]
  },
  {
   "cell_type": "code",
   "execution_count": null,
   "metadata": {},
   "outputs": [],
   "source": [
    "viajante.columns"
   ]
  },
  {
   "cell_type": "code",
   "execution_count": null,
   "metadata": {},
   "outputs": [],
   "source": [
    "orgao_sup.columns"
   ]
  },
  {
   "cell_type": "code",
   "execution_count": null,
   "metadata": {},
   "outputs": [],
   "source": [
    "viagem_2018.columns"
   ]
  },
  {
   "cell_type": "code",
   "execution_count": null,
   "metadata": {},
   "outputs": [],
   "source": [
    "trecho_2018.columns"
   ]
  },
  {
   "cell_type": "code",
   "execution_count": null,
   "metadata": {},
   "outputs": [],
   "source": [
    "pagamento_2018.columns"
   ]
  },
  {
   "cell_type": "code",
   "execution_count": null,
   "metadata": {},
   "outputs": [],
   "source": [
    "passagem_2018.columns"
   ]
  },
  {
   "cell_type": "markdown",
   "metadata": {},
   "source": [
    "#TRATAMENTO PARTE 1"
   ]
  },
  {
   "cell_type": "code",
   "execution_count": 46,
   "metadata": {},
   "outputs": [],
   "source": [
    "#MUDANDO NOME DO ID\n",
    "pagamento_2018.rename(columns={'id_pagamento_viagem':'id_custos'}, inplace=True)\n",
    "pagamento_2019.rename(columns={'id_pagamento_viagem':'id_custos'}, inplace=True)\n",
    "pagamento_2020.rename(columns={'id_pagamento_viagem':'id_custos'}, inplace=True)\n",
    "pagamento_2021.rename(columns={'id_pagamento_viagem':'id_custos'}, inplace=True)\n",
    "pagamento_2022.rename(columns={'id_pagamento_viagem':'id_custos'}, inplace=True)"
   ]
  },
  {
   "cell_type": "code",
   "execution_count": 44,
   "metadata": {},
   "outputs": [],
   "source": [
    "#REMOVENDO COLUNA CODIGO ORGAO SUPERIOR\n",
    "pagamento_2018.drop(columns=['codigo_orgao_superior'], inplace=True)\n",
    "pagamento_2019.drop(columns=['codigo_orgao_superior'], inplace=True)\n",
    "pagamento_2020.drop(columns=['codigo_orgao_superior'], inplace=True)\n",
    "pagamento_2021.drop(columns=['codigo_orgao_superior'], inplace=True)\n",
    "pagamento_2022.drop(columns=['codigo_orgao_superior'], inplace=True)"
   ]
  },
  {
   "cell_type": "code",
   "execution_count": 49,
   "metadata": {},
   "outputs": [],
   "source": [
    "#MAJUSTANDO NOME COLUNA VALOR DA PASSAGEM\n",
    "viagem_2018.rename(columns={'valor_passagem':'valor_da_passagem'}, inplace=True)\n",
    "viagem_2019.rename(columns={'valor_passagem':'valor_da_passagem'}, inplace=True)\n",
    "viagem_2020.rename(columns={'valor_passagem':'valor_da_passagem'}, inplace=True)\n",
    "viagem_2021.rename(columns={'valor_passagem':'valor_da_passagem'}, inplace=True)\n",
    "viagem_2022.rename(columns={'valor_passagem':'valor_da_passagem'}, inplace=True)"
   ]
  },
  {
   "cell_type": "code",
   "execution_count": 100,
   "metadata": {},
   "outputs": [],
   "source": [
    "#AJUSTANDO NOME COLUNA TAXA DE SERVICO\n",
    "passagem_2018.rename(columns={'taxa_servico':'taxa_de_servico'}, inplace=True)\n",
    "passagem_2019.rename(columns={'taxa_servico':'taxa_de_servico'}, inplace=True)\n",
    "passagem_2020.rename(columns={'taxa_servico':'taxa_de_servico'}, inplace=True)\n",
    "passagem_2021.rename(columns={'taxa_servico':'taxa_de_servico'}, inplace=True)\n",
    "passagem_2022.rename(columns={'taxa_servico':'taxa_de_servico'}, inplace=True)"
   ]
  },
  {
   "cell_type": "code",
   "execution_count": 101,
   "metadata": {},
   "outputs": [],
   "source": [
    "#MERGE PAGAMENTO PEGANDO COLUNAS QUE ESTAVAM NA DE VIAGEM\n",
    "pagamento_2018_merged = pagamento_2018.merge(\n",
    "    viagem_2018[['id_processo_viagem', 'valor_diarias', 'valor_da_passagem', 'valor_devolucao', 'valor_outros_gastos']],\n",
    "    left_on='id_custos',\n",
    "    right_on='id_processo_viagem',\n",
    "    how='left'\n",
    ")\n",
    "pagamento_2019_merged = pagamento_2019.merge(\n",
    "    viagem_2019[['id_processo_viagem', 'valor_diarias', 'valor_da_passagem', 'valor_devolucao', 'valor_outros_gastos']],\n",
    "    left_on='id_custos',\n",
    "    right_on='id_processo_viagem',\n",
    "    how='left'\n",
    ")\n",
    "pagamento_2020_merged = pagamento_2020.merge(\n",
    "    viagem_2020[['id_processo_viagem', 'valor_diarias', 'valor_da_passagem', 'valor_devolucao', 'valor_outros_gastos']],\n",
    "    left_on='id_custos',\n",
    "    right_on='id_processo_viagem',\n",
    "    how='left'\n",
    ")\n",
    "pagamento_2021_merged = pagamento_2021.merge(\n",
    "    viagem_2021[['id_processo_viagem', 'valor_diarias', 'valor_da_passagem', 'valor_devolucao', 'valor_outros_gastos']],\n",
    "    left_on='id_custos',\n",
    "    right_on='id_processo_viagem',\n",
    "    how='left'\n",
    ")\n",
    "pagamento_2022_merged = pagamento_2022.merge(\n",
    "    viagem_2022[['id_processo_viagem', 'valor_diarias', 'valor_da_passagem', 'valor_devolucao', 'valor_outros_gastos']],\n",
    "    left_on='id_custos',\n",
    "    right_on='id_processo_viagem',\n",
    "    how='left'\n",
    ")"
   ]
  },
  {
   "cell_type": "code",
   "execution_count": 102,
   "metadata": {},
   "outputs": [],
   "source": [
    "#MERGE PAGAMENTO PEGANDO COLUNAS QUE ESTAVAM NA DE PASSAGEM\n",
    "dimensao_custos_2018 = pagamento_2018_merged.merge(\n",
    "    passagem_2018[['id_passagem_viagem', 'taxa_de_servico']],\n",
    "    left_on='id_custos',\n",
    "    right_on='id_passagem_viagem',\n",
    "    how='left'\n",
    ")\n",
    "dimensao_custos_2019 = pagamento_2019_merged.merge(\n",
    "    passagem_2019[['id_passagem_viagem', 'taxa_de_servico']],\n",
    "    left_on='id_custos',\n",
    "    right_on='id_passagem_viagem',\n",
    "    how='left'\n",
    ")\n",
    "dimensao_custos_2020 = pagamento_2020_merged.merge(\n",
    "    passagem_2020[['id_passagem_viagem', 'taxa_de_servico']],\n",
    "    left_on='id_custos',\n",
    "    right_on='id_passagem_viagem',\n",
    "    how='left'\n",
    ")\n",
    "dimensao_custos_2021 = pagamento_2021_merged.merge(\n",
    "    passagem_2021[['id_passagem_viagem', 'taxa_de_servico']],\n",
    "    left_on='id_custos',\n",
    "    right_on='id_passagem_viagem',\n",
    "    how='left'\n",
    ")\n",
    "dimensao_custos_2022 = pagamento_2022_merged.merge(\n",
    "    passagem_2022[['id_passagem_viagem', 'taxa_de_servico']],\n",
    "    left_on='id_custos',\n",
    "    right_on='id_passagem_viagem',\n",
    "    how='left'\n",
    ")"
   ]
  },
  {
   "cell_type": "code",
   "execution_count": 103,
   "metadata": {},
   "outputs": [],
   "source": [
    "#DROPANDO COLUNAS TRANSFERIDAS INUTILIZAVEIS EM CUSTOS\n",
    "dimensao_custos_2018.drop(columns=['id_processo_viagem'], inplace=True)\n",
    "dimensao_custos_2018.drop(columns=['id_passagem_viagem'], inplace=True)\n",
    "\n",
    "dimensao_custos_2019.drop(columns=['id_processo_viagem'], inplace=True)\n",
    "dimensao_custos_2019.drop(columns=['id_passagem_viagem'], inplace=True)\n",
    "\n",
    "dimensao_custos_2020.drop(columns=['id_processo_viagem'], inplace=True)\n",
    "dimensao_custos_2020.drop(columns=['id_passagem_viagem'], inplace=True)\n",
    "\n",
    "dimensao_custos_2021.drop(columns=['id_processo_viagem'], inplace=True)\n",
    "dimensao_custos_2021.drop(columns=['id_passagem_viagem'], inplace=True)\n",
    "\n",
    "dimensao_custos_2022.drop(columns=['id_processo_viagem'], inplace=True)\n",
    "dimensao_custos_2022.drop(columns=['id_passagem_viagem'], inplace=True)"
   ]
  },
  {
   "cell_type": "code",
   "execution_count": 113,
   "metadata": {},
   "outputs": [],
   "source": [
    "#DROPANDO COLUNAS TRANSFERIDAS EM VIAGEM\n",
    "viagem_2018.drop(columns=['valor_diarias', 'valor_da_passagem', 'valor_devolucao', 'valor_outros_gastos'], inplace=True)\n",
    "viagem_2019.drop(columns=['valor_diarias', 'valor_da_passagem', 'valor_devolucao', 'valor_outros_gastos'], inplace=True)\n",
    "viagem_2020.drop(columns=['valor_diarias', 'valor_da_passagem', 'valor_devolucao', 'valor_outros_gastos'], inplace=True)\n",
    "viagem_2021.drop(columns=['valor_diarias', 'valor_da_passagem', 'valor_devolucao', 'valor_outros_gastos'], inplace=True)\n",
    "viagem_2022.drop(columns=['valor_diarias', 'valor_da_passagem', 'valor_devolucao', 'valor_outros_gastos'], inplace=True)"
   ]
  },
  {
   "cell_type": "code",
   "execution_count": 115,
   "metadata": {},
   "outputs": [],
   "source": [
    "#DROPANDO COLUNAS TRANSFERIDAS EM PASSAGEM\n",
    "passagem_2018.drop(columns=['taxa_de_servico'], inplace=True)\n",
    "passagem_2019.drop(columns=['taxa_de_servico'], inplace=True)\n",
    "passagem_2020.drop(columns=['taxa_de_servico'], inplace=True)\n",
    "passagem_2021.drop(columns=['taxa_de_servico'], inplace=True)\n",
    "passagem_2022.drop(columns=['taxa_de_servico'], inplace=True)"
   ]
  },
  {
   "cell_type": "code",
   "execution_count": null,
   "metadata": {},
   "outputs": [],
   "source": [
    "#TESTANDO RESULTADO (MUDAR ANO PARA TESTAR OS OUTROS)\n",
    "dimensao_custos_2022.columns"
   ]
  },
  {
   "cell_type": "code",
   "execution_count": null,
   "metadata": {},
   "outputs": [],
   "source": [
    "#TESTANDO RESULTADO (MUDAR ANO PARA TESTAR OS OUTROS)\n",
    "viagem_2018.columns"
   ]
  },
  {
   "cell_type": "code",
   "execution_count": null,
   "metadata": {},
   "outputs": [],
   "source": [
    "#TESTANDO RESULTADO (MUDAR ANO PARA TESTAR OS OUTROS)\n",
    "passagem_2020.columns"
   ]
  },
  {
   "cell_type": "code",
   "execution_count": 112,
   "metadata": {},
   "outputs": [],
   "source": [
    "#EXPORTANDO DIMENSAO CUSTOS\n",
    "dimensao_custos_2018.to_csv(r'C:\\Users\\Igor\\Modelagem_dados\\Dimensao_Custos\\dim_custos_2018.csv', index=False)\n",
    "dimensao_custos_2019.to_csv(r'C:\\Users\\Igor\\Modelagem_dados\\Dimensao_Custos\\dim_custos_2019.csv', index=False)\n",
    "dimensao_custos_2020.to_csv(r'C:\\Users\\Igor\\Modelagem_dados\\Dimensao_Custos\\dim_custos_2020.csv', index=False)\n",
    "dimensao_custos_2021.to_csv(r'C:\\Users\\Igor\\Modelagem_dados\\Dimensao_Custos\\dim_custos_2021.csv', index=False)\n",
    "dimensao_custos_2022.to_csv(r'C:\\Users\\Igor\\Modelagem_dados\\Dimensao_Custos\\dim_custos_2022.csv', index=False)"
   ]
  }
 ],
 "metadata": {
  "kernelspec": {
   "display_name": "Python 3",
   "language": "python",
   "name": "python3"
  },
  "language_info": {
   "codemirror_mode": {
    "name": "ipython",
    "version": 3
   },
   "file_extension": ".py",
   "mimetype": "text/x-python",
   "name": "python",
   "nbconvert_exporter": "python",
   "pygments_lexer": "ipython3",
   "version": "3.10.11"
  }
 },
 "nbformat": 4,
 "nbformat_minor": 2
}
